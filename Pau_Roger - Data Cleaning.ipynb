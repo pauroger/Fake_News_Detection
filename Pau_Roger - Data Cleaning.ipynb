{
 "cells": [
  {
   "cell_type": "markdown",
   "metadata": {},
   "source": [
    "[![Image from Gyazo](https://i.gyazo.com/2ea8e65b2ca18b372527bc2a1e3838c0.png)](https://gyazo.com/2ea8e65b2ca18b372527bc2a1e3838c0)\n",
    "\n",
    "# NLP -  Data Cleaning\n",
    "\n",
    "## Fake News Detection"
   ]
  },
  {
   "cell_type": "markdown",
   "metadata": {},
   "source": [
    "                                             Pau Roger Puig-Sureda\n",
    "                                             15/05/2018"
   ]
  },
  {
   "cell_type": "markdown",
   "metadata": {},
   "source": [
    "### Import Libraries"
   ]
  },
  {
   "cell_type": "code",
   "execution_count": 1,
   "metadata": {},
   "outputs": [],
   "source": [
    "import numpy as np\n",
    "import pandas as pd\n",
    "import seaborn as sns\n",
    "from collections import Counter\n",
    "import warnings\n",
    "warnings.filterwarnings('ignore')"
   ]
  },
  {
   "cell_type": "markdown",
   "metadata": {},
   "source": [
    "### Import & Explore train data"
   ]
  },
  {
   "cell_type": "code",
   "execution_count": 2,
   "metadata": {},
   "outputs": [
    {
     "data": {
      "text/html": [
       "<div>\n",
       "<style scoped>\n",
       "    .dataframe tbody tr th:only-of-type {\n",
       "        vertical-align: middle;\n",
       "    }\n",
       "\n",
       "    .dataframe tbody tr th {\n",
       "        vertical-align: top;\n",
       "    }\n",
       "\n",
       "    .dataframe thead th {\n",
       "        text-align: right;\n",
       "    }\n",
       "</style>\n",
       "<table border=\"1\" class=\"dataframe\">\n",
       "  <thead>\n",
       "    <tr style=\"text-align: right;\">\n",
       "      <th></th>\n",
       "      <th>ID</th>\n",
       "      <th>title</th>\n",
       "      <th>text</th>\n",
       "      <th>label</th>\n",
       "      <th>X1</th>\n",
       "      <th>X2</th>\n",
       "    </tr>\n",
       "  </thead>\n",
       "  <tbody>\n",
       "    <tr>\n",
       "      <th>0</th>\n",
       "      <td>8476</td>\n",
       "      <td>You Can Smell Hillary’s Fear</td>\n",
       "      <td>Daniel Greenfield, a Shillman Journalism Fello...</td>\n",
       "      <td>FAKE</td>\n",
       "      <td>NaN</td>\n",
       "      <td>NaN</td>\n",
       "    </tr>\n",
       "    <tr>\n",
       "      <th>1</th>\n",
       "      <td>10294</td>\n",
       "      <td>Watch The Exact Moment Paul Ryan Committed Pol...</td>\n",
       "      <td>Google Pinterest Digg Linkedin Reddit Stumbleu...</td>\n",
       "      <td>FAKE</td>\n",
       "      <td>NaN</td>\n",
       "      <td>NaN</td>\n",
       "    </tr>\n",
       "    <tr>\n",
       "      <th>2</th>\n",
       "      <td>3608</td>\n",
       "      <td>Kerry to go to Paris in gesture of sympathy</td>\n",
       "      <td>U.S. Secretary of State John F. Kerry said Mon...</td>\n",
       "      <td>REAL</td>\n",
       "      <td>NaN</td>\n",
       "      <td>NaN</td>\n",
       "    </tr>\n",
       "  </tbody>\n",
       "</table>\n",
       "</div>"
      ],
      "text/plain": [
       "      ID                                              title  \\\n",
       "0   8476                       You Can Smell Hillary’s Fear   \n",
       "1  10294  Watch The Exact Moment Paul Ryan Committed Pol...   \n",
       "2   3608        Kerry to go to Paris in gesture of sympathy   \n",
       "\n",
       "                                                text label   X1   X2  \n",
       "0  Daniel Greenfield, a Shillman Journalism Fello...  FAKE  NaN  NaN  \n",
       "1  Google Pinterest Digg Linkedin Reddit Stumbleu...  FAKE  NaN  NaN  \n",
       "2  U.S. Secretary of State John F. Kerry said Mon...  REAL  NaN  NaN  "
      ]
     },
     "execution_count": 2,
     "metadata": {},
     "output_type": "execute_result"
    }
   ],
   "source": [
    "train = pd.read_csv('fake_or_real_news_training.csv')\n",
    "train.head(3)"
   ]
  },
  {
   "cell_type": "markdown",
   "metadata": {},
   "source": [
    "Sample:"
   ]
  },
  {
   "cell_type": "code",
   "execution_count": 3,
   "metadata": {},
   "outputs": [
    {
     "data": {
      "text/plain": [
       "ID                                                    8476\n",
       "title                         You Can Smell Hillary’s Fear\n",
       "text     Daniel Greenfield, a Shillman Journalism Fello...\n",
       "label                                                 FAKE\n",
       "X1                                                     NaN\n",
       "X2                                                     NaN\n",
       "Name: 0, dtype: object"
      ]
     },
     "execution_count": 3,
     "metadata": {},
     "output_type": "execute_result"
    }
   ],
   "source": [
    "train.loc[0]"
   ]
  },
  {
   "cell_type": "code",
   "execution_count": 4,
   "metadata": {},
   "outputs": [
    {
     "data": {
      "text/plain": [
       "'You Can Smell Hillary’s Fear'"
      ]
     },
     "execution_count": 4,
     "metadata": {},
     "output_type": "execute_result"
    }
   ],
   "source": [
    "train.loc[0]['title']"
   ]
  },
  {
   "cell_type": "code",
   "execution_count": 5,
   "metadata": {
    "scrolled": true
   },
   "outputs": [
    {
     "data": {
      "text/plain": [
       "'Daniel Greenfield, a Shillman Journalism Fellow at the Freedom Center, is a New York writer focusing on radical Islam. \\nIn the final stretch of the election, Hillary Rodham Clinton has gone to war with the FBI. \\nThe word “unprecedented” has been thrown around so often this election that it ought to be retired. But it’s still unprecedented for the nominee of a major political party to go war with the FBI. \\nBut that’s exactly what Hillary and her people have done. Coma patients just waking up now and watching an hour of CNN from their hospital beds would assume that FBI Director James Comey is Hillary’s opponent in this election. \\nThe FBI is under attack by everyone from Obama to CNN. Hillary’s people have circulated a letter attacking Comey. There are currently more media hit pieces lambasting him than targeting Trump. It wouldn’t be too surprising if the Clintons or their allies were to start running attack ads against the FBI. \\nThe FBI’s leadership is being warned that the entire left-wing establishment will form a lynch mob if they continue going after Hillary. And the FBI’s credibility is being attacked by the media and the Democrats to preemptively head off the results of the investigation of the Clinton Foundation and Hillary Clinton. \\nThe covert struggle between FBI agents and Obama’s DOJ people has gone explosively public. \\nThe New York Times has compared Comey to J. Edgar Hoover. Its bizarre headline, “James Comey Role Recalls Hoover’s FBI, Fairly or Not” practically admits up front that it’s spouting nonsense. The Boston Globe has published a column calling for Comey’s resignation. Not to be outdone, Time has an editorial claiming that the scandal is really an attack on all women. \\nJames Carville appeared on MSNBC to remind everyone that he was still alive and insane. He accused Comey of coordinating with House Republicans and the KGB. And you thought the “vast right wing conspiracy” was a stretch. \\nCountless media stories charge Comey with violating procedure. Do you know what’s a procedural violation? Emailing classified information stored on your bathroom server. \\nSenator Harry Reid has sent Comey a letter accusing him of violating the Hatch Act. The Hatch Act is a nice idea that has as much relevance in the age of Obama as the Tenth Amendment. But the cable news spectrum quickly filled with media hacks glancing at the Wikipedia article on the Hatch Act under the table while accusing the FBI director of one of the most awkward conspiracies against Hillary ever. \\nIf James Comey is really out to hurt Hillary, he picked one hell of a strange way to do it. \\nNot too long ago Democrats were breathing a sigh of relief when he gave Hillary Clinton a pass in a prominent public statement. If he really were out to elect Trump by keeping the email scandal going, why did he trash the investigation? Was he on the payroll of House Republicans and the KGB back then and playing it coy or was it a sudden development where Vladimir Putin and Paul Ryan talked him into taking a look at Anthony Weiner’s computer? \\nEither Comey is the most cunning FBI director that ever lived or he’s just awkwardly trying to navigate a political mess that has trapped him between a DOJ leadership whose political futures are tied to Hillary’s victory and his own bureau whose apolitical agents just want to be allowed to do their jobs. \\nThe only truly mysterious thing is why Hillary and her associates decided to go to war with a respected Federal agency. Most Americans like the FBI while Hillary Clinton enjoys a 60% unfavorable rating. \\nAnd it’s an interesting question. \\nHillary’s old strategy was to lie and deny that the FBI even had a criminal investigation underway. Instead her associates insisted that it was a security review. The FBI corrected her and she shrugged it off. But the old breezy denial approach has given way to a savage assault on the FBI. \\nPretending that nothing was wrong was a bad strategy, but it was a better one that picking a fight with the FBI while lunatic Clinton associates try to claim that the FBI is really the KGB. \\nThere are two possible explanations. \\nHillary Clinton might be arrogant enough to lash out at the FBI now that she believes that victory is near. The same kind of hubris that led her to plan her victory fireworks display could lead her to declare a war on the FBI for irritating her during the final miles of her campaign. \\nBut the other explanation is that her people panicked. \\nGoing to war with the FBI is not the behavior of a smart and focused presidential campaign. It’s an act of desperation. When a presidential candidate decides that her only option is to try and destroy the credibility of the FBI, that’s not hubris, it’s fear of what the FBI might be about to reveal about her. \\nDuring the original FBI investigation, Hillary Clinton was confident that she could ride it out. And she had good reason for believing that. But that Hillary Clinton is gone. In her place is a paranoid wreck. Within a short space of time the “positive” Clinton campaign promising to unite the country has been replaced by a desperate and flailing operation that has focused all its energy on fighting the FBI. \\nThere’s only one reason for such bizarre behavior. \\nThe Clinton campaign has decided that an FBI investigation of the latest batch of emails poses a threat to its survival. And so it’s gone all in on fighting the FBI. It’s an unprecedented step born of fear. It’s hard to know whether that fear is justified. But the existence of that fear already tells us a whole lot. \\nClinton loyalists rigged the old investigation. They knew the outcome ahead of time as well as they knew the debate questions. Now suddenly they are no longer in control. And they are afraid. \\nYou can smell the fear. \\nThe FBI has wiretaps from the investigation of the Clinton Foundation. It’s finding new emails all the time. And Clintonworld panicked. The spinmeisters of Clintonworld have claimed that the email scandal is just so much smoke without fire. All that’s here is the appearance of impropriety without any of the substance. But this isn’t how you react to smoke. It’s how you respond to a fire. \\nThe misguided assault on the FBI tells us that Hillary Clinton and her allies are afraid of a revelation bigger than the fundamental illegality of her email setup. The email setup was a preemptive cover up. The Clinton campaign has panicked badly out of the belief, right or wrong, that whatever crime the illegal setup was meant to cover up is at risk of being exposed. \\nThe Clintons have weathered countless scandals over the years. Whatever they are protecting this time around is bigger than the usual corruption, bribery, sexual assaults and abuses of power that have followed them around throughout the years. This is bigger and more damaging than any of the allegations that have already come out. And they don’t want FBI investigators anywhere near it. \\nThe campaign against Comey is pure intimidation. It’s also a warning. Any senior FBI people who value their careers are being warned to stay away. The Democrats are closing ranks around their nominee against the FBI. It’s an ugly and unprecedented scene. It may also be their last stand. \\nHillary Clinton has awkwardly wound her way through numerous scandals in just this election cycle. But she’s never shown fear or desperation before. Now that has changed. Whatever she is afraid of, it lies buried in her emails with Huma Abedin. And it can bring her down like nothing else has.  '"
      ]
     },
     "execution_count": 5,
     "metadata": {},
     "output_type": "execute_result"
    }
   ],
   "source": [
    "train.loc[0]['text']"
   ]
  },
  {
   "cell_type": "code",
   "execution_count": 6,
   "metadata": {},
   "outputs": [
    {
     "data": {
      "text/plain": [
       "'FAKE'"
      ]
     },
     "execution_count": 6,
     "metadata": {},
     "output_type": "execute_result"
    }
   ],
   "source": [
    "train.loc[0]['label']"
   ]
  },
  {
   "cell_type": "markdown",
   "metadata": {},
   "source": [
    "Shape of the dataset:"
   ]
  },
  {
   "cell_type": "code",
   "execution_count": 7,
   "metadata": {},
   "outputs": [
    {
     "data": {
      "text/plain": [
       "(3999, 6)"
      ]
     },
     "execution_count": 7,
     "metadata": {},
     "output_type": "execute_result"
    }
   ],
   "source": [
    "train.shape"
   ]
  },
  {
   "cell_type": "code",
   "execution_count": 8,
   "metadata": {},
   "outputs": [
    {
     "data": {
      "text/html": [
       "<div>\n",
       "<style scoped>\n",
       "    .dataframe tbody tr th:only-of-type {\n",
       "        vertical-align: middle;\n",
       "    }\n",
       "\n",
       "    .dataframe tbody tr th {\n",
       "        vertical-align: top;\n",
       "    }\n",
       "\n",
       "    .dataframe thead th {\n",
       "        text-align: right;\n",
       "    }\n",
       "</style>\n",
       "<table border=\"1\" class=\"dataframe\">\n",
       "  <thead>\n",
       "    <tr style=\"text-align: right;\">\n",
       "      <th></th>\n",
       "      <th>ID</th>\n",
       "      <th>title</th>\n",
       "      <th>text</th>\n",
       "      <th>label</th>\n",
       "      <th>X1</th>\n",
       "      <th>X2</th>\n",
       "    </tr>\n",
       "  </thead>\n",
       "  <tbody>\n",
       "    <tr>\n",
       "      <th>count</th>\n",
       "      <td>3999.000000</td>\n",
       "      <td>3999</td>\n",
       "      <td>3999</td>\n",
       "      <td>3999</td>\n",
       "      <td>33</td>\n",
       "      <td>2</td>\n",
       "    </tr>\n",
       "    <tr>\n",
       "      <th>unique</th>\n",
       "      <td>NaN</td>\n",
       "      <td>3968</td>\n",
       "      <td>3839</td>\n",
       "      <td>35</td>\n",
       "      <td>4</td>\n",
       "      <td>2</td>\n",
       "    </tr>\n",
       "    <tr>\n",
       "      <th>top</th>\n",
       "      <td>NaN</td>\n",
       "      <td>OnPolitics | 's politics blog</td>\n",
       "      <td>Killing Obama administration rules, dismantlin...</td>\n",
       "      <td>REAL</td>\n",
       "      <td>REAL</td>\n",
       "      <td>FAKE</td>\n",
       "    </tr>\n",
       "    <tr>\n",
       "      <th>freq</th>\n",
       "      <td>NaN</td>\n",
       "      <td>4</td>\n",
       "      <td>41</td>\n",
       "      <td>1990</td>\n",
       "      <td>17</td>\n",
       "      <td>1</td>\n",
       "    </tr>\n",
       "    <tr>\n",
       "      <th>mean</th>\n",
       "      <td>5288.250063</td>\n",
       "      <td>NaN</td>\n",
       "      <td>NaN</td>\n",
       "      <td>NaN</td>\n",
       "      <td>NaN</td>\n",
       "      <td>NaN</td>\n",
       "    </tr>\n",
       "    <tr>\n",
       "      <th>std</th>\n",
       "      <td>3045.011156</td>\n",
       "      <td>NaN</td>\n",
       "      <td>NaN</td>\n",
       "      <td>NaN</td>\n",
       "      <td>NaN</td>\n",
       "      <td>NaN</td>\n",
       "    </tr>\n",
       "    <tr>\n",
       "      <th>min</th>\n",
       "      <td>3.000000</td>\n",
       "      <td>NaN</td>\n",
       "      <td>NaN</td>\n",
       "      <td>NaN</td>\n",
       "      <td>NaN</td>\n",
       "      <td>NaN</td>\n",
       "    </tr>\n",
       "    <tr>\n",
       "      <th>25%</th>\n",
       "      <td>2696.000000</td>\n",
       "      <td>NaN</td>\n",
       "      <td>NaN</td>\n",
       "      <td>NaN</td>\n",
       "      <td>NaN</td>\n",
       "      <td>NaN</td>\n",
       "    </tr>\n",
       "    <tr>\n",
       "      <th>50%</th>\n",
       "      <td>5250.000000</td>\n",
       "      <td>NaN</td>\n",
       "      <td>NaN</td>\n",
       "      <td>NaN</td>\n",
       "      <td>NaN</td>\n",
       "      <td>NaN</td>\n",
       "    </tr>\n",
       "    <tr>\n",
       "      <th>75%</th>\n",
       "      <td>7907.500000</td>\n",
       "      <td>NaN</td>\n",
       "      <td>NaN</td>\n",
       "      <td>NaN</td>\n",
       "      <td>NaN</td>\n",
       "      <td>NaN</td>\n",
       "    </tr>\n",
       "    <tr>\n",
       "      <th>max</th>\n",
       "      <td>10557.000000</td>\n",
       "      <td>NaN</td>\n",
       "      <td>NaN</td>\n",
       "      <td>NaN</td>\n",
       "      <td>NaN</td>\n",
       "      <td>NaN</td>\n",
       "    </tr>\n",
       "  </tbody>\n",
       "</table>\n",
       "</div>"
      ],
      "text/plain": [
       "                  ID                          title  \\\n",
       "count    3999.000000                           3999   \n",
       "unique           NaN                           3968   \n",
       "top              NaN  OnPolitics | 's politics blog   \n",
       "freq             NaN                              4   \n",
       "mean     5288.250063                            NaN   \n",
       "std      3045.011156                            NaN   \n",
       "min         3.000000                            NaN   \n",
       "25%      2696.000000                            NaN   \n",
       "50%      5250.000000                            NaN   \n",
       "75%      7907.500000                            NaN   \n",
       "max     10557.000000                            NaN   \n",
       "\n",
       "                                                     text label    X1    X2  \n",
       "count                                                3999  3999    33     2  \n",
       "unique                                               3839    35     4     2  \n",
       "top     Killing Obama administration rules, dismantlin...  REAL  REAL  FAKE  \n",
       "freq                                                   41  1990    17     1  \n",
       "mean                                                  NaN   NaN   NaN   NaN  \n",
       "std                                                   NaN   NaN   NaN   NaN  \n",
       "min                                                   NaN   NaN   NaN   NaN  \n",
       "25%                                                   NaN   NaN   NaN   NaN  \n",
       "50%                                                   NaN   NaN   NaN   NaN  \n",
       "75%                                                   NaN   NaN   NaN   NaN  \n",
       "max                                                   NaN   NaN   NaN   NaN  "
      ]
     },
     "execution_count": 8,
     "metadata": {},
     "output_type": "execute_result"
    }
   ],
   "source": [
    "train.describe(include='all')"
   ]
  },
  {
   "cell_type": "markdown",
   "metadata": {},
   "source": [
    "#### Variables"
   ]
  },
  {
   "cell_type": "markdown",
   "metadata": {},
   "source": [
    "**ID**: ID of the tweet.\n",
    "\n",
    "**Title**: Title of the news report.\n",
    "\n",
    "**Text**: Textual content of the news report.\n",
    "\n",
    "**Label**: Target Variable - [FAKE, REAL].\n",
    "\n",
    "**X1, X2** additional fields."
   ]
  },
  {
   "cell_type": "code",
   "execution_count": 9,
   "metadata": {},
   "outputs": [
    {
     "data": {
      "text/plain": [
       "count       33\n",
       "unique       4\n",
       "top       REAL\n",
       "freq        17\n",
       "Name: X1, dtype: object"
      ]
     },
     "execution_count": 9,
     "metadata": {},
     "output_type": "execute_result"
    }
   ],
   "source": [
    "train['X1'].describe()"
   ]
  },
  {
   "cell_type": "code",
   "execution_count": 10,
   "metadata": {},
   "outputs": [
    {
     "data": {
      "text/plain": [
       "Counter({nan: 3966,\n",
       "         'REAL': 17,\n",
       "         'FAKE': 14,\n",
       "         'PLANNED PARENTHOOD’S LOBBYING GETS AGGRESSIVE.\\xa0Congress may have spent August away from Washington but Planned Parenthood’s campaign to convince lawmakers to protect the group’s funding followed them back to their home states. Power Post has more.\\n\\n“Lawmakers will raise the stakes when Congress returns next week by threatening to defund the group through the federal appropriations process. Planned Parenthood’s counter-offensive is widespread and varied and is unfolding inside and outside the Beltway. The group has been\\xa0organizing rallies, flooding lawmakers’ town hall meetings, commissioning polls, shelling\\xa0out six figures for television\\xa0ads and\\xa0hiring forensics experts to try to discredit undercover video footage that sparked the controversy. The success of these lobbying efforts will be tested when Congress returns and must move a short-term spending bill to keep the government open. Some conservatives in both chambers are pushing to defund Planned Parenthood, even if a standoff with Democrats leads to a government shutdown.”\\n\\nFEDERAL WORKERS EXPECTED TO GET A PAY HIKE IN JANUARY.\\xa0The stalled appropriations process in Congress means uncertainty for federal agencies and their workers but the White House isn’t waiting around for lawmakers to decide the fate of federal worker pay. Federal Eye’s Eric Yoder reports that President Obama sent a letter on Friday detailing plans for a 1.3 percent pay raise for federal workers.\\n\\n“It prevents what would be a much higher raise from being paid under the complex laws governing federal pay raises should no raise number be enacted into law by the end of the year. Congress could yet set a different figure, but the appropriations bills for 2016 so far have been silent on a raise. That continues a pattern that resulted in 1 percent raises being paid by default in January 2014 and 2015.”\\n\\nRATE HIKE AT THE FED STILL LIKELY.\\xa0Speculation has been rampant in recent months over when the Federal Reserve will increase U.S. interest rates and the Wall Street Journal reports that all signs still point to a rate increase this year.\\n\\n“Inside the Fed, advocates for holding off a rate boost beyond this year aren’t getting much traction. In Jackson Hole, Minneapolis Fed President Narayana Kocherlakota was an isolated voice among officials for sustaining near-zero interest rates. He has lost his share of battles over policy, including the decision last October to end the Fed’s bond-buying program.”': 1,\n",
       "         ' Stagnation for the 95%  ': 1})"
      ]
     },
     "execution_count": 10,
     "metadata": {},
     "output_type": "execute_result"
    }
   ],
   "source": [
    "Counter(train['X1'])"
   ]
  },
  {
   "cell_type": "markdown",
   "metadata": {},
   "source": [
    "This variables is probably useless."
   ]
  },
  {
   "cell_type": "code",
   "execution_count": 11,
   "metadata": {},
   "outputs": [
    {
     "data": {
      "text/plain": [
       "(33, 6)"
      ]
     },
     "execution_count": 11,
     "metadata": {},
     "output_type": "execute_result"
    }
   ],
   "source": [
    "df = train[train['X1'].notnull()]\n",
    "df.shape"
   ]
  },
  {
   "cell_type": "markdown",
   "metadata": {},
   "source": [
    "I will check weather the not null values of the X1 variable are equal to the label variable."
   ]
  },
  {
   "cell_type": "code",
   "execution_count": 12,
   "metadata": {},
   "outputs": [
    {
     "data": {
      "text/plain": [
       "Counter({'FAKE': 1976,\n",
       "         'REAL': 1990,\n",
       "         'Election Day: No Legal Pot In Ohio; Democrats Lose In The South\\n\\nTuesday is \"off year\" Election Day in parts of the country. Legalizing marijuana is on the ballot in Ohio, Houston voters will decide on an equal rights ordinance and San Francisco weighs short-term rentals in what\\'s being called the \"Airbnb Initiative.\"\\n\\nElsewhere, eyes are on governor races in Kentucky and Louisiana, and whether Democrats can make any progress in the South.\\n\\nHere\\'s a look at some of the races:\\n\\nHouston voters will decide whether to keep an equal rights ordinance that was approved by the City Council last year. The Houston Equal Rights Ordinance (HERO) would ban discrimination based on sexual orientation and gender identity — criteria not covered by national anti-discrimination laws. The ordinance is hotly debated, particularly after some opposition ads were released. The ads claim that the ordinance would allow men who identify as women to assault women and young girls in bathrooms.\\n\\nHillary Clinton tweeted her support for the ordinance on Oct. 29, writing: \"No one should face discrimination for who they are or who they love — I support efforts for Equality in Houston & beyond. #HERO #YesOnProp1 -H\".\\n\\nA White House spokesman said that President Obama and Vice President Biden were \"confident that the citizens of Houston will vote in favor of fairness and equality.\"\\n\\nUpdate from Houston Public Media: Houston\\'s voters strongly rejected the anti-discrimination measure, with about three-fifths of voters opposed.\\n\\nRepublican Matt Bevin and Democrat Jack Conway are running to replace retiring Gov. Steve Beshear, a Democrat. Although Republicans have aggressively been spending money in the hope of retaining the governor\\'s mansion, Conway has outspent Bevin 4 to 1. This race has been characterized by both candidates accusing each other of lying about their records.\\n\\nUpdate from WFPL in Louisville: Conway conceded the race — the returns late Tuesday night showed Bevin winning with about 53 percent of the vote — and Republicans generally performed well in the state.\\n\\nLouisiana has a gubernatorial election this year but it doesn\\'t work the way you might expect. Louisiana\\'s election system relies on what\\'s called a \"jungle primary.\" In a jungle primary, all candidates regardless of party appear on one ballot. If no one wins 50 percent of the vote, the top two candidates face each other in a runoff election.\\n\\nJohn Bel Edwards, a Democrat and state legislative leader, earned roughly 40 percent of the vote. He now will face Sen. David Vitter, a Republican, in the runoff election on Nov. 21. Vitter has had a tough race so far. His critics have continuously cited his involvement in a 2007 prostitution scandal, in which Vitter\\'s telephone number was found in the records of the so-called D.C. Madam, Deborah Palfrey. Palfrey was accused of running a prostitution ring that made more than $2 million over 13 years.\\n\\nThe \"Clean Elections Initiative\" would increase public funding for candidates to up to $3 million in order to make them more competitive against privately-funded candidates, according to Reuters. The existing law makes up to $2 million available to candidates for state office. The ballot measure would also increase disclosure requirements and increase the penalties for campaign finance violations.\\n\\nUpdate from the Portland Press Herald: The measure passed, with 55 percent of the vote as of late Tuesday:\\n\\nRepublican Gov. Phil Bryant is up for reelection and faces opposition from an unlikely candidate — truck driver and political unknown Robert Gray. According to The Associated Press, Gray didn\\'t even tell his closest relatives that he had signed up to campaign for governor. Bryant has spent roughly $2.7 million this year and reportedly has $1.4 million in the bank. Gray has spent about $3,000 on his campaign in the past three months.\\n\\nUpdate from Mississippi Public Broadcasting: Gray will presumably be back on the road after losing, 67 percent to 32 percent.\\n\\nOhio voters vote on two ballot measures with constitutional amendments that could dramatically change marijuana laws in their state. Issue 3, as one of these two measures is called, would enable landowners or operators of 10 predetermined sites the right to grow commercial marijuana. That\\'s in contradiction to the second measure, Issue 2, which would prohibit monopolies from being enshrined in the state constitution. If both measures pass, there\\'s sure to be lots of confusion.\\n\\nUpdate from WCPN in Cleveland: Voters rejected legal and medical marijuana, with two-thirds voting against Issue 3; Issue 2, the measure rejecting the proposed marijuana oligopoly, was passing 54 percent to 46 percent.\\n\\nSan Franciscans heading to the polls Tuesday will get to vote on Proposition F, colloquially known as the \"Airbnb Initiative.\" The initiative is a ballot measure that would strengthen regulation on the short-term rental of houses and apartments. While Airbnb is likely the biggest company in that niche market, the Los Angeles Times points out that there are other vacation rental companies that would be affected. Right now, residents can rent out their apartment or home for 90 days in a year. Proposition F would limit that rental period to 75 days. The measure is viewed as an attempt to discourage people from taking units off the housing market and using them as short-term apartment rentals. San Francisco has an acute housing shortage.\\n\\nUpdate from KQED in San Francisco: Voters rejected the measure, Proposition F, 55 percent to 45 percent.\\n\\nSeattle voters will decide on a campaign finance measure that\\'s being touted as a national model for campaign finance reform. Ballot initiative I-122, if passed, would create a public financing model in the city. Every resident would receive a $100 voucher to give to the candidate of their choosing. The measure would also limit election campaign contributions from entities receiving city contracts of $250,000 or more, or from people spending more than $5,000 on lobbying.\\n\\nUpdate from KUOW in Seattle: Voters overwhelmingly passed the measure, 60 percent to 40 percent.\\n\\nAll 140 seats of Virginia\\'s General Assembly are up for election today. Republicans currently control the state Senate, 21 seats to 19. Expecting low turnout, both parties have been trying to drive their message home to voters. Republicans are expected to retain their majority in the GA. Democrats hope to take control of the state Senate.\\n\\nUpdate from the Richmond Times-Dispatch: Republicans have kept their majority in the Senate, and their strong control of the General Assembly.': 1,\n",
       "         \"Who rode it best? Jesse Jackson mounts up to fight pipeline; Leonardo DiCaprio to the rescue? Posted at 6:41 pm on October 26, 2016 by Brett T. Share on Facebook Share on Twitter \\nVladimir Putin might have popularized the shirtless-on-horseback calendar pose that was echoed recently by Alex Jones , but Jesse Jackson deserves credit for at least one thing: he chose to keep his shirt on Wednesday when he rode up to the front lines of a protest against the Dakota Access Pipeline. \\n— Marisa Villarreal (@marisa_villarr) October 26, 2016 Proud to stand with the Sioux Indians today in North Dakota. #StandingWithStandingRock pic.twitter.com/0dPbDk6RJD \\n— Rev Jesse Jackson Sr (@RevJJackson) October 26, 2016 Jesse Jackson on the frontline with that native bling #NoDAPL pic.twitter.com/QevCYFugN3 \\n— Ruth Hopkins (@RuthHHopkins) October 26, 2016 \\nSeen standing with Jackson (literally; check over his shoulder above) was “Avengers” actor Mark Ruffalo, who offered his own exclusive scoop of sorts by confirming that climate crusader Leonardo DiCaprio would be stopping by Thursday, assuming his green-friendly private jet that runs on unicorn tears isn’t delayed. This is happening! #noDapl ! Rev. Jesse Jackson calls @POTUS from #StandingRock ! Mark Ruffalo confirms Leonardo DiCaprio comes tomorrow pic.twitter.com/6b2Gd8FFpd \\n— Asani Isapoet (@Asani) October 26, 2016 \\nPresident Obama seems to be taking a wait-and-see approach to the pipeline. The Seattle Times reports that the administration asked Energy Transfer Partners for a second time Tuesday to voluntarily cease construction, to no avail. And Hillary? No one’s even sure yet where she really stands on the Trans-Pacific Partnership, but a few of Ruffalo’s fans aren’t happy that he’s now with her, sort of. Please please please. This is is worth getting out and voting for. A vote for HRC is a vote for @BernieSanders and @SenWarren ! https://t.co/9YElwJ48AJ \\n— Mark Ruffalo (@MarkRuffalo) October 16, 2016 @MarkRuffalo @BernieSanders @SenWarren It most certainly is not. That's propaganda Clinton stans like to push. I vote for who I believe in. \\n— Stan Dallas 😍 (@FanInTheMoon) October 16, 2016 @MarkRuffalo @BernieSanders @SenWarren I don't recall Sanders being pro TPP, pro fracking and circling China with missiles. Lay off the weed \\n— Tony Gagliardi (@hornetgags) October 16, 2016 @MarkRuffalo @BernieSanders @SenWarren @1lolamarina Sorry Mark, never was a turn the other cheek kind of guy. She wronged us. Never Democrat \\n— John Jenkins (@Oteachjohn) October 18, 2016 @MarkRuffalo @BernieSanders @SenWarren NO. A vote for HRC is a for #ElectionFraud , corporate rule, corruption & endless war. #NeverHillary \\n— Basement Barista (@SouthBoulder) October 16, 2016 @MarkRuffalo @dailykos So vote for Hillary who is a pro-fracking warhawk? Time to get the @GreenPartyUS 5% for a true progressive voice. \\n— Eric Magnuson (@emmagnuson) October 17, 2016 . @MarkRuffalo Jill Stein's PROGRESSIVE policies are more like Bernie than HRC's. Why should Hillary get my vote? #JillNotHill 🌍💚☮️ \\n— #DNC fraud lawsuit (@Ontheotherhand) October 16, 2016 @MarkRuffalo @BernieSanders @SenWarren A vote for HRC is NOT a vote for Bernie Sanders. Go Green. Vote Stein, not a corrupt warmonger. \\n— Justin Kelly (@JKelly_80) October 16, 2016 \\n* * *\": 1,\n",
       "         '(CNN) Thick fog forced authorities to suspend the air search Wednesday for seven Marines and four Army aircrew, feared dead after their Black Hawk helicopter crashed into waters off the Florida Panhandle.\\n\\nThe helicopter was first reported missing at about 8:30 p.m. (9:30 p.m. ET) Tuesday. Hours later, searchers found debris around Okaloosa Island near Eglin Air Force Base, base spokesman Andy Bourland said.\\n\\nThis debris washed up on both the north and south sides of Santa Rosa Sound, which connects mainland northern Florida and a barrier island.\\n\\nThe air search is expected to resume midday Thursday, the spokesman said. A spokeswoman for the Coast Guard said that boats will continue scouring the waters throughout the night Wednesday, weather permitting.\\n\\nHuman remains have washed ashore in the area near Eglin.\\n\\nBase spokeswoman Jasmine Porterfield didn\\'t specify what was found, noting the search-and-rescue mission remained underway. Still, there was little hope for a miracle, with Gen. Martin Dempsey -- chairman of the Joint Chiefs of Staff -- expressing his condolences.\\n\\nHe said the crash was \"a reminder to us that those who serve put themselves at risk, both in training and in combat.\"\\n\\n\"We will work with the services to ensure that ... their family members will be well cared for.\"\\n\\nThe Air Force, Coast Guard and civilian agencies participated in the intensive search focused on where they believe the aircraft went down, in waters east of the town of Navarre and the Navarre Bridge and near Eglin testing range site A-17.\\n\\nPorterfield said approximately 100 people were involved in canvassing the ground and the waters, looking for debris: \"It\\'s a huge effort underway.\"\\n\\n\"We\\'re working closely with all the parties involved to locate our Marines and the Army crew that were onboard,\" added Capt. Barry Morris, a spokesman for the U.S. Marines Corps Special Operations Command . \"And, really, just our thoughts (and) prayers are with the Marines, the soldiers and the families of those involved in the mishap.\"\\n\\nNo one is saying what caused the accident, with Eglin spokeswoman Sara Vidoni indicating only that there\\'s no indication of anything suspicious.\\n\\nThere was heavy fog in the area when the aircraft went missing, though the Eglin spokeswoman said it\\'s too early to tell whether that had anything to do with the crash.\\n\\n\"There is training in all conditions -- that\\'s part of the military mission,\" Vidoni said. \"They were out there doing what the military does.\"\\n\\nAccording to Morris, the service members -- all men -- were involved in a seven-day training exercise of amphibious operations. It involved small boats and inserting and extracting Marines from the water via helicopter. Morris would not say in which phase of the training the Marines were on Tuesday night.\\n\\nThe UH-60 helicopter wasn\\'t alone when it went down. A second Black Hawk -- assigned to 1-244th Assault Helicopter Battalion based in Hammond, Louisiana -- safely returned to the base, some 40 miles east of Pensacola.\\n\\nThe aircraft were both assigned to the Louisiana Army National Guard out of Hammond and taking part in what the U.S. military called a \"routine training mission involving the Marine Special Operations Regiment\" out of Camp Lejeune.\\n\\n\"Whatever the trouble was with the one aircraft, it did not involve the second helicopter that was participating in the exercise,\" Bourland said.\\n\\nSeven Marines based out of Camp Lejeune\\n\\nThe Army aircrew members belonged to the Army National Guard unit out of Louisiana, part of a unit that Gov. Bobby Jindal said \"have fought courageously overseas in defense of our nation and here at home.\"\\n\\nBy 11:15 a.m., relatives of all four of those guardsmen had been notified, though their names won\\'t be released publicly until the Coast Guard recovers their bodies or calls off the search, said Col. Pete Schneider, a Louisiana National Guard spokesman.\\n\\n\"They have protected what matters most during times of crisis,\" Jindal said. \"These soldiers represent the best of Louisiana, and we are praying for them and their families.\"\\n\\nThe pilots were instructor pilots, Maj. Gen. Glenn Curtis told reporters. He said the whole crew had several thousand combined hours of operation flying the Black Hawk.\\n\\nThis week\\'s crash involved a UH-60 Black Hawk, a twin-engine helicopter introduced into Army service in 1979 in place of the iconic UH-1 Huey. Other branches have modified the Black Hawk for their own uses, including the Navy\\'s SH-60 (the Sea Hawk), the Air Force\\'s MH-60 (the Pave Hawk) and the Coast Guard\\'s HH-60 (the Jayhawk).\\n\\nThe Army\\'s UH-60 helicopter, which has a maximum speed of 173 mph, has an airframe \"designed to progressively crush on impact to protect the crew and passengers,\" according to the service.\\n\\nAs Morris, the Marine spokesman, pointed out, those who get on such aircraft or take part in other military exercises aren\\'t always out of danger just because they\\'re off the battlefield.\\n\\n\"We have a requirement to conduct realistic military training,\" he said. \"And unfortunately this mishap happened.\"': 1,\n",
       "         '(CNN) Aerial bombardments blew apart a Doctors Without Borders hospital in the battleground Afghan city of Kunduz about the time of a U.S. airstrike early Saturday, killing at least 19 people, officials said.\\n\\nThe blasts left part of the hospital in flames and rubble, killing 12 staffers and seven patients -- including three children -- and injuring 37 other people, the charity said.\\n\\nAs the United States said it was investigating what struck the hospital during the night, the charity expressed shock and demanded answers, stressing that all combatants had been told long ago where the hospital was.\\n\\n\"(The bombing) constitutes a grave violation of international humanitarian law,\" Doctors Without Borders, known internationally as Medecins Sans Frontieres, or MSF, said.\\n\\n\"We were running a hospital treating patients, including wounded combatants from both sides -- this was not a \\'Taliban base,\\' \" said Dr. Joanne Liu, international president of Doctors Without Borders or Médecins Sans Frontières, upon release of the group\\'s internal review of the attack.\\n\\n\"We were running a hospital treating patients, including wounded combatants from both sides -- this was not a \\'Taliban base,\\' \" said Dr. Joanne Liu, international president of Doctors Without Borders or Médecins Sans Frontières, upon release of the group\\'s internal review of the attack.\\n\\nThe attacks came as fighting intensified between Afghan government forces -- supported by U.S. air power and military advisers -- and the Taliban, which invaded Kunduz in late September.\\n\\nThe attacks came as fighting intensified between Afghan government forces -- supported by U.S. air power and military advisers -- and the Taliban, which invaded Kunduz in late September.\\n\\nDoctors Without Borders is asking for an indepedent investigation by the International Humanitarian Fact-Finding Commission. President Barack Obama has apologized to the charity group for the attack.\\n\\nDoctors Without Borders is asking for an indepedent investigation by the International Humanitarian Fact-Finding Commission. President Barack Obama has apologized to the charity group for the attack.\\n\\nDoctors Without Borders said it had emailed the GPS coordinates of its main hospital and administration office building at the Kunduz center before the airstrike. The U.S. commander said airstrikes were called after Afghan troops advised they were \"taking fire from enemy positions.\"\\n\\nDoctors Without Borders said it had emailed the GPS coordinates of its main hospital and administration office building at the Kunduz center before the airstrike. The U.S. commander said airstrikes were called after Afghan troops advised they were \"taking fire from enemy positions.\"\\n\\nFlames are visible inside a Doctors Without Borders hospital in Kunduz, Afghanistan, after a U.S. airstrike on Saturday, October 3. At least 30 people died in the attack, the charity said in its internal review of the strike released Thursday, November 5. The commander of U.S. forces in Afghanistan has said the hospital was hit accidentally.\\n\\nFlames are visible inside a Doctors Without Borders hospital in Kunduz, Afghanistan, after a U.S. airstrike on Saturday, October 3. At least 30 people died in the attack, the charity said in its internal review of the strike released Thursday, November 5. The commander of U.S. forces in Afghanistan has said the hospital was hit accidentally.\\n\\n\"There are many patients and staff who remain unaccounted for. The numbers may grow as a clearer picture develops of the aftermath of this horrific bombing,\" MSF said, adding all the dead and injured were Afghans.\\n\\nThe bombardments continued even after U.S. and Afghan military officials were notified the hospital was being attacked, the charity said.\\n\\nThe circumstances weren\\'t immediately clear, but the U.S. military was conducting an airstrike in Kunduz at the time the hospital was hit, U.S. Army Col. Brian Tibus said.\\n\\nThe military is investigating whether a U.S. AC-130 gunship -- which was in the area firing on Taliban positions to defend U.S. special operations troops there -- is responsible, a U.S. military official said on condition of anonymity.\\n\\nThe White House released a statement from President Barack Obama offering condolences to the charity from the American people.\\n\\n\"The Department of Defense has launched a full investigation, and we will await the results of that inquiry before making a definitive judgment as to the circumstances of this tragedy,\" the President said. \"I ... expect a full accounting of the facts and circumstances.\"\\n\\nThe top U.S. and NATO military commander in Afghanistan said he spoke to Afghan President Ashraf Ghani about the deadly airstrike, the U.S. military said.\\n\\n\"While we work to thoroughly examine the incident and determine what happened, my thoughts and prayers are with those affected. We continue to advise and assist our Afghan partners as they clear the city of Kunduz and surrounding areas of insurgents. As always, we will take all reasonable steps to protect civilians from harm,\" said Gen. John F. Campbell.\\n\\nThe incident occurred on roughly the sixth day of fighting between Afghan government forces -- supported by U.S. air power and military advisers -- and the Taliban, which invaded the city early this week.\\n\\nAccording to MSF, the compound is gated and no staff members saw any fighters there or nearby.\\n\\n\"If there was a major military operation going on there, our staff would have noticed. And that wasn\\'t the case when the strikes occurred,\" Christopher Stokes, the charity\\'s general director, told CNN.\\n\\nOne nurse said in an article on the MSF website that he was sleeping in a safe room when he was awakened by a large explosion. The bombing lasted about an hour, Lajos Zoltan Jecs said.\\n\\nAs he went to help the wounded, he and others tried to save a doctor. He died on an office table, Jecs said. The nurse saw six patients who had burned to death in their beds. Another patient was dead on an operating table.\\n\\n\"I have no words to express this. It is unspeakable,\" he said.\\n\\nCharity: We told everyone of our location\\n\\nThe charity, which had had been caring for hundreds already hurt in days of fighting, said it had told all warring parties the exact location of the trauma center, including most recently on Tuesday.\\n\\nWhen the aerial attack occurred, 105 patients and their caretakers were in the hospital. More than 80 MSF international and national staff were present.\\n\\nThe U.S. special operations troops were in the area advising Afghan forces, the military official who was speaking anonymously said. The official stressed that the information about the probe was preliminary.\\n\\nPribus said a \"manned, fixed-wing aircraft\" conducted a strike \"against individuals threatening the force\" at 2:15 a.m. local time, and that the strike \"may have resulted in collateral damage to a nearby medical facility.\"\\n\\nThe U.N. mission in Afghanistan sharply condemned the airstrike.\\n\\n\"I condemn in the strongest terms the tragic and devastating air strike on the Médecins sans Frontières hospital in Kunduz early this morning, which resulted in the deaths and injury of medical personnel, patients and other civilians,\" said Nicholas Haysom, head of the United Nations Assistance Mission in Afghanistan.\\n\\nThe U.S. Embassy in Kabul expressed condolences on its Facebook page.\\n\\n\"The U.S. Embassy mourns for the individuals and families affected by the tragic incident at the Doctors Without Borders hospital, and for all those suffering from the violence in Kunduz,\" it read. The embassy praised the group\\'s work as \"heroic.\"\\n\\nThe International Committee of the Red Cross also expressed condemnation.\\n\\n\"Such attacks against health workers and facilities undermine the capacity of humanitarian organizations to assist the Afghan people at a time when they most urgently need it,\" said Jean-Nicolas Marti, Head of the ICRC delegation in Afghanistan.\\n\\nBullets broke windows and punctured the roof of the intensive care unit.\\n\\nThe Taliban captured Kunduz earlier this week in the group\\'s biggest victory in 15 years. It was a major setback for Afghan forces.\\n\\nAfghanistan said it reclaimed most of the city Thursday in a big operation backed by U.S. airstrikes.\\n\\nBut hours later, there were signs that the Taliban were back in Kunduz, a resident told CNN. Gunshots erupted near the airport.\\n\\nKunduz is a strategic hub on the main highway between Kabul and Tajikistan.\\n\\nOn Thursday, Taliban fighters also took the Warduj district of Badakhshan, east of Kunduz province.\\n\\nRetired U.S. Army Lt. Gen Mark Hertling said it was common for facilities such as hospitals to give combatants their coordinates.\\n\\n\"The coalition air forces will put something called a no-fly area on that GPS coordinate, so you have a pinpoint dot on a map, where you say something is there ... don\\'t hit it,\" Hertling said.\\n\\n\"But when the fluidness of the battlefield takes place and you have engagements with troops on the ground, sometimes there are mistakes,\" he said.': 1,\n",
       "         'A member of Al Qaeda\\'s branch in Yemen said Friday that the group directed the massacre earlier this week at a Paris magazine, as the U.S. State Department issued a travel warning to citizens, saying they faced an increased risk of reprisals.\\n\\nEarlier Friday, near simultaneous raids by French police killed the two Islamist brothers behind the attack and another terrorist. The raids, conducted at locations 25 miles apart, took out Cherif and Said Kouachi and a suspect in a policewoman\\'s killing who had seized hostages at a Paris grocery on the brothers\\' behalf, but also left four hostages dead, according to authorities and reports from the scene.\\n\\nThe Al Qaeda member on Friday provided a statement in English to The Associated Press saying \"the leadership of AQAP directed the operations and they have chosen their target carefully.\"\\n\\nThere was no independent confirmation of the report, and U.S. intelligence and counterterrorism officials say it is too early to conclude who is responsible for the massacre on Wednesday that left 12 dead.\\n\\nHowever, Cherif Kouachi told a French TV station before Friday\\'s raid at an industrial park that he was sent by Al Qaeda in Yemen and had been financed by the cleric Anwar al-Awlaki, who was killed by a U.S. airstrike in Yemen in 2011.\\n\\nThe State Department\\'s warning says attacks against Americans are becoming increasingly prevalent. It also cites an increased risk of reprisals against U.S. and Western targets for the U.S.-led intervention against Islamic State militants in Syria and Iraq, and comes in the aftermath of terrorist attacks in Australia and Canada, as well as the Paris massacre.\\n\\nIf confirmed, the attack would be the first time Al Qaeda\\'s branch in Yemen has successfully carried out an operation in the West after at least two earlier attempts.\\n\\nThe Al Qaeda member said the attack was in line with warnings from the late Al Qaeda leader Usama bin Laden to the West about \"the consequences of the persistence in the blasphemy against Muslim sanctities,\" adding that it was \"revenge for the honor\" of Islam\\'s Prophet Muhammad, which the satirical Charlie Hebdo had occasionally lampooned.\\n\\nThe lightning-quick strikes earlier Friday ended two tense, hours-long standoffs, one at a printing plant north of the city and the other at a kosher supermarket on Paris\\' east side, where four hostages were killed, as many as 15 were freed. A hostage held north of the city by the brothers, who killed 12 in a commando-style attack at the offices of Charlie Hebdo, was reportedly freed. The fast-moving developments, signaled by explosions and gunfire at a printing plant in Dammartin-en-Goele, followed by similar sounds at Hypercacher (Hyper Kosher), a Jewish supermarket in eastern Paris, brought to a climax a three-day terror ordeal and manhunt involving nearly 90,000 police and military personnel.\\n\\nThe Kouachi brothers, the radicalized French-born slackers whose attack on Charlie Hebdo left two police officers among the dozen dead, were both killed in the first raid. The brothers, 32 and 34, respectively, are believed to have ties to Al Qaeda in Yemen, and military experts who viewed footage of their bloody, late-morning raid on Wednesday said they appeared to be well-trained terrorists. Charlie Hebdo had long angered Muslim radicals with its penchant for publishing cartoon images of Prophet Muhammed.\\n\\nIn Paris, police said Amedy Coulibaly, who is believed to have know the brothers and was suspected of killing Paris Police Officer Clarissa Jean-Philippe Thursday, as she attended to a routine traffic accident in the city, was killed in a raid moments later, ending his supermarket siege. Police had identified him and his longtime girlfriend, Hayat Boumeddiene, as suspects in the police killing, but her whereabouts were not immediately known. Police were searching for another possible suspect who may have escaped the grocery store siege, but it was not clear if that person was Boumeddiene.\\n\\nAt the kosher grocery near the Porte de Vincennes neighborhood of the capital, the gunman burst in shooting just a few hours before the Jewish Sabbath began, declaring \"You know who I am,\" an official recounted.\\n\\nThe attack came before sundown when the store would have been crowded with shoppers, and President Francois Hollande called it \"a terrifying anti-Semitic act.\"\\n\\nCoulibaly killed the four people in the market shortly after entering, Molins said.\\n\\nSeveral people wounded in the grocery store were able to flee and get medical care, the official said.\\n\\nCoulibaly, 33, and Cherif Kouachi were committed followers of convicted terror kingpin Djamel Beghal, according to Le Monde.\\n\\nEarlier Friday, a French security official told the AP that shots were fired as the brothers stole a car in the town of Montagny Sainte Felicite in the early morning hours.\\xa0French officials told Fox News that the suspects threw the car\\'s driver out at the side of the road. The driver, who recognized the suspects, then called police and alerted them to the suspects\\' whereabouts.\\n\\nOn Thursday, U.S. government sources confirmed that Said Kouachi, 34, had traveled to Yemen in 2011 and had direct contact with an Al Qaeda training camp. The other brother, 32-year-old Cherif, had been convicted in France of terrorism charges in 2008 for trying to join up with fighters battling in Iraq. The sources also confirmed that both brothers, who had been orphaned as youngsters and spent years committing petty crimes and doing menial jobs, were on a U.S. no-fly list.\\n\\nFox News was told the investigators have made it a priority to determine whether he had contact with Al Qaeda in Yemen\\'s leadership, including a bomb maker and a former Guantanamo Bay detainee.\\n\\nHollande called for tolerance after the country\\'s worst terrorist attack since 1961, in the middle of the conflict over Algerian independence from France.\\n\\n\"France has been struck directly in the heart of its capital, in a place where the spirit of liberty -- and thus of resistance -- breathed freely,\" Hollande said.\\n\\nCharlie Hebdo had long drawn threats for its depictions of Islam, although it also satirized other religions and political figures. The weekly paper had caricatured the Prophet Muhammad, and a sketch of Islamic State\\'s leader was the last tweet sent out by the irreverent newspaper, minutes before the attack. Nothing has been tweeted since.\\n\\nEight journalists, two police officers, a maintenance worker and a visitor were killed in the attack.\\n\\nCharlie Hebdo planned a special edition next week, produced in the offices of another paper. Editor Stephane Charbonnier, known as Charb, who was among those slain, \"symbolized secularism ... the combat against fundamentalism,\" his companion, Jeannette Bougrab, said on BFM-TV.\\n\\n\"He was ready to die for his ideas,\" she said.\\n\\nAuthorities around Europe have warned of the threat posed by the return of Western jihadis trained in warfare. France counts at least 1,200 citizens in the war zone in Syria -- headed there, returned or dead. Both the Islamic State group and Al Qaeda have threatened France -- home to Western Europe\\'s largest Muslim population.\\n\\nThe French suspect in a deadly 2014 attack on a Jewish museum in Belgium had returned from fighting with extremists in Syria; and the man who rampaged in southern France in 2012, killing three soldiers and four people at a Jewish school, received paramilitary training in Pakistan.\\n\\nFox News\\' Greg Palkot, Catherine Herridge and The Associated Press contributed to this report.': 1,\n",
       "         ' 00 UTC © USGS Map of the earthquake\\'s epicenter An earthquake with a preliminary magnitude of 5.4 rattled a broad swath of central Italy, including Rome, on Wednesday (Thursday NZT), just two months after a powerful temblor toppled villages, killing nearly 300 people. There were no immediate reports of damage. Italy\\'s National Vulcanology Center said the epicenter was near Macerata, near Perugia. The US Geological Survey said it had a depth of some 10 kilometres, which is relatively shallow. The quake was felt across a broad swath of central and southern Italy, shaking centuries-old palazzi in Rome\\'s historic centre. The Aug. 24 quake destroyed hilltop village of Amatrice and other nearby towns. Wednesday\\'s quake was felt from Perugia in Umbria to the capital Rome to the central Italy town of Aquila, which was struck by a deadly quake in 2009. The mayor of Aquila, however, said there was no immediate report of damage. \\u200bThe quake struck at 7.10pm on Wednesday (local time). \"The earthquake only happened a few minutes ago. It\\'s dark here, so impossible to determine if there has been any damage outside,\" one resident in Penna San Giovanni told EMSC. \"All services - electricity, internet, etc - are still working normally.\" MORE TO COME': 1,\n",
       "         'Email Print After writing a lengthy suicide note exposing terrifying plans the government has for American citizens, a US Customs Agent walked onto a pier in NYC and blew his brains out. Sources inside the New York City Police Department have revealed to SuperStation95, the contents of a suicide note found on the body and they are utterly frightening. The note, which says it was written over the course of a full week in advance, outlines why the officer chose to shoot himself: “The America I grew up in, and cherished, has been murdered by its own federal government. Our Constitution has become meaningless and our laws politicized so badly, they are no longer enforced except for political purposes” the note said. “Our elected officials are, to a person, utterly corrupt and completely devoid of any love or respect for the country which pays them. To them, everything is about getting and keeping power, and making illicit money from backroom deals.” The 42-year-old U.S. Immigration and Customs Enforcement deportation officer shot himself with a 40 caliber service pistol inside Pier 40 in Hudson River Park at around 11 am. (1) A source at the scene described how the officer calmly walked into the park, took out his pistol and shot himself in the head. A ICE federal agent fatally shot himself in the head at waterfront Chelsea park (pictured) in New York Friday The 42-year-old worked as U.S. Immigration and Customs Enforcement deportation officer and his offices were nearby to the scene of the shooting. He was rushed to Lenox Hill Hospital but doctors were unable to save him. (2) ICE released a statement Friday afternoon: ‘Tragically, a U.S. Immigration and Customs Enforcement (ICE) deportation officer from the New York field office suffered a self-inflicted gunshot wound and has passed away.’ It added: ‘The agency is not releasing further details pending notification of the officer’s next of kin. According to the suicide note, the Officer said: “I was hired to enforce the law; to capture and deport people who come to this country against our laws. But now, if I dare to do that, I face being suspended or fired because our President refuses to faithfully execute the duties of his office. Instead, I come to work each day, and collect a paycheck twice a month, for intentionally doing little to nothing. I cannot and will not be party to this fraud; to this usurpation of the law, or to the despicable politicians betraying our nation” the note continued. ICE’s Office of Professional Responsibility is reviewing the matter and coordinating with the New York Police Department on the investigation. The agent worked at a field office in lower Manhattan, just blocks away from the scene of the shooting. MENTIONS “FEMA CAMPS” FOR AMERICANS (3) In the suicide note, the officer revealed what he claimed are terrifying plans the feds have been finalizing: “If the American people knew what this government is planning, they would rise-up and overthrow it. If I or anyone else in the federal government revealed what is coming, we would be killed anyway, so now I will reveal what I know. We in federal law enforcement have been drilling for several years to control riots and uprisings from a coming financial collapse and widespread bank failures. The drills involve life-sized images of American men, even women and children, whom we are told to shoot for “practice” and to “get used to it.” We have been told that the economy is terminally ill and will fail in 2016. We are also told the banks are all insolvent and the FDIC doesn’t have nearly enough funds to bail out depositors. We are told these events are unavoidable and it is imperative that the government survive when people rise-up over this. When the collapse takes place, detention camps created under the FEMA REX-84 program in the 1980’s to house illegal aliens whom we were going to deport, will instead be used to imprison American Citizens whom the government feels constitute a “threat.” American citizens will be rounded-up without warrants and imprisoned without trial for God knows how long. These camps have been equipped to carry out Hitler-scale killings! An actual “purge” of Americans citizens by the very government which they, themselves, created and pay for! I cannot be party to this.” The Note goes on to say talk about state-level national guard being disarmed by the feds (4) and over 1 Billion rounds of ammunition purchased by the feds (5) and the Military over-deployed and being shrunk (6) : “The government knows the military will rise-up to stop this, so our military is being deployed overseas, intentionally involved in foreign fights, and deliberately shrunk in size so they cannot be here or help Americans! This is why certain ammunition and weaponry has been removed from state-level National Guard Armories and over a Billion rounds of hollow point ammunition has been bought by the federal government. The states themselves have been disarmed of military-grade firepower so they cannot defend themselves from the federal activities. This is also why local police departments have been militarized and provided with armored vehicles and weapons of war” the note says. “When the inevitable collapse begins to take place, electric power to the entire country will be shut off, as will all forms of communication. All banks will be immediately closed; no one will be able to get any money because all ATM’s will be offline. Credit, Debit and EBT cards will not function. Anyone without cash will have no way to get any. The Emergency Alert System will be used to takeover all broadcast stations and tell the public this is a result of a cyber attack. But while the American people patiently await things to get back to normal, the government will unleash round-ups of citizens they deem militants or dangerous . With all civilian communications out, and all TV and radio stations taken over by the Emergency Alert System, by the time word spreads of what is taking place, the government will already have the upper hand. Federal Prisoners to be GASSED TO DEATH The note goes into a wide array of very specific plans and does so in extremely specific detail about what the feds are allegedly planning. For instance, it talks about federal prisons: “Every federal prison has been outfitted with lethal gas systems. When things go bad, all prisoners in all prisons will be placed in their cells on lock-down. Prison staff will depart the facility, and a certain designated person will trigger a lethal gas system. All federal prisoners, regardless of their crime or their sentence, will be gassed to death in their cells. Once the gas clears, the dead will be removed and the prisons will then be used to house citizens who fight against the federal onslaught.” PRIESTS RECRUITED TO QUELL OPPOSITION (7) The note makes mention about Priests, Rabbis and Clerics from various religious denominations having been recruited and trained to quell resistance: “So intent is the government to succeed they have recruited priests, rabbis and clerics from various religions to quote appropriate Scriptures about “obeying government.” They are being trained to tell people not to fight back and that their best hope is to pray.” EXECUTIVE ORDER 13603 (8) The suicide note goes to great lengths about Executive Order #13603 signed by President Obama on March 16, 2012. The note details: \\nExecutive order 13603 about “National Defense Resources Preparedness.” \\nThis 10-page document is a blueprint for a federal takeover of the economy. Specifically, Obama’s plan involves seizing control of: \\n* “All commodities and products that are capable of being ingested by either human beings or animals” \\n* “All forms of energy” \\n* “All forms of civil transportation” \\n* “All usable water from all sources” \\n* “Health resources – drugs, biological products, medical devices, materials, facilities, health supplies, services and equipment” \\n* Forced labor ( or “induction” as the executive order delicately refers to military conscription) \\nMoreover, federal officials would “issue regulations to prioritize and allocate resources.” SuperStation95 took a look at this Executive Order from the Government Printing Office (GPO) web site and, sure enough, everything contained in the Officer’s suicide note about this Executive Order is true! To be sure, much of this language has appeared in national security executive orders that previous presidents have issued periodically since the beginning of the Cold War. But more than previous national security executive orders, Obama’s 13603 seems to describe a potentially totalitarian regime obsessed with control over everything. Obama’s executive order makes no effort to justify the destruction of liberty, no effort to explain how amassing totalitarian control would enable government to deal effectively with cyber sabotage, suicide bombings, chemical warfare, nuclear missiles or other possible threats. There’s nothing in executive order 13603 about upholding the Constitution or protecting civil liberties. In what circumstances, one might ask, would a president try to carry out this audacious plan? Executive order 13603 says with ominous ambiguity: during “ the full spectrum of emergencies .” DATABASE OF PREPPERS The suicide note touches on the subject of “Preppers:” “We in federal law enforcement have also been told that the government has a full database of all so-called “Preppers.” Those people will be dealt with first — by armed federal agents coming to take their guns, then their food stocks, so food can be re-distributed as the government sees fit.” If the dead Officer’s claims about an unavoidable economic and banking collapse are true, would it then follow that the Executive Order put in place by Obama, might be activated? Would all of us find ourselves in forced labor, while the government takes OUR food and re-distrubutes it under the Executive Order’s paragraph about “allocating resources?” This is terrifying stuff! There is much more to the suicide note and SuperStation95 is considering how much more to publish. As such, this is a developing story and readers should check back for further updates. THESE COULD SIMPLY BE INSANE RAMBLINGS It is not our intent to cause panic or alarm and while we expect readers to be intelligent enough to discern this on their own, we feel compelled to point out that these could simply be paranoid ramblings of an insane person who killed himself. On the other hand, these could also be revelations by a person who was so distraught over the ugly truth, that he killed himself. We at SuperStation95 just don’t know. We urge everyone to stay calm, think rationally, and decide whether or not to take any action to prepare, in case this person’s suicide note is telling the truth. SOURCING / CORROBORATION \\n(1) ICE Agent Suicide in NYC: NY Daily News \\n(2) Taken to Lenox Hill Hospital NY Post \\n(3) REX-84 FEMA CAMPS Wikipedia \\n(4) National Guard being stripped of Crew-Serviceable Weapons and communications gear – Republic Broadcasting, John Stadmiller \\n(5) Dept. of Homeland Security Orders 1.6 BILLION rounds of ammunition Forbes Magazine \\n(6) US Army over-deployed and intentionally shrunk ARMY TIMES \\n(7) Clergy Recruited by Gov’t to quell opposition KSLA-TV Channel 12 \\n(8) Executive Order 13603 White House US Government Printing Office UPDATE – MAY 10, 2016 10:00 PM EDT– The web site SNOPES.com has issued a declaration that our story is some sort of hoax, that we are somehow NOT a radio station and attributed the story – and this web site – to a former FBI National Security Intelligence Asset named Hal Turner, whom she smears as a “White Supremacist.” This is not the first time SNOPES.com has made accusations against us simply because we have been the exclusive source of politically-incorrect news. And while we stand-by our stories in every regard, this barrage of attacks by SNOPES.com is becoming libelous. \\nWe address the SNOPES.com accusations one at a time: 1) No aspect of our story above is a hoax. What Snopes.com seems to take issue with is the existence and content of a suicide note which was revealed to us by the NYPD. The person from NYPD who gave us this information did so after trying to get two other New York Media outlets, (one TV, the other a newspaper) to publish the story and was rebuked within minutes by media contacts who said “we won’t touch this with a ten foot pole.” The fact that the NYPD now claims “no note was found” does not surprise us at all; NYPD has very close ties with the feds and the feds have an intense interest in concealing or discrediting the information it contained. 2) According to the FCC Licensing Bureau, 95.1 FM in New York City is the HD-4 frequency for WNSH 94.7 FM as licensed by the FCC as shown HERE 3) Our story was written by our News Room staff, not anyone named Hal Turner. 4) Mr. Turner was formerly a paying customer of this radio station from October 7, 2015 thru March 30, 2016. He bought air time from us to air his personal radio show “The Hal Turner Show.” Finances caused Mr. Turner to cancel his programming on our radio station and continue his show on WBCQ International Shortwave , where he is on the air live from 9-11 PM every Wednesday evening. Mr. Turner’s web site is: HalTurnerShow.com . He is welcome to return to our airwaves if his finances improve. 5) SNOPES.com claims Mr. Turner is a “white supremacist.” In reality Mr. Turner worked for the FBI from 1993 – 2008, with his TOD as the Joint Terrorism Task Force from 2003-2008. His job was to infiltrate white supremacist groups to thwart violent criminal acts by such persons. This information came out when the Obama Administration betrayed Mr. Turner in 2009 and arrested him for writing in 2009, what the government PAID HIM $3,000 TO SAY on DATELINE NBC and FOX NEWS CHANNEL just four years earlier in 2005! After three trials (two hung juries) Mr. Turner was Bankrupted by legal fees, was appointed a public defender, who threw the case, resulting in Mr. Turner’s conviction. For SNOPES.com to smear Mr. Turner as a “White Supremacist” when federal court records show the exact opposite, is a prime example of the utterly shoddy research and reporting provided by SNOPES.com \\nThe criticism and SNOPES.com outright falsehoods about this story, and others, have been written mostly by: \\nMs. Kim A Lacapria, Age 37 (born Mar 20, 1979 ) \\n39 Cockonoe AVE \\nBabylon, NY 11702-1901 Those of you who are offended by this type of journalistic misconduct, may wish to contact Ms. LaCapria in a peaceful, lawful, non-threatening and non-violent manner to complain about her shoddy journalism. PLEASE DO NOT HARASS THIS IGNORANT PERSON and PLEASE,PLEASE,PLEASE do not make any threats or commit any intimidation. None of us need that and it will only result in serious legal trouble. \\nMs. La Capria can be reached at: Tel. (516) 422-7943 \\n(516) 422-7494 ': 1,\n",
       "         'We Are Change \\n\\nIn today’s political climate even our beer is up for debate. And why shouldn’t it be? This is America. We debate things here. That’s how democracy works. (At least when the issues aren’t taboo.) Recently, it’s shown up in the state of Pennsylvania with Eric Trump, Donald Trump’s son, garnering an endorsement for the Republican candidate from Yuengling, America’s oldest brewery.\\nAnd now the debate turns to political action.\\nWith the most recent statement from Richard “Dick” Yuengling Jr., the 73-year-old owner of D. G. Yuengling & Son’s, located in Pottsville, Pennsylvania — the seat of Schuylkill County — Yuengling said that his company was “behind” Trump. Inevitably, a lashing out occurred in the digital realm with regard to political correctness and expressively personal views. Customers weren’t pleased. They were offended. In fact, some even claimed that they’d never drink Yuengling again.\\nThis is what democracy is, and should be. Sure. And yet, something is lost in the politicized scramble of this ugly election year.\\nA Pennsylvania state representative, Brian Sims, announced on his Facebook page that he was saying “GOOD BYE” to Yuengling Brewery.\\n“I’m not normally one to call for boycotts but I absolutely believe that how we spend our dollars is a reflection of our votes and values! Supporting Yuengling Brewery, that uses my dollars to bolster a man, and an agenda, that wants to punish me for being a member of the LGBT community and punish the black and brown members of my community for not being white, is something I’m too smart and too grown up to do.” \\nSims represents the 182nd district of Philadelphia , which includes a majority of Center City, in addition to parts of Rittenhouse Square, Grays Ferry, and South Philadelphia. I live here. I walk those areas of the city.\\nAnd I see, feel, and hear other elements of our society that go unnoticed or receive little to no attention. To observe this sort of outcry against a presidential candidate is expectantly what democracy was birthed upon, as we know in the city of Philadelphia. We take action. (We like to think.) However, along the way I’ve seen the incessant results of many issues that get buried, in favor of political expediency and trending topics that ultimately define our aggressive actions towards “voting with our dollars”.\\nIf that’s the case, then what about all the other detriments to our standard of living? For instance, the opiate epidemic that is sweeping Pennsylvania and the surrounding states and the rest of the country by storm.\\nAccording to a June 2016 report from the Philadelphia Department of Public Health , entitled “The Epidemic of Overdoses From Opioids in Philadelphia”, drug deaths involving the fatal use of opioids, from 2000-2014, had tripled. In 2014, approximately 47,000 people died from overdoses in the U.S., according to the Centers for Disease Control & Prevention (CDC). Sixty-one percent of that total was attributed to the use of opioids.\\n“Since 1999, the number of prescriptions for pharmaceutical opioid pain relievers in the U.S. more than quadrupled.” \\nOpioid-related overdose deaths in Philadelphia were nearly three times higher in men than among women in 2015. Those deaths were also more than two times as high among whites, as opposed to deaths among African Americans.\\nBetween 2003 and 2015, in Philadelphia, cocaine and benzodiazepines were detected in overdose deaths in tandem with opioids at a rate of 70% and 90%, respectively. During that same period, overdose deaths related to heroin more than doubled in the city, with approximately 400 deaths reported in 2015.\\nIn that same year, there were nearly 700 drug overdose deaths in Philadelphia. That’s more than twice as many deaths from homicide in that same year.\\nFrom 2014-2015, 10% of the nearly 1,300 overdose deaths in Philadelphia were from non-residents. Most of those non-residents were people from New Jersey, Delaware, Maryland, and other parts of Pennsylvania.\\nOnce the president is elected, these issues won’t go away. In fact, they’re extant — some as a surrogate to the system we attribute to healthcare. (One of the most hotly contested issues of partisan bickering in the country.)\\nAdditionally, these effects are increasingly felt in Philadelphia hospitals.\\n“The percentage of Philadelphia hospital emergency department visits related to opioid overdoses increased from approximately 0.4% in 2007 to nearly 0.7% in 2015. In 2015, there were over 6,500 emergency department visits for opioid overdoses. For each opioid-related death, there were approximately 12 hospital emergency department visits.” \\nSo while the country politically corrects itself — whatever that means — myriad issues get buried beneath picking and choosing a side, in response to the emotional disturbances of partisan bickering.\\nRather than dealing with facts, the web of society becomes entangled with He Said, She Said.\\nUltimately, this coercive cultural backwardness and evolutionary substandard, the rattle-mouthed bickering of intellectual thought and deceptive, manipulative action, that matches up more closely with the reptilian species, rather than the spirit of the human heart and the cultural celebration of life and all its wonder, is exactly what gave rise to Trump.\\nAnd our opioid epidemic.\\nSomewhere along the way, the facts were buried beneath the lie. And the truth has become something else, entirely.\\n \\nSources\\nhttp://www.phillyvoice.com/beer-drinkers-disavow-yuengling-after-owner-shows-support-for-trump/ \\nThe post Political Correctness for Yuengling Brewery; What About Our Opioid Epidemic? appeared first on We Are Change .\\n': 1,\n",
       "         'A new national poll shows Vice President Biden faring better than Hillary Clinton in match-ups against top Republican presidential candidates, as the VP weighs jumping into the race -- and meets Thursday with a top labor leader.\\n\\nFox News has learned that Biden is meeting later in the day with AFL-CIO President Richard Trumka. This comes after he met last weekend with liberal icon, Massachusetts Sen. Elizabeth Warren.\\n\\nHe\\'s making the rounds amid a flurry of polls showing Clinton potentially vulnerable. The latest Quinnipiac University National Poll shows Clinton polling better than Biden – who is not a declared candidate – in the Democratic primary race. But the poll gives Biden the slight edge when squared against leading GOP contenders.\\n\\n\"Note to Biden: They like you, they really like you, or they like you more than the others,” Tim Malloy, assistant director of the Quinnipiac University Poll, said in a statement.\\n\\nThe poll shows Biden leading Republican front-runner Donald Trump, 48-40 percent. He also leads former Florida Gov. Jeb Bush, 45-39 percent.\\n\\nThe former secretary of state also edges those candidates, but not by as much. She leads Trump 45-41 percent; she leads Bush 42-40 percent.\\n\\nBoth candidates narrowly lead Florida Sen. Marco Rubio. The survey comes on the heels of another showing Biden running strong in head-to-head match-ups against Republicans in key swing states.\\n\\nBiden continues to weigh a potential bid, as Clinton struggles with the controversy over her personal email and server, and faces eroding poll numbers. The Quinnipiac poll showed her with her worst favorability rating yet – with only 39 percent holding a favorable view of her, compared with 51 percent who don’t.\\n\\nClinton weighed in on the Biden rumors Wednesday, saying in Iowa that, “He should have the space and the opportunity to decide what he wants to do.”\\n\\n“I’m going to be running for president regardless,” she added.\\n\\nThe Quinnipiac poll of 1,563 registered voters was conducted Aug. 20-25. It has a margin of error of 2.5 percentage points.': 1,\n",
       "         \"Russian warplanes began airstrikes in Syria on Wednesday, adding an unpredictable new element to a four-year-old war that has already drawn in the United States and allies, fueled a refu\\xadgee crisis and expanded the reach of the Islamic State.\\n\\nIn Washington, the dramatic escalation of Russia’s military involvement was viewed as an affront just two days after President Obama and Russian President Vladi\\xadmir Putin sat down to discuss means for negotiating the deep differences in their countries’ approaches to the conflict in Syria.\\n\\nThe strikes sharply increase tensions with Russia as U.S. officials dispute Moscow’s claim that its aircraft targeted the Islamic State, the brutal extremist group that controls much of Syria and Iraq. Instead, U.S. officials said the strikes appeared to target opponents of Syria’s embattled President Bashar al-Assad, a key Russian ally. Those hit include U.S.-backed units that were trained and armed by the CIA, officials said.\\n\\nAccusing Russia of “pouring gasoline on the fire,” Defense Secretary Ashton B. Carter vowed that U.S. pilots would continue their year-long bombing campaign against the Islamic State in Syria, despite Moscow’s warning to keep American planes away from its operations.\\n\\n“I think what they’re doing is going to backfire and is counterproductive,” Carter said.\\n\\nThe introduction of Russian air power — which took place with scant notice to the U.S. government — threatens to upend U.S. strategy in Syria at a time when U.S. military officials say they are beginning to discern hints of progress against the Islamic State, a heavily armed al-Qaeda offshoot that is also known as ISIS and ISIL.\\n\\nIt also raises the stakes over competing visions for Syria outlined this week at the United Nations, where Putin insisted that Syria’s embattled government is the key to stability after four years of bloodshed and Obama warned that the “status quo” cannot stand.\\n\\n[This is Russia’s air power in Syria]\\n\\nU.S. officials were particularly irked that they didn’t get much warning of the strikes, even as they make plans to resume military talks with Russia about Syria as early as next week. Discussions have been halted since last year over Russia’s support for separatists in Ukraine.\\n\\nEarlier Wednesday, a Russian general posted in Baghdad showed up at the U.S. Embassy there, officials said, and told the American defense attache that airstrikes would begin about an hour later.\\n\\nRussia’s Defense Ministry said Russian aircraft had conducted about 20 sorties targeting the Islamic State, according to the news agency Interfax.\\n\\nThe Syrian state-run news agency reported that Russian planes had attacked “dens” of the Islamic State in Rastan, Talbiseh and other towns around Homs, the strategic city that Assad hopes to claim as he seeks to defend areas remaining under his control.\\n\\nBut U.S. officials expressed doubts in the hours after the strikes about Russian claims that the sorties targeted the Islamic State. Areas around Homs, a former hotbed of the popular revolt that began against Assad in 2011, are not known as strongholds for the group, which controls a vast swath of territory across Syria and Iraq.\\n\\nNidal Ezddin, a representative of Homs’s civil defense force, said a series of Russian strikes killed 36 people around Homs. “These bombings were not against ISIS,” he said. “They were for ISIS.”\\n\\nCivil defense officials and activists also reported that some of the Russian strikes were accompanied by barrel bomb attacks by Syrian air force helicopters.\\n\\nThe strikes cap weeks of Russian military buildup in Syria, where Assad is battling both the Islamic State and rebel factions backed by the West. Assad’s forces\\xad are blamed for fueling the war that has forced more than 4\\xa0million people to flee the country, many of whom are joining a wave of asylum seekers and migrants flooding Europe.\\n\\nForces loyal to Assad hope to lay claim to Homs province, a key link between the capital, Damascus, and government strongholds on the Mediterranean coast, including the key port city of Latakia. Russia has a naval facility at Tartus, about 50 miles south of Latakia.\\n\\nCharles Lister, a visiting fellow at the Brookings Doha Center, said the strikes may be an attempt to weaken Assad’s principal adversary rather than the Islamic State.\\n\\n“Amid the regime’s major losses .\\u2009.\\u2009. Assad’s apparent request to Moscow for military assistance seems a last-gasp appeal for help from what was a dying regime,” he said. “How far Russia is willing to go to defend its proxy interests now remains to be seen, but certainly, the dynamics of the conflict have taken a huge shift today.”\\n\\n[Russia’s strategy in Syria could be work in progress]\\n\\nThe strikes appeared to have also hit groups backed by the United States, including rebels who have been trained by the CIA. A U.S. official said there was “no reason to doubt reports from the region that coalition-backed forces from Hama were hit,” a reference to a rebel group known as Tajammu al-Aaza based in that western Syrian province.\\n\\nThe leader of that group, Jamil al-Saleh, told the news organization AlSouria.net that the Russian strikes had pounded his organization’s base in Lataminah, a town roughly 30 miles north of Homs. Saleh was an officer in the Syrian army before defecting.\\n\\nThe U.S.-backed group also posted a video that shows fighter jets streaking across the sky seconds before the base is rattled by explosions.\\n\\n[Graphic: Were Russian airstrikes really aimed at the Islamic State? ]\\n\\nThe CIA has trained thousands of fighters at secret bases in Jordan in an effort to bolster moderate factions against the Assad government. A Russian strike on U.S.-backed units will only intensify pressure on the Obama administration to respond.\\n\\nSpeaking at the United Nations, Secretary of State John F. Kerry said the United States would have “grave concerns” if Russian airstrikes hit moderate U.S.-backed opposition forces\\xad fighting Assad rather than the Islamic State.\\n\\nAlso on Wednesday, Kerry told Russian Foreign Minister Sergei Lavrov that the strikes run counter to Russia’s stated intention to cooperate on “deconfliction,” or ensuring that mishaps do not happen in the air.\\n\\nPutin spokesman Dmitry Peskov defended Russia’s actions after its parliament approved a resolution authorizing the use of force in Syria. “Russia will factually be the only country to carry out this operation on the legitimate basis of the request of the legitimate government of Syria,” he said.\\n\\nThe resolution came without warning in the Federation Council, Russia’s higher body of parliament, where 162 senators voted unanimously in support after a closed-door discussion — similar to a vote last year to green-light Russian military force in Ukraine.\\n\\nSergei Ivanov, the Kremlin chief of staff, said that the resolution was strictly limited to the use of Russian aviation in Syria and that ground troops would not be sent into battle.\\n\\nWhile Russia has supplied arms to Assad for years, direct intervention seemed unlikely until early this month when Russian aircraft, tanks and troops were spotted in Syria.\\n\\nSpeaking in Moscow, Putin said he hoped Assad would be open to political compromise.\\n\\n“I know that President Assad understands that and is ready for such a process. We hope that he will be active and flexible and ready to compromise in the name of his country and his people,” Putin told reporters, according to the Reuters news agency.\\n\\nCritics say that the Kremlin is using the Syrian crisis to escape international isolation after its annexation of the Crimean Peninsula in March 2014, and to divert attention at home from the conflict in eastern Ukraine.\\n\\nThe strikes also come as the Obama administration considers changes\\xad to its Syria strategy, including a possible expansion of military assistance to anti-Assad rebels and a new focus for a troubled effort to train an independent force to fight the Islamic State.\\n\\nMurphy and Ryan reported from Washington. Daniela Deane in London, Hugh Naylor in Beirut, Carol Morello and Karen DeYoung at the United Nations, and Greg Miller, Thomas Gibbons-Neff, Dan Lamothe and William Branigin in Washington contributed to this report.\\n\\nWhy Russia is in Syria\\n\\nToday's coverage from Post correspondents around the world\": 1,\n",
       "         \"Let's pretend for a moment that the biggest headlines out of Sunday night's presidential debate had nothing to do with sexual assault allegations, or non-handshakes, or threats to jail political opponents—but instead were about policy. In that bizarre alternative universe, what could we actually learn?\\n\\nThat the two exhausted political parties have nothing much left to offer except critiques about how lousy the other one is.\\n\\nHosted by Matt Welch; camera and editing by Jim Epstein.\\n\\nLike us on Facebook.\\n\\nSubscribe to our podcast at iTunes.\": 1,\n",
       "         'Belgian authorities missed a chance to press a key terrorism suspect for intelligence in the days ahead of the suicide bombings that struck the capital, prosecutors said Friday, acknowledging a significant security lapse that may have allowed his allies to attack unimpeded.\\n\\nEven as the men involved in Tuesday’s attacks were racing to strike, fearful that authorities were closing in on them, investigators did not ask the attackers’ jailed ally, Salah Abdeslam, about his knowledge of future plots, Belgian federal prosecutors said Friday.\\n\\nAbdeslam, believed to be the logistics chief of the Islamic State’s November attacks in Paris, was apprehended March 18, apparently spurring one of the Brussels attackers to write that he feared capture by the police. But after Abdeslam’s arrest, investigators concentrated solely on the Paris attacks. Abdeslam was questioned for two hours last Saturday, the day after he was captured in a raid at a Brussels safe house — and then no other discussions were held until after Tuesday’s attacks, when he refused to speak further, prosecutors said.\\n\\nThe failure to push Abdeslam for concrete intelligence — even as close associates were known to be on the loose — adds to an emerging picture of intelligence agencies, police forces\\xad and criminal investigators that repeatedly failed to take advantage of opportunities to avert the attacks on Tuesday, the worst single day of violence in Belgium since World War II.\\n\\n“We cannot exclude that, if everybody had been perfect, this could have gone differently,” Belgian Justice Minister Koen Geens told a special session of Parliament convened Friday to question top security officials about the lapses.\\n\\nThe acknowledgment from the prosecutors came as authorities conducted raids across Brussels and in France and Germany, an indication that they were still hotly pursuing terrorist plots and that the network may spread across a wide stretch of Europe.\\n\\nTwo Belgian Islamic State fighters threatened that “this is just the beginning of your nightmare,” in a video released Friday. “Know we have other targets and we are determined,” said a man identified as Abu Abdullah al-Beljiki, according to a translation by the SITE Intelligence Group, which monitors jihadist propaganda.\\n\\nBelgian commandos and bomb-disposal units on Friday swept through a district at the heart of the Brussels attack probe. The raids followed police operations in France and Germany that displayed the expanding crackdowns that increasingly connect the last two terrorist blows in Europe: November’s bloodshed across Paris and Tuesday’s twin-site suicide bombings in Brussels that killed at least 31 people — including at least two Americans.\\n\\nAmong those arrested in the latest roundups was a French suspect who officials believe was directing a plot for an impending attack in France. The investigation touched off a series of related police raids in Belgium on Friday.\\n\\nThe police actions came as Secretary of State John F. Kerry touched down in Brussels to discuss strategies about how to combat the Islamic State with top European leaders. Kerry met with Belgian Prime Minister Charles Michel before joining a Europe-wide security meeting to examine ways to counter militant reach into the continent. Officials have raised alarms about potential threats from citizens returning after fighting with the Islamic State and other groups.\\n\\nSpeaking to reporters after a meeting with Michel, Kerry defended Belgium’s security efforts. He said that it appeared to him at first glance that the Brussels attackers were moved to act because they feared being apprehended by authorities.\\n\\n“That tells you the dragnet is closing in. It tells you law enforcement is in fact having an impact,” Kerry said. “It may not have worked out as everyone might have wished here, but if that is true .\\u2009.\\u2009. it tells you a lot about what’s beginning to become effective.”\\n\\nBut even Abdeslam’s attorney has suggested that his client may possess knowledge that could avert future terrorist attacks on European soil, further highlighting the lapse by Belgian investigators not to press Abdeslam for intelligence ahead of the Brussels attacks. The prosecutors said that they were slowed by the doctors’ treatment of the gunshot wound to the leg that Abdeslam suffered in the raid before his capture.\\n\\nAbdeslam was not “up to date” about the Brussels attacks, his attorney, Sven Mary, told the Europe 1 radio network on Thursday.\\n\\nBut, Mary said, “I would not want him to stop talking for lots of reasons. To stop talking could face us again with other Zaventems and other Bataclans, and I would perhaps like to avoid that.”\\n\\nHe was referring to Brussels Airport in Zaventem, where two suicide bombers struck on Tuesday, and the Bataclan nightclub in Paris that was a target of the November attacks.\\n\\nIn raids across Brussels on Friday, police detained three people, including in a large operation in the Schaerbeek area, which has become a focal point of investigations into Tuesday’s attacks. Dozens of black-clad security officers swarmed a wide avenue to detain one person, setting off fears in a city still on edge from the recent violence.\\n\\nBelgian TV aired amateur footage of the detention that appeared to show a man who had been shot in the leg being dragged away from a tram stop by counterterrorism police while a bomb-disposal robot waited nearby. Belgian prosecutors said the man was arrested in connection with a French raid a day earlier.\\n\\nIn Germany, authorities held a man who was deported from Turkey in July alongside Brussels suicide attacker Ibrahim el-Bakraoui, 29, over suspicions of trying to fight in Syria. A German official, speaking on the condition of anonymity, said it was not immediately clear whether the man detained Thursday had direct ties to Bakraoui.\\n\\n[Families still in desperate wait for news after attacks]\\n\\nBoth Bakraoui and his 27-year-old brother, Khalid el-Bakraoui, who also blew himself up on Tuesday, were on a U.S. terrorism watch list ahead of the attack, according to a U.S. official speaking on the condition of anonymity to discuss intelligence matters.\\n\\nIt was not clear whether they had been on the U.S. “no-fly” list.\\n\\nNeighbors said Friday that the Bakraoui family appeared unexceptional in the diverse Laeken area of Brussels. The brothers’ father was a butcher and their mother is a housewife. As for the siblings themselves, “they seemed very nice people, never the thugs with the caps who make people scared. Absolutely not,” said Fatima, 31, a family friend and neighbor who spoke on the condition that her last name not be used.\\n\\nBelgium’s federal prosecutor said Friday that the suspect detained in a raid the previous night in the Paris suburb of Argenteuil is believed to have connections to Abdelhamid Abaaoud, the deceased ringleader of the November attacks that left 130 dead.\\n\\nReda Kriket, a 34-year-old French citizen, had been convicted in a Belgian court in July of participating in the activities of a terrorist group, the prosecutor said. French authorities said that he had been planning an imminent attack on their country.\\n\\nMeanwhile, the list of the Brussels victims became clearer.\\n\\nAt least two Americans were killed, a U.S. official said Friday, but their names were not disclosed.\\n\\nAlso among the dead from the airport bombings: a Dutch brother and sister who lived in the United States. They were Alexander Pinczowski, 29, and Sascha Pinczowski, 26, said a representative for their family, James Cain.\\n\\nCain, the father of Alexander Pinczowski’s fiancee and a former U.S. ambassador to Denmark, said the siblings had hoped to become U.S. citizens.\\n\\nThe Belgian Foreign Ministry announced that André Adam, a former ambassador to the United States, died in the attacks.\\n\\nBritain, China and France also confirmed at least one citizen each among the fatalities, while the Netherlands confirmed one citizen in addition to the Pinczowskis.\\n\\nJames McAuley, Missy Ryan, Annabell Van den Berghe and Souad Mekhennet in Brussels and Adam Goldman, Lindsey Bever and Brian Murphy in Washington contributed to this report.\\n\\nIn Syria and Iraq, the Islamic State is in retreat on multiple fronts\\n\\nAnti-terrorism crackdowns may have spurred attackers, Belgian prosecutor says\\n\\nThe many missing pieces in the Brussels attacks investigation': 1,\n",
       "         'Home › SOCIETY | US NEWS › STATE OF GEORGIA FIRES PASTOR BECAUSE OF HIS FAITH; GOVERNMENT DIDN’T “APPROVE” BIBLICAL SERMONS STATE OF GEORGIA FIRES PASTOR BECAUSE OF HIS FAITH; GOVERNMENT DIDN’T “APPROVE” BIBLICAL SERMONS 0 SHARES [10/27/16] In the latest turn of events in the United States Government’s war against Christianity, a Pastor is now being required by a Federal court to turn over the transcripts and notes of all of the sermons he has ever conducted. A minister who was hired by the Georgia Department of Public Health was recently fired because of his faith, and sermon contents. Dr. Eric Walsh, a Seventh-day Adventist lay minister, is suing the State of Georgia Department of Public Health for religious discrimination. \\nA very simple question should cross your mind as you read this report, should my pastor’s sermons be approved by the Government or God? \\nThe state of Georgia inquired that the pastor relinquish his sermons to the government, according to federal court documents. \\n“Please produce a copy of your sermon notes and/or transcripts,” Attorney General Samuel Olens wrote to attorneys representing Dr. Eric Walsh. \\nDr. Walsh refuses to comply with the request because in May 2014, when Walsh was hired by the District Health Director; another government official asked him to submit copies of his sermons for review. He complied, and two days later he was fired. \\nHis attorneys said the government was curious about sermons Dr. Walsh delivered on health, marriage, sexuality, world religions, science, and creationism. He also preached on what the Bible says regarding homosexuality. \\nSince the event, Dr. Walsh has filed a federal lawsuit charging state officials with engaging in religious discrimination. \\n“He was fired for something he said in a sermon,” attorney Jeremy Dys told me. “If the government is allowed to fire someone over what he said in his sermons, they can come after any of us for our beliefs on anything.” \\nDr. Walsh has assembled a powerhouse legal team comprised of Parks, Chesin & Walbert along with First Liberty Institute, one of the nation’s most prominent religious liberty law firms. Post navigation': 1,\n",
       "         'The Latest On Paris Attack: Manhunt Continues; Brothers Were On No-Fly List\\n\\nFrench authorities are still on the hunt for two brothers suspected in an attack against the headquarters of a satirical magazine in Paris that left 12 people dead.\\n\\nThe two chief suspects, named as Said and Chérif Kouachi, 34 and 32, remain at large. Investigators believe Said Kouachi traveled to Yemen in 2011 to receive weapons training with Al-Qaeda in the Arabian Peninsula, NPR\\'s Dina Temple-Raston reports, citing U.S. officials who\\'ve been briefed on the case.\\n\\nBoth of the brothers have been on the U.S. no-fly list for years, U.S. officials tell NPR.\\n\\nNPR\\'s Eleanor Beardsley reports that the French capital is on its highest alert level, and 800 soldiers and riot police have been called on to guard the city. Schoolchildren, Eleanor said, are being kept inside for recess.\\n\\nTo add to the tension, there was a shooting on Paris\\' southern edge that killed a police officer and wounded a street sweeper. Bernard Cazeneuve, France\\'s Interior Minister, said those shootings had not been linked to the attack on Charlie Hebdo.\\n\\nOvernight, one of the three suspects, identified by French media as 18-year-old Mourad Hamyd, was reported to have turned himself in.\\n\\nCazeneuve said nine people had been detained in connection to the attack.\\n\\nLocal officials say mosques were targeted across the country late Wednesday and early today. There were no reports of injuries, and it\\'s unclear if they are linked to the attack on Charlie Hebdo. But Cazeneuve said the country would not tolerate any attacks on places of worship.\\n\\nThis is a breaking news story. As often happens in situations like these, some information reported early may turn out to be inaccurate. We\\'ll move quickly to correct the record and we\\'ll only point to the best information we have at the time. Refresh this page for the latest.\\n\\nUpdate at 5:55 p.m. ET. Suspects Were On U.S. No-Fly List\\n\\nNPR has confirmed that both Cherif and Said Kouachi have been on the U.S. no-fly list for years. They\\'re also in the central U.S. database of people who pose a known or potential terrorist threat, worldwide: the Terrorist Identities Datamart Environment.\\n\\nUpdate at 3:15 p.m. ET. Eiffel Tower Goes Dark\\n\\nIn honor of the victims of Wednesday\\'s attack, the Eiffel Tower turned off its lights. The mayor of Paris, Anne Hidalgo, tweeted a series of images showing the famous landmark going dark.\\n\\nUpdate at 1:03 p.m. ET. No Link:\\n\\nBernard Cazeneuve, France\\'s Interior Minister, said authorities had not found a link between today\\'s shootings and the attack on Charlie Hebdo.\\n\\n— Police found Said Kouachi\\'s ID in a car used by the men to get away. As soon as they learned that name, police launched a manhunt and searched the home of the Kouachi brothers.\\n\\n— Nine people are presently in custody in connection with the attack.\\n\\n— Two people who looked like suspects were seen in Villers-Cotterêts, where police launched an intense search near a gas station.\\n\\n— Police have heard from more than 90 witnesses and are reviewing Internet use and surveillance to try to find the two men.\\n\\n— Cazeneuve said Said Kouachi had never been accused or convicted of a crime like his brother but had surfaced at the \"periphery of some investigations.\"\\n\\nUpdate at 12:36 p.m. ET. Dusk In Paris:\\n\\nThe sun has now set in Paris, reporter Lauren Frayer tells our Newscast unit.\\n\\nShe\\'s at the Place de la République, where she says for the second night in a row people are streaming in for an impromptu vigil.\\n\\nLauren reports that the city only came to a halt at noon today for a moment of silence. But even though there is man hunt ongoing, Parisians have gone about their business: shops and restaurants are open and the metro is running.\\n\\nAsteris Masouras, a freelance journalist in Paris, has been tweeting from the scene — pictures of demonstrators carrying posters that read Je Suis Charlie and others leaving candles at the foot of the statue in the center of the square.\\n\\nMasouras also tweeted a video that shows the crowd whispering La Marseillaise, France\\'s national anthem.\\n\\nFrance\\'s Interior Ministry says that more than 88,000 personnel have deployed across France to help with security after the attacks.\\n\\nIn the Paris district alone, 9,650 personnel were deployed, including more than 1,000 military personnel.\\n\\nUpdate at 10:16 a.m. ET. The Younger Suspect\\'s Name:\\n\\nThere is some variance in the way the name of the third suspect in this case is being reported. For now, based on reporting by the AFP and other French outlets who have spoken to classmates, we will call the suspect Mourad Hamyd.\\n\\nEarlier, we had named him as Hamyd Mourad.\\n\\nUpdate at 9:44 a.m. ET. \\'Stupidity Will Not Win\\':\\n\\nUpdate at 7:19 a.m. ET. Not Linking Suspects To Terrorist Groups:\\n\\nCounterterrorism officials have been careful not to link the two main suspects to terrorist groups, NPR\\'s Dina Temple-Raston tells our Newscast Unit.\\n\\nOne of the men, Chérif Kouachi, was convicted on terrorism charges in 2008. He served 18 months for helping to funnel fighters from France to Iraq.\\n\\nWhat\\'s unclear, said Dina, is what happened to Kouachi after that. It\\'s unclear whether he has ever traveled to Syria and it\\'s unclear whether he has developed links to terrorist groups — including the Islamic State — since 2008.\\n\\nJudging by the shot patterns left on a police cruiser yesterday, what is clear is that the two suspects were very comfortable using high-powered weapons. It\\'s likely, Dina said, that they received some military training. The question is where.\\n\\nUpdate at 6:44 a.m. ET. Roads Shut Down:\\n\\nNPR\\'s Eleanor Beardsley reports that police have shut down all roads in and out of Paris.': 1,\n",
       "         '18 SHARE The Amish in America have committed their vote to Donald Trump guaranteeing him the Presidency. (AP Photo / Dennis System) \\nCOLUMBUS, OH (AP) — History was made today in Columbus, Ohio when more than 3 million Amish poured into the city to see the American Amish Brotherhood (AAB), an organization which acts as an informal governing body for the Amish community, endorse Donald Trump for president. That number represents a significant portion of the total Amish population, which the United States Census Bureau says numbers more than 20 million men and women nationwide all pledging their vote to Trump for President. With the full force of the Amish community behind him, Donald Trump is now mathematically guaranteed to win the presidency in November. \\nThe organization typically meets once a year and the meetings usually consist of about 300 Amish leaders who meet to discuss the challenges, such as urban sprawl, that face the community. This year, however, the organization wanted as many people in attendance as possible so they can effectively instruct all Amish men and women of legal voting age to cast their vote for the flamboyant Republican nominee. \\nThe Amish, who are direct descendants of the protestant reformation sect known as the Anabaptists, have typically stayed out of politics in the past. As a general rule, they don’t vote, serve in the military, or engage in any other displays of patriotism. This year, however, the AAB has said that it is imperative that they get involved in the democratic process. \\n“Over the past eight years, the Democratic Party has launched a systematic assault on biblical virtues,” said AAB chairman Menno Simons. “We have seen more and more Christians being persecuted for their faith; we have seen the state defile the institution of marriage. Now, they want to put a woman in the nation’s highest leadership role in direct violation of 1 Timothy 2:12. We need to stop this assault and take a stand for biblical principles. Donald Trump has shown in both action and deed that he is committed to restoring this country to the Lord’s way.” \\nAccording to statistician Nate Silver of the website fivethirtyeight.com, there are no possible scenarios in which Hillary Clinton can win with Donald Trump carrying the Amish vote. \\n“The Amish have their highest numbers in perennial swing states like Pennsylvania, Virginia, Ohio, Indiana, and Iowa,” Silver noted. “They also have strong numbers in reliably Democratic states like Michigan, Illinois, and New York, meaning that Hillary will lose those states as well. There is also a sizeable community in Florida which, while not as large as it is in the Midwest, is still large enough to turn Florida for Trump. Over the next two weeks, you can expect Hillary to enter into a state of freefall in all of my predictive models.” \\nThe Clinton campaign issued a written statement to the AAB asking them to reconsider their decision. \\n“I don’t believe that Donald Trump is the person who best represents your interests,” Clinton wrote to the AAB. “As a career real estate developer, he represents a clear threat to your simple way of life. As former first lady of Arkansas, I understand the concerns of rural Americans more than any candidate in this election. I implore you to consider all of the facts before voting for my opponent.” \\nMost pundits believe that Mrs. Clinton’s plea is too little too late. \\nDuring a press conference in Manhattan, Trump thanked the AAB for their support and promised to put the Amish to work maintaining government buildings, which he said would save taxpayers millions because “the Amish do great work for a very low price.” \\nThough Clinton has pledged to stay in the race until the very end, many of her campaign workers have already resigned. According to the Associated Press, it is expected that the Clinton campaign will lose 50% of its staff over the next two weeks. There is a general mood of hopelessness and despair in the Clinton camp, and many simply want to cut their losses. \\n“It looked like she was going to win this election easily,” said Paul Horner, a campaign worker in Ohio, “But this is what happens when you wake a sleeping giant. Cleary, Mrs. Clinton took far too much for granted in this race, and we are all now paying the price. It’s really sad to see the campaign end this way.” \\nIf you are interested in learning more about the Amish community and the AAB, you can contact the Pennsylvania Amish Heritage Museum at (785) 273-0325. TAGS ': 1,\n",
       "         'We Are Change \\nDonald Trump on Saturday was quickly ushered off the stage by Secret Service agents in the middle of a campaign speech in Nevada after an incident in the crowd near the front of the stage.\\nSecret Service rushes Trump off stage at Reno rally https://t.co/n82d9jXopX \\n— Chrissy (@omgitsmechrissy) November 6, 2016 \\nVideo shows that Trump was in the middle of his speech when the incident occurred. He was looking into the crowd, his hand over his eyes to block the glare from the stage lights, when Secret Service agents grabbed him and escorted him off the stage. Trump ducked his head as he left the stage. The crowd panicked with frightened looks on their faces, as the Secret Service and police tactical units rushed in to quickly arrest the man. Video on twitter shows the moment that the Secret Service and law enforcement took down the man. Got footage of man who was detained by police and Secret Service after @realDonaldTrump was rushed off stage by USSS agents pic.twitter.com/FVEieSYj5w \\n— Jeremy Diamond (@JDiamond1) November 6, 2016 \\nEarly unconfirmed reports suggest a man was armed in the crowd according to some witnesses. One witness said that they were in the crowd when an unknown guy creeped toward the stage staring at Trump. The witness then proceeded to get the attention of four bigger guys surrounding them and confronted the man. The man then freaked out and reached into his pocket to grab what looked like a gun.” According to the witness the man was mumbling about “the delegates.” “ I was in the crowd, me and my dad saw a guy creeping toward the stage staring at trump. i got the attention of 4 big guys around me and we confronted him and when we did he spurged out and reached into his pocket to grab what looked like a gun. when we tackled him to the ground and between punches he kept saying something about “the delegates”? he must have the delegates. sorry i’m pretty shaken up right now. “ With one person in the crowd shouting “he’s got a gun.” The man was then detained by police officers, Secret Service agents and SWAT armed with assault rifles and taken to a side room for questioning. The suspect is seen below. Trump returned to the stage minutes later and proceeded to continue his speech before thanking the Secret Service and police. “Nobody said it was going to be easy for us, but we will never be stopped. We will never be stopped. I want to thank the Secret Service. These guys are fantastic.” \\n~Donald Trump, said.\\nLuke breaks down the details in the video below of the attempted assassination of the anti-establishment candidate Donald Trump.\\nIt’s worth noting that the last Trump assassination attempt also occurred in Nevada when Michael Sandford a British citizen attempted to grab a police officer’s gun and shoot Donald Trump a few weeks ago.\\nJulian Assange was right when he said earlier today to John Pilger that “anti-establishment Trump Wouldn’t Be Allowed To Win.” Although Julian just missed how he would be stopped.\\n(THIS IS A DEVELOPING STORY AND WILL BE UPDATED AS NEW DETAILS BECOME AVAILABLE.) The post #BREAKING: SECOND Assassination Attempt On Trump In NV; Suspect Detained (LIVE BLOG) appeared first on We Are Change .\\n': 1,\n",
       "         'Published on Oct 27, 2016 by Jeff Quitney The Big Picture TV Series playlist: https://www.youtube.com/playlist?list… \\nmore at http://quickfound.net \\n‘The 30th Infantry Division –“Old Hickory” as this combat infantry division was affectionately called by military people both in and out of it. This National Guard Division is shown in North Carolina and Tennessee, and in combat. It rightfully earned its name as “the Work Horse of the Western Front.” Colonel Quinn appears and explains the clothing, equipment and food available to the combat infantryman.’ \\n“The Big Picture” episode TV-211 \\nPublic domain film from the US National Archives, slightly cropped to remove uneven edges, with the aspect ratio corrected, and one-pass brightness-contrast-color correction & mild video noise reduction applied. The soundtrack was also processed with volume normalization, noise reduction, clipping reduction, and/or equalization (the resulting sound, though not perfect, is far less noisy than the original). \\nhttps://en.wikipedia.org/wiki/30th_In… ) \\nThe 30th Infantry Division was a unit of the Army National Guard in World War I and World War II. It was nicknamed the “Old Hickory” division, in honor of President Andrew Jackson. The Germans nicknamed this division “Roosevelt’s SS.”. The 30th Infantry Division was regarded by SLA Marshall as the number one infantry division in the European Theater of Operations (ETO), involved in 282 days of intense combat over a period from June 1944 through April 1945… \\nThe 30th Infantry Division arrived in England, 22 February 1944, and trained until June. It landed at Omaha Beach, Normandy, 11 June 1944, secured the Vire-et-Taute Canal, crossed the Vire River, 7 July, and, beginning on 25 July spearheaded the Saint-Lô break-through of Operation Cobra. \\nDuring Operation Cobra, on both 24 and 25 July, the 30th encountered a devastating friendly fire incident. As part of the effort to break out of the Normandy hedgerows, U.S. Army Air Force bombers from England were sent to carpet bomb a one by three mile corridor of the German defenses opposite the American line. However, Air Force planners, in complete disregard or lack of understanding of their role in supporting the ground attack, loaded the heavy B-24 Liberator and B-17 Flying Fortress bombers with 500-pound bombs, destroying roads and bridges and complicating movement through the corridor, instead of lighter 100-pound bombs intended as antipersonnel devices against German defenders. Air planners switched the approach of attack by 90 degrees without informing ground commanders, thus a landmark road to guide the bombers to the bombing zone was miscommunicated as the point to begin the bombing run. Start point confusion was further compounded by red smoke signals that suddenly blew in the wrong direction, and bombs began falling on the heads of the U.S. soldiers. There were over 100 friendly fire casualties over the two days, including Lieutenant General Lesley J. McNair, commander of Army Ground Forces. \\nThe 30th relieved the 1st Infantry Division near Mortain on 6 August. The German drive to Avranches began shortly after. The 30th clashed with the elite 1st SS Panzer Division Leibstandarte SS Adolf Hitler, and fierce fighting in place with all available personnel broke out. The 30th frustrated enemy plans and broke the spearhead of the enemy assault in a violent struggle from 7–12 August. After the liberation of Paris, the division drove east through Belgium, crossing the Meuse River at Visé and Liège on 10 September. Elements of the division entered the Netherlands on 12 September, and Maastricht fell the next day. Moving into Germany and taking up positions along the Wurm River, the 30th launched its attack on the heavily defended city of Aachen on 2 October 1944, and succeeded in contacting the 1st Division on 16 October, resulting in the encirclement and takeover of Aachen… \\nAfter a rest period, the 30th eliminated an enemy salient northeast of Aachen on 16 November, pushed through Alsdorf to the Inde River on 28 November, and then moved to rest areas. On 17 December the division rushed south to the Malmedy-Stavelot area to help block the powerful enemy drive in the Battle of the Bulge… Share this:': 1,\n",
       "         ' and the future Fed rates': 1,\n",
       "         'Paul Joseph Watson Senior British army officer and former deputy supreme allied commander Europe Gen. Sir Richard Shirreff warns that NATO faces “nuclear war with Russia in Europe,” and that America is already technically at war with Russia. In a hawkish article for CNN , Shirreff asserts that the west faces the biggest threat from Russia since the Cold War and that Vladmir Putin plans to “re-establish Russia’s status as one of the world’s great powers” by marching into the Baltic states of Latvia, Lithuania and Estonia. Comparing the west’s policy towards Putin to the appeasement of Hitler, Shirreff claims that Moscow, “may have already lit the fuse that could lead to the unthinkable: nuclear war with Russia in Europe.” Under Article 5 of the Washington Treaty, an attack on one NATO member country represents an attack on all member countries, meaning the United States would be at war with Russia if Russian troops set foot in Baltic countries. “A Russian attack on the Baltic states puts America at war with Russia — meaning nuclear war, because Russia integrates nuclear weapons into every aspect of its military doctrine,” writes Shirreff. He also states that “Russia is at war with America already,” recycling the claim, which remains unproven, that Russia is behind the email hacks that led to Wikileaks’ publicizing of Clinton campaign emails. “And don’t think Russia would limit itself to the use of tactical nuclear weapons in Europe. Any form \\nFOR ENTIRE ARTICLE CLICK LINK': 1,\n",
       "         'Inside The Mind Of An FBI Informant; Terri Linnell Admits Role As Gov’t Snitch by IWB · October 27, 2016 Tweet \\nFBI informant Terri “Momma Bear” Linnell tells why she became an informant, and what she told the FBI during the Bundy occupation of the Malheur National Wildlife Refuge in Burns Oregon earlier this year, in her first-ever interview. The occupation of the refuge ended with the death of rancher Robert “LaVoy” Finicum and the arrests of dozens of other protestors. \\nOnly much of what she said was a lie and interviewer Bobby Powell, Publisher of The Truth Is Viral news program, knew it. Eye-witness testimony from three separate individuals dispute Linnell’s account of events during the raid of a campground in Maryland during Operation American Spring by more than 40 agents from the Department of Homeland Security, the FBI, Maryland State Police, and the Secret Service. \\nThe witnesses all say Linnell was escorted away from the campground by the Secret Service while her friends and fellow campers were on their knees with automatic assault rifles pointed at their heads for hours. \\nThere is also evidence to indicate, including a slip of Linnell’s own tongue, that she has been an informant for the FBI, and possibly even a paid agent, since the Occupy Wall Street protests in 2010.': 1,\n",
       "         'A couple of weeks ago in this space I pushed back against assertions by FiveThirtyEight number-cruncher Harry Enten that Gary Johnson\\'s polls have been \"trending downwards,\" indicating that \"voters may be moving away from third-party options.\" Well, today Enten is back with an interesting piece headlined \"Gary Johnson Isn\\'t Fading.\"\\n\\nWhile noting what we have been warning you about here for years—third-party candidates typically see their crest of polling support halved by Election Day, according to Gallup—Enten explains that Johnson\\'s numbers have so far not followed this pattern. In fact, the Libertarian may have already weathered the most difficult part of the calendar: \"Most third-party candidates didn\\'t lose that much support between late summer and Election Day,\" Enten writes. \"Besides John Anderson in 1980, no candidate ended up finishing more than 3 percentage points below where they were polling in late August. The average drop-off is about 2 percentage points.\"\\n\\nSo how does Johnson\\'s 9 percent stack up at this point in the campaign against other third-party candidates since World War II? According to numbers compiled by Enten here, fourth place, behind Ross Perot in 1992 (20 percent then, finished at 19), George Wallace in \\'68 (17/14), and Anderson in \\'80 (14/7). He\\'s just a tick above Perot in \\'96 (8/8), behind which nobody comes close (sorry, Libertarians!). Because of his staying power, FiveThirtyEight has adjusted its predictions for Johnson\\'s final vote upward, to 7.1 percent.\\n\\nBut what about the debates, I hear you ask. Well, while #TeamGov and its supporters are touting this new Qunnipiac poll showing 62 percent of Americans think the Libertarian should be in next month\\'s televised showdown, that and a glass of water will get you a drink. As Enten notes, Johnson may not be fading, but he\\'s also not particularly rising, either, and there\\'s a whole lotta real estate between 9 and the required 15 percent. The L.P. ticket did reach a new high this week in the Quinnipiac poll (10 percent, up from 8 percent in June), and tied previous highs in polls by NBC News/Survey Monkey (11 percent), Rasmussen Reports (9 percent), and Reuters/Ipsos (7 percent), but at this advanced date, ties go to the loser.\\n\\nLooking for a glimmer of hope? Here\\'s one intriguing gap in the numerical record. Of the Commission on Presidential Debates\\' determinative Big Five polls, in which Johnson has been averaging 10 percent instead of 9, none of them have produced results in the last three weeks. Beginning any minute now, we should have a much clearer idea whether the Libertarians are rising in the polls that actually matter.': 1,\n",
       "         'Nearly 300K New Jobs In February; Unemployment Dips To 5.5 Percent\\n\\nThe U.S. economy added 295,000 jobs last month, according to the Labor Department\\'s monthly survey, and the unemployment rate dropped to 5.5 percent. The latest strong data beat expectations and follow a robust jump the previous month — a sign that the nation\\'s economy is finally picking up steam.\\n\\nEconomists had predicted the economy would add 240,000 jobs in February and that the unemployment rate would notch back down to 5.6 percent, where it stood for December. The slight increase in the rate last month was attributed to strong growth in the labor force.\\n\\nThe average workweek for nonfarm payrolls was 34.6 hours, a figure that has held steady for five months. The average hourly wage rose 3 cents, to $24.78.\\n\\nAs NPR\\'s John Ydstie reported this morning ahead of this morning\\'s release by the department\\'s Bureau of Labor Statistics, the report for January \"was stellar on almost every count. It revealed a monthly average for job growth of 336,000 over the previous three months, and it showed strong wage gains after years of disappointing growth.\"\\n\\nFor February, the Labor Department says more jobs were added in food services and drinking places, professional and business services, construction, health care and in transportation and warehousing.\\n\\nThe latest report comes as the Federal Reserve has signaled that it is likely to raise interest rates, possibly as soon as June, based on the generally more robust U.S. economy and concerns about inflation pressures.\\n\\nToday\\'s reports shows 51,000 new jobs last month in professional and business services and 29,000 new jobs in construction. Transportation and warehousing added 19,000 jobs, and the retail sector gained 32,000. Over the past year, construction and retail have collectively gained about 320,000 jobs.\\n\\nReuters reports from London: \"The dollar hit an 11-year high against major currencies on Friday as investors bet the monthly U.S. jobs report would increase the chances of rate hikes, even as the European Central Bank embarks on a 1 trillion euro bond-buying campaign.\"': 1,\n",
       "         '  WashingtonsBlog \\nBy Robert Parry, the investigative reporter who many of the Iran-Contra stories for The Associated Press and Newsweek in the 1980s. Originally published at Parry’s Consortium News (republished with permission). \\nIn the end, Hillary Clinton became the face of a corrupt, arrogant and out-of-touch Establishment, while Donald Trump emerged as an almost perfectly imperfect vessel for a populist fury that had bubbled beneath the surface of America. \\nThere is clearly much to fear from a Trump presidency, especially coupled with continued Republican control of Congress. Trump and many Republicans have denied the reality of climate change; they favor more tax cuts for the rich; they want to deregulate Wall Street and other powerful industries – all policies that helped create the current mess that the United States and much of the world are now in. A sign supporting Donald Trump at a rally at Veterans Memorial Coliseum at the Arizona State Fairgrounds in Phoenix, Arizona. June 18, 2016 (Photo by Gage Skidmore) \\nFurther, Trump’s personality is problematic to say the least. He lacks the knowledge and the temperament that one would like to see in a President – or even in a much less powerful public official. He appealed to racism, misogyny, white supremacy, bigotry toward immigrants and prejudice toward Muslims. He favors torture and wants a giant wall built across America’s southern border. \\nBut American voters chose him in part because they felt they needed a blunt instrument to smash the Establishment that has ruled and mis-ruled America for at least the past several decades. It is an Establishment that not only has grabbed for itself almost all the new wealth that the country has produced but has casually sent the U.S. military into wars of choice, as if the lives of working-class soldiers are of little value. \\nOn foreign policy, the Establishment had turned decision-making over to the neoconservatives and their liberal-interventionist sidekicks, a collection of haughty elitists who often subordinated American interests to those of Israel and Saudi Arabia, for political or financial advantage. \\nThe war choices of the neocon/liberal-hawk coalition have been disastrous – from Iraq to Afghanistan to Libya to Syria to Ukraine – yet this collection of know-it-alls never experiences accountability. The same people, including the media’s armchair warriors and the think-tank “scholars,” bounce from one catastrophe to the next with no consequences for their fallacious “group thinks.” Most recently, they have ginned up a new costly and dangerous Cold War with Russia. \\nFor all his faults, Trump was one of the few major public figures who dared challenge the “group thinks” on the current hot spots of Syria and Russia. In response, Clinton and many Democrats chose to engage in a crude McCarthyism with Clinton even baiting Trump as Vladimir Putin’s “puppet” during the final presidential debate. \\nIt is somewhat remarkable that those tactics failed; that Trump talked about cooperation with Russia, rather than confrontation, and won. Trump’s victory could mean that rather than escalating the New Cold War with Russia, there is the possibility of a ratcheting down of tensions. \\nRepudiating the Neocons \\nThus, Trump’s victory marks a repudiation of the neocon/liberal-hawk orthodoxy because the New Cold War was largely incubated in neocon/liberal-hawk think tanks, brought to life by likeminded officials in the U.S. State Department, and nourished by propaganda across the mainstream Western media. Donald Trump speaking with supporters at a campaign rally in Phoenix, Arizona. June 18, 2016. (Photo by Gage Skidmore) \\nIt was the West, not Russia, that provoked the confrontation over Ukraine by helping to install a fiercely anti-Russian regime on Russia’s borders. I know the mainstream Western media framed the story as “Russian aggression” but that was always a gross distortion. \\nThere were peaceful ways for settling the internal differences inside Ukraine without violating the democratic process, but U.S. neocons, such as Assistant Secretary of State Victoria Nuland, and wealthy neoliberals, such as financial speculator George Soros, pushed for a putsch that overthrew the elected President Viktor Yanukovych in February 2014. \\nPutin’s response, including his acceptance of Crimea’s overwhelming referendum to return to Russia and his support for ethnic Russian rebels in eastern Ukraine opposing the coup regime in Kiev, was a reaction to the West’s destabilizing and violent actions. Putin was not the instigator of the troubles. \\nSimilarly, in Syria, the West’s “regime change” strategy, which dates back to neocon planning in the mid-1990s, involved collaboration with Al Qaeda and other Islamic jihadists to remove the secular government of Bashar al-Assad. Again, Official Washington and the mainstream media portrayed the conflict as all Assad’s fault, but that wasn’t the full picture. \\nFrom the start of the Syrian conflict in 2011, U.S. “allies,” including Saudi Arabia, Qatar, Turkey and Israel, have been aiding the rebellion, with Turkey and the Gulf states funneling money and weapons to Al Qaeda’s Nusra Front and even to the Al Qaeda spinoff, Islamic State. \\nThough President Barack Obama dragged his heels on the direct intervention advocated by then-Secretary of State Hillary Clinton, Obama eventually went in halfway, bending to political pressure by agreeing to train and arm so-called “moderates” who ended up fighting next to Al Qaeda’s Nusra Front and other jihadists in Ahrar al-Sham. \\nTrump has been inarticulate and imprecise in describing what policies he would follow in Syria, besides suggesting that he would cooperate with the Russians in destroying Islamic State. But Trump didn’t seem to understand the role of Al Qaeda in controlling east Aleppo and other Syrian territory. \\nUncharted Territory \\nSo, the American voters have plunged the United States and the world into uncharted territory behind a President-elect who lacks a depth of knowledge on a wide variety of issues. Who will guide a President Trump becomes the most pressing issue today. Former Secretary of State Hillary Clinton speaking with supporters at a campaign rally in Phoenix, Arizona. March 21, 2016. (Photo by Gage Skidmore) \\nWill he rely on traditional Republicans who have done so much to mess up the country and the world or will he find some fresh-thinking realists who will realign policy with core American interests and values. \\nFor this dangerous and uncertain moment, the Democratic Party establishment deserves a large share of the blame. Despite signs that 2016 would be a year for an anti-Establishment candidate – possibly someone like Sen. Elizabeth Warren or Sen. Bernie Sanders – the Democratic leadership decided that it was “Hillary’s turn.” \\nAlternatives like Warren were discouraged from running so there could be a Clinton “coronation.” That left the 74-year-old socialist from Vermont as the only obstacle to Clinton’s nomination and it turned out that Sanders was a formidable challenger. But his candidacy was ultimately blocked by Democratic insiders, including the unelected “super-delegates” who gave Clinton an early and seemingly insurmountable lead. \\nWith blinders firmly in place, the Democrats yoked themselves to Clinton’s gilded carriage and tried to pull it all the way to the White House. But they ignored the fact that many Americans came to see Clinton as the personification of all that is wrong about the insular and corrupt world of Official Washington. And that has given us President-elect Trump.': 1,\n",
       "         'Jesse Matthew Jr., a former hospital worker, was indicted Monday on a count of first-degree murder in the abduction and killing of Hannah Graham, a University of Virginia student, who was missing for weeks before her body was discovered, law enforcement officials said Tuesday.\\n\\nAlbemarle County prosecutor Denise Lunsford said that the state will not seek the death penalty, and that Graham\\'s family has been informed about the state\\'s decision.\\n\\nLunsford declined to say why Matthew was not charged with the higher count of capital murder. The abduction and first-degree murder charges are punishable by up to life in prison. Matthew, 33, was already charged with abduction with intent to defile the 18-year-old.\\n\\nPolice have said forensic evidence also links Matthew to the 2009 disappearance and death of 20-year-old Virginia Tech student Morgan Harrington, whose body also was found in the county. Lunsford said \"there are no pending charges\" against Matthew in the Harrington case.\\n\\n\"The simple fact is the case involving Hannah Graham was ready to be charged first,\" she said.\\n\\nGraham vanished after a night out with friends Sept. 12. According to police, she left an off-campus party alone and texted a friend saying she was lost.\\n\\nIn surveillance video, she can be seen walking unsteadily and even running at times, past a pub and a service station and then onto a seven-block strip of bars, restaurants and shops. Another video captured her leaving a restaurant with Matthew, who had an arm around her.\\n\\nGraham\\'s disappearance prompted a month-long search involving thousands of volunteers as well as police. It ended when searchers found her remains Oct. 18 in rural Albemarle County, roughly six miles from the hayfield where Harrington\\'s body was found in January 2010.\\n\\nHarrington disappeared while attending a Metallica concert at U.Va in October 2009. Her T-shirt was later found on a nearby tree limb.\\n\\nAfter police named Matthew a person of interest in Graham\\'s disappearance, he fled and was later apprehended on a beach in Texas. He was charged with abduction with intent to defile, a felony that empowered police to swab his cheek for a DNA sample. That sample connected Matthew to a 2005 sexual assault in Fairfax County, according to authorities. He has pleaded not guilty in that case.\\n\\nThe DNA evidence in the Fairfax sexual assault, in turn, linked Matthew to the Harrington case.\\n\\nMatthew previously had been accused of raping students at Liberty University and Christopher Newport University in 2002 an \\xa02003. Matthew had played football at both schools. The cases were dropped after the women declined to press charges.\\n\\nMatthew\\'s first court appearance on the newest charges in the Harrington case is scheduled for Feb. 18, Lunsford said. He will appear by video link from Fairfax County, where he is in jail awaiting trial in the 2005 rape case.\\n\\nThe Associated Press contributed to this report': 1,\n",
       "         '  WATCH: Mass Shooting Occurs During #TrumpRiot; Media Ignores (Video) WATCH: Mass Shooting Occurs During #TrumpRiot; Media Ignores (Video)  45 pm by Guest Author   Renee Nal | New Zeal Seattle’s Socialist Alternative organize anti-Trump rally. Note the manufactured signs and the hammer & sickle logo. \\n“The five victims range in age from their 20s to 50s, and they have gunshot wounds to their legs, chest and neck.”– The Seattle Times , November 10, 2016 \\nSeattle police are assuring citizens that a virtually unreported mass shooting has nothing to do with an anti-Trump rally incited by Seattle socialists, featuring Kshama Sawant, the Marxist Seattle city council member who is significant as being the only socialist to run openly as a member of Socialist Alternative , a Trotskyist organization. \\nThe shooting occurred “outside the 7-Eleven store on Third Avenue between Pike and Pine streets,” close to where protesters gathered, carrying their “Socialist Alternative” signs after being encouraged by Kshama Sawant to “attend the inauguration and shut it down.” \\nWatch: Gulag-wide Bulletins from Sovereignty Unbound We respect your privacy, time, and inbox. Track us Down @GulagBound Like the Gulag There are many important matters that Gulag Bound itself is not treating on a daily basis. For that reason we suggest The Globe & Malevolence and the sites shown under \"Key Links in our Chains,\" below. Your Daily Intelligence Brief MattSkosh on Secret Service Agents Pay a Visit to Anti-Obama Artist Sabo Tags activism Agenda 21 anti-American revolution authoritarianism Barack Hussein Obama II candidate eligibility collectivists & propaganda communisty organizations corruption crisis strategy Democrat finance & banking fraud George Soros globalism - NWO global Marxist-fascist movement government domination of resources history illegal immigration Islam Islamism jihad jihadism Israel kleptocracy labor unions Marxism Marxofascism Marxstream media Military Mitt Romney Obamacare health control Occupy Wall Street race-baiting/racism Republican Right of Private Property Russia Sovereignty Tea Party terrorism U.S. Congress U.S. Constitution U.S. Presidency (POTUS) United Nations (UN) video violence voting youth & education Sabotage What good will it do, to protect the United States of America, or our presumed interests against the aggressiveness of China, Russia, or Islam, if, partially in fear of these threats, we lose our free and independent nation to the stealth imperialism of transnational and global governance? As America threatens to shatter, we must see how a semi-covert, global, cartel collective and their NWO in the USA (\"progressive\" neo-Marxists and neo-fascists corporatists, updated with 21st Century techniques and technology) intentionally perpetrate this sabotage, while we patriots try to prevent it. Have a look around our camp, as we struggle to survive. - your tour guide Archives Militarization in America About DHS militarization, see the new, breakthrough analysis from James Simpson, \" Police Militarization, Abuses of Power, and the Road to Impeachment \" and our earlier, \"Marxist President’s Military Exercises in These U.S. Cities; Yours One?\" \\nAbout the trajectory of this, we must pray, communicate, keep calm, and do not become the first to engage. If it comes to it, do not even respond in kind, until after the after the first times that extreme, anti-American violence is done by them. It calls for an attitude of self sacrifice -- first cheek, second cheek, then no more. \\nAnd speak out about the potential and strategic \"sense\" of the Obama/NWO\\'s DHS carrying out false flag missions of violence, blaming it on American patriots, perhaps upon our militia movements. \\nWe are in a real war, right now (of which others and I have been trying to alert fellow Sovereign Citizens for years) and the prime war is for the minds, hearts, and wills of the American People. We are opposed by an anti-American insurrection using any means of power (see Gramsci, Frankfurt School) including government power, as they are granted that opportunity.': 1,\n",
       "         'By: The Voice of Reason | Regardless of how much information gets released through Wikileaks or Project Veritas revealing grossly immoral, or even criminal conduct between members of the Clinton campaign, neither the mainstream media nor our woefully corrupt Department of Injustice have done anything to even slow the Clinton Crime Syndicate’s march toward the oval office. With each passing day that brings us closer to the election, lies continue to be pumped out with impunity to the voting public at large by the very institutions the public should be able to trust to give them fair and honest reporting or education on important matters. In the following interview, legendary investor Jim Rogers, explains in detail why nothing being reported about the economy is true, and why financial and economic collapse is imminent. Who is Jim Rogers? Why should you care what he says? First of all, listen to him because he’s right. Start learning facts, and stop listening to mainstream media propaganda. They are lying. Your life may depend on being prepared. Second, Jim is hardly alone in his line of thinking. Many of the world’s best economists are saying a global reset is coming that will have an effect on the world like nothing mankind has ever seen before. One famous investor even goes as far as to say the collapse of the U.S. Dollar, and the global reset that follows it, will be the single biggest event in all of human history. Let that sink in… Third, and lastly, you should care what Jim Rogers says because Jim is a legendary investor, one who co-founded the Quantum Fund, and retired at age thirty-seven. Do you know who his partner used to be? George Soros. Do you recall who is involved in virtually every major geopolitical firestorm anywhere on the planet, including the U.S. presidential election right here domestically? Many Trump enthusiasts incorrectly believe Donald Trump can save the U.S. from financial implosion, but in his interview, Jim Rogers explains why it doesn’t matter who wins the election, the problems that plague the U.S. economy are as systemic as the corruption is in Washington. There is no question Donald Trump has created a massive wave of anti-establishment fervor across the country, and there’s equally no question a Trump presidency would soften the blow of a financial collapse, but as Michael Synder explains in the article that follows the Rogers interview, the electoral college math just doesn’t add up to a Trump Win. At this point if Donald Trump is able to overcome the amount of fraud baked into the system by the Clinton campaign, and an electoral map that doesn’t give him a millimeter of wiggle room, it will truly be a miracle of Biblical proportions. In the meantime, Americans had better begin to prepare for the future that awaits them, with or without a President Trump ! Michael Snyder writes: Are we about to see the largest election day miracle of all time? Because as I will show in this article, that is precisely what it is going to take in order for Donald Trump to win. Before I go any further, I want to make it exceedingly clear that I am not saying what the outcome will be on November 8th. As I recently told a national television audience, I do not know who is going to win. In this article I am simply going to examine the poll numbers and the electoral map as they currently stand. But in this bizarre election things can literally change overnight, and it is entirely possible that we could still have another “October surprise” or two before it is all said and done. And without a doubt Donald Trump desperately needs something “to move the needle”, because if the election was held today Hillary Clinton would almost certainly win. What we have witnessed so far during the 2016 election season has been absolutely unprecedented. Just consider some of the things that we have seen up to this point in time. We have never had a bigger “October surprise” than the release of the lewd audio tape from 11 years ago in which Donald Trump claimed to grope women without their consent. We have never seen the mainstream media openly attack a presidential candidate as much as they have attacked Donald Trump . In the past, the big mainstream news outlets at least pretended to be fair and balanced, but this year they have completely discarded all notions of objectivity. They should be completely and utterly ashamed of themselves, and no matter who wins the election they will never be able to get their integrity back. We have also never seen a major party at war with itself this close to a presidential election. It has been said that a house divided against itself will surely fall, and a whole host of prominent Republican leaders have been openly attempting to sabotage the Trump campaign. If Donald Trump is able to overcome all of these factors, it truly will be a miracle of Biblical proportions. As it stands at the moment, however, the numbers are looking quite ominous for Trump . Right now, the Real Clear Politics average of national polls has Hillary Clinton ahead by 6.2 percent. Most political experts consider that to be an insurmountable lead at this stage in the game. But even if Trump can close that gap and pull ahead, that does not mean that he will win the election. In fact, Trump could beat Clinton by millions of votes nationally and still lose. In order to win the election, one candidate has got to get to 270 electoral votes. And on the latest Real Clear Politics electoral map , 262 electoral votes are being projected to go to Hillary Clinton, 164 electoral votes are being projected to go to Donald Trump , and 112 electoral votes are in the “toss up” category. So unless something dramatically changes, Donald Trump is essentially going to have to run the table in all of the closely contested states in order to win, and the mathematical odds of that happening are extremely slim. Let’s take a closer look at this. The first thing that Donald Trump is going to have to do in order to get to 270 electoral votes is to win all of the states that Mitt Romney won in 2012. That would get him up to 206 electoral votes. Unfortunately, it looks like that may be very difficult to do. Romney won North Carolina, but the six most recent polls all have Clinton ahead in that state. Romney also won Arizona, but the most recent poll to be taken there has Clinton ahead by five points. But for a moment, let’s assume that Trump can win all of the states that Romney won. On top of that, there are four other states that Trump must win… #1 Trump must win Florida’s 29 electoral votes. Without Florida, Trump has no realistic path to 270 electoral votes. So on election night if it is announced that Trump has lost Florida, you might as well turn off your television and go to bed because Trump is going to lose the election. Unfortunately for Trump , four recent major surveys all show Trump down by four points in the Sunshine state. #2 Trump must win Ohio’s 18 electoral votes. No Republican has ever won the presidency without winning Ohio, and the two most recent major surveys show that Trump and Clinton are tied in the state. #3 Trump must win Iowa’s 6 electoral votes. Fortunately for Trump , most recent surveys show him actually leading in Iowa. #4 Trump must win Nevada’s 6 electoral votes. At this point that is looking like it will be very tough to do, because all of the recent polls have Clinton leading in Nevada, including the most recent one that has her up by 7 points. If Donald Trump can win those four states, that still does not get him to 270 electoral votes. Instead, it gets him to 265 electoral votes, and so he would still need one more medium-sized state to win. The most likely candidates for that last state are Pennsylvania, Michigan, Wisconsin or Minnesota. Unfortunately for Trump , Clinton appears to have big leads in all four of those states right at this moment. But even if Trump can somehow pull off a miracle and squeak past the 270 electoral vote mark, the truth is that Utah could still mess everything up. Do you remember Evan McMullin? He was the third party “conservative alternative” candidate that was hyped for a couple of days but that seemingly fell off the map afterwards. He is only on the ballot in 12 states, but one of those states is Utah, and it turns out that Evan McMullin is a Mormon. Many Mormons believe that a Mormon will be elected president someday when the U.S. Constitution hangs “ like a thread “. According to this belief, this Mormon president will turn the country around and all sorts of wonderful things will start to happen. Many Mormons thought that Mitt Romney was going to be this president, but now Evan McMullin has become the target of these expectations. So how in the world could Evan McMullin become president? Well, their plan is to have Evan McMullin win Utah, and that could potentially keep both Donald Trump and Hillary Clinton from both getting to 270 electoral votes if the election is super close. If that happens, the election would be thrown into the House of Representatives. It is being projected that the House will still be controlled by the Republicans after this election, and so the choice would come down to either Trump or McMullin, and those backing McMullin believe that he would have a realistic shot in that scenario. I know all of this sounds very strange, but this is actually being discussed around family dinner tables all over Utah tonight. And in recent days Evan McMullin has been soaring in Utah. One recent survey shows Trump with a one point lead over McMullin, and another recent survey actually show McMullin leading Trump by four points in the state. So Trump could pull off a miracle and do everything else that he needs to do to get to 270 electoral votes, and Utah could end up messing up everything for him. In addition, it is also very important to keep in mind that Trump could actually get all of the legitimate votes that he needs to win and still have it stolen from him by election fraud . There was widespread evidence of “funny business” in 2012, and this is something that I detailed for a live studio audience down at Morningside earlier this month … Are you starting to see why I would consider this to be the biggest miracle in American political history if Donald Trump actually overcomes all of these factors and wins the election? And we don’t have to wait until November 8th to get some indications about how the vote is going to go. Early voting is already taking place is some states, and so far the signs are not encouraging for the Trump campaign. The following comes from CNN … Democratic early turnout has stayed steady in North Carolina compared to 2012, while Republicans have dropped by about 14,500. In Nevada, Democrats have a smaller early voting deficit today than they did at this point in 2012. And Democrats are slightly ahead in Arizona in the early vote so far, though they are lagging Republicans in the tally of how many Arizonans have requested ballots. Perhaps most surprisingly, Democrats improved their position in conservative and Mormon-heavy Utah, where recent polls have shown a tight race. At this point in 2012, Republicans led Democrats in early voting by more than 22,000 voters. But so far this year, the GOP advantage is only 3,509. But if you do want Trump to win, the good news is that we still have more than two weeks before November 8th. We have seen some extremely bizarre things happen already in this election, and a miracle is definitely not out of the question. In fact, I am of the opinion that it is quite likely that some very strange events could take place between now and early November. So hold on to your hats, because the most interesting portion of the 2016 election may still be ahead of us. THE VOICE OF REASON is the pen name of Michael DePinto, a graduate of Capital University Law School, and an attorney in Florida. Having worked in the World Trade Center, along with other family and friends, Michael was baptized by fire into the world of politics on September 11, 2001. Michael’s political journey began with tuning in religiously to whatever the talking heads on television had to say, then Michael became a “Tea-Bagging” activist as his liberal friends on the Left would say, volunteering within the Jacksonville local Tea Party, and most recently Michael was sworn in as an attorney. Today, Michael is a major contributor to www.BeforeItsNews.com , he owns and operates www.thelastgreatstand.com , where Michael provides what is often very ‘colorful’ political commentary, ripe with sarcasm, no doubt the result of Michael’s frustration as he feels we are witnessing the end of the American Empire. The topics Michael most often weighs in on are: Martial Law, FEMA Camps, Jade Helm, Economic Issues, Government Corruption, and Government Conspiracy. Submit your review': 1,\n",
       "         'Islamic State militants have acknowledged for the first time that they have been defeated in the Syrian town of Kobani, blaming withering airstrikes by a U.S.-led coalition for forcing them to flee the town on the Turkish border.\\n\\nAlthough not a strategic site itself, Kobani — known by the militants as Ayn al-Islam — had turned into a test of wills between the militants and the coalition. At one point, Islamic State fighters controlled almost all of the town of 45,000 people and were on the verge of capturing it outright.\\n\\nIn a video released late Friday by the pro-Islamic State Aamaq News Agency, two fighters made it clear that the coalition\\'s relentless air assault proved too much for the militants.\\n\\n\"A while ago, we retreated a bit from Ayn al-Islam because of the bombardment and the killing of some brothers,\" said one masked fighter who spoke Arabic with a North African accent.\\n\\nIn the video, he vowed to return to drive out the People\\'s Protection Units known as the YPG, the main Kurdish militia in Syria, that the fighter referred to as \"rats.\"\\n\\n\"The Islamic State will stay. Say that to (President) Obama,\" he said, pointing toward destruction on the edge of Kobani.\\n\\nA second fighter, standing on a road with a green sign sprayed with the name Ayn al-Islam, described the incessant pounding by coalition aircraft.\\n\\n\"I swear by God, their planes did not leave the air, day and night; they did airstrikes all day and night,\" he said on the video. \"They bombarded everything, even motorcycles; they have not left a building standing. But, God willing, we will return and we will have our revenge multiplied.\"\\n\\nSpeaking at a meeting with his Mexican and Canadian counterparts in Boston on Saturday, Secretary of State John Kerry said recapturing Kobani was a \"big deal,\" AFP reported.\\n\\n\"We have a long way to go in the overall campaign, but Daesh — ISIL as some know it — has said all along that Kobani was a real symbolic and strategic objective,\" Kerry said. \"So pushing them out of there is a big deal. And make no mistake, we will also use the same tools that we used to get there — the tools of cooperation and support — to defeat violent, transnational criminal organizations, and ensure that the rule of law thrives for all of our people.\"\\n\\nThe Islamic State launched its offensive on the region surrounding Kobani in mid-September, capturing more than 300 Kurdish villages and parts of the city while driving out more than 200,000 Kurds.\\n\\nThe United States and several Arab allies began striking back and providing air cover for Kurdish militia to pour in from Turkey. The overall allied campaign aims to roll back the Islamic State militants who have taken over about a third of Iraq and Syria and declared the captured territory a new caliphate.\\n\\nAs a result of the airstrikes and stiff resistance from the Kurds, the Islamic State — also known as ISIL or ISIS — began retreating a few weeks ago and lost more than 1,000 fighters, according to the London-based Syrian Observatory for Human Rights, which monitors deaths in the Syrian civil war.\\n\\nIn the last days of the fight, activists reported that the militant group was sending inexperienced fighters and teenagers to the front line because of a lack of recruits, the human rights group said. By Monday, activists and Kurdish officials reported the town was almost cleared of the militants.\\n\\nThe four-month battle for Kobani, which was pummeled by airstrikes, mutual shelling and booby-trapped vehicles, left large parts of the town city uninhabitable, the Syrian Observatory for Human Rights said.\\n\\n\"It\\'s not a city anymore,\" Bulent Kilic a Turkish photojournalist for the AFP news agency told Time. \"I saw all the bombs that were dropped on Kobani during this battle. And there\\'s only debris left, especially in the eastern part of the town from where ISIS tried to get in.\"': 1,\n",
       "         'With only about 70 days left until the election, presidential campaign politics have hit a new low. Democratic candidate Hillary Clinton has released a new attack ad claiming Republican rival Donald Trump is a candidate of racists.\\n\\nThe new ad released by Clinton attempts to depict Trump as a racist, a candidate supported by white supremacists and the Ku Klux Klan.\\n\\nIn the campaign commercial, a KKK member is heard saying, \"The reason a lot of Klan members like Donald Trump is because a lot of what he believes we believe in.\"\\n\\nClinton said Trump and Republicans are reinforcing harmful stereotypes, calling it a disturbing preview of the kind of president Trump would be.\\n\\n\"He is taking hate groups mainstream and helping a radical fringe take over the Republican Party,\" she said.\\n\\nTrump said the allegations are the oldest ploy in the Democratic playbook.\\n\\n\"When Democratic policies fail, they are left with only this one, tired argument: \\'you\\'re racist, you\\'re racist, you\\'re racist!\\' Trump insisted.\\n\\nTrump said Clinton was not only attacking him, but millions of good Americans who support him.\\n\\n\"She lies, she smears, she paints decent Americans as racists,\" said Trump, who then defended the core ideas of his candidacy.\\n\\nBut Clinton isn\\'t backing down. In a speech in the swing state of Nevada, she also tried to tie Trump to the so-called \"AltRight\" or \"alternative right,\" a very vocal group whose nationalist beliefs push beyond mainstream conservatism.\\n\\n\"He\\'s taking hate groups mainstream and helping a radical fringe take over one of America\\'s two major political parties,\" she said.\\n\\nTrump\\'s campaign said he\\'s never used the term \"alt-right\" and disavows \"any groups or individuals associated with a message of hate.\"\\n\\n\"Hillary Clinton\\'s short speech is pandering to the worst instincts in our society. She should be ashamed of herself!\" Trump tweeted.\\n\\nIn New Hampshire Thursday, the GOP candidate said he doesn\\'t want white supremacists to vote for him -- his campaign is about love for America, not hate.\\n\\nAnd although Clinton still leads in national polls, it may become more difficult for her in the days ahead to restore voter trust and deflect attention away from her email scandal.\\n\\nThe battle over race took the spotlight temporarily off of Clinton\\'s ongoing problems over her e-mails and the controversy over her connections between the Clinton Foundation and the U.S. State Department when she was Secretary of State. But the issue will be coming back.\\n\\nA federal judge has ordered the State Department to begin releasing additional emails starting Sept. 13. They\\'re among the nearly 15,000 messages Clinton did not turn over, but were discovered on her personal server by the FBI.': 1,\n",
       "         'Suspects In Paris Magazine Attack Killed; Market Gunman And 4 Hostages Also Dead\\n\\nA nationwide manhunt for the suspects of France\\'s deadliest terrorist attack in more than 50 years ended in a hail of gunfire on Friday.\\n\\nAfter hours of tension in two separate standoffs that shut down parts of the Paris metro area, the two main suspects in the attack on a satirical magazine and a man who took hostages at a kosher grocery are dead, President François Hollande said in a speech to the nation.\\n\\nHollande also said four hostages had been killed today; he called the week\\'s events \"a tragedy for the nation, an obligation for us to confront terrorists.\"\\n\\n\"We are a free nation that does not give in,\" the French president said. \"We carry an ideal that is greater than us.\"\\n\\nThe standoffs started this morning, when police cornered Said and Chérif Kouachi, who were suspected of killing 12 people in the Charlie Hebdo attack, at a print shop in the small town of Dammartin-en-Goele.\\n\\nWhile initial reports said an employee of the shop was being held hostage there, it later emerged that the worker, reportedly a graphic designer, was hiding in the building, undetected by the gunmen.\\n\\n\"He was able to give [by text messages] tactical elements\" such as the positions inside the building, French TV news Itele reports.\\n\\nSeparately, in eastern Paris, a gunman identified as Amedy Coulibaly entered a kosher grocery and took several people hostage. He also called a TV news station, seeking to talk to police (more on that in our updates below). And it seems that amidst his phone calls, Coulibaly didn\\'t hang up properly — allowing police to hear his movements.\\n\\n\"The audio information wasn\\'t distinct,\" BFM TV reports, \"but was precious to law enforcement.\"\\n\\nThe station adds that police began their assault on the store at the same time they heard Coulibaly start praying.\\n\\nPolice have made several connections between Coulibaly and the Kouachi brothers, French media report, through cellphone and legal records. Police are still looking for one suspect: Hayat Boumeddiene, 26, whom they say was involved in the killing of a policewoman in Paris Thursday.\\n\\n\"U.S. officials say both Coulibaly and Boumeddiene were known to American intelligence authorities,\" NPR\\'s Dina Temple-Raston reports.\\n\\nA little after 11 a.m. ET, and as the sun began to set in France, explosions were heard at both the store and the print shop, as police began an assault.\\n\\nImages on French television showed hostages streaming out of the kosher grocery store after an explosion and gunfire; a large explosion was seen at the print shop in Dammartin-en-Goele. That was followed by smoke billowing from the building.\\n\\nThe AFP reported that when police stormed the print shop, the Kouachi brothers came out firing and were killed during the confrontation. The authorities say Coulibaly was killed during the siege of the kosher market.\\n\\nNPR\\'s Eleanor Beardsley reports that police were first tipped off to the Kouachi brothers when a resident reported a stolen car in the small village of Dammartin-en-Goele, 25 miles northeast of Paris. The caller recognized the brothers and told police that they were heavily armed.\\n\\nPolice moved in and surrounded the print shop, located in an industrial center not far from the Charles de Gaulle airport outside Paris. For hours, special tactical units kept watch, while helicopters swooped overhead.\\n\\nAs that was unfolding, another gunman walked into the kosher shop in eastern Paris, reportedly taking a handful of hostages.\\n\\nEleanor reported that the series of events left the city — already reeling from its worst terrorist attack in more than 50 years — in a state of shock. Police cordoned off parts of Paris, and officers in tactical gear and with big guns walked through the streets as sirens sounded everywhere.\\n\\nPolice also released a poster naming Coulibaly and a 26-year-old woman named Hayat Boumeddiene as suspects in a shooting that left a policewoman dead on Thursday. There is still no word on the whereabouts of Boumeddiene.\\n\\nBy around 11:30 a.m. ET, the siege was over. In total, since the mass shooting at Charlie Hebdo on Wednesday, 17 people have been killed in France.\\n\\nHours after the standoffs ended, Al-Qaeda in the Arabian Peninsula released a statement threatening France with more violence; the AP says that the group has claimed responsibility for Wednesday\\'s attack.\\n\\nHollande said the country knows that the threat is not \"yet over.\"\\n\\nHe called for vigilance and extra security; he said the country should reject any racist attacks like the \"anti-Semitic act\" committed today. He also said that the suspects killed today \"have nothing to do with Islam.\"\\n\\n\"We must show our determination against anything that may divide us,\" Hollande said.\\n\\nThis is a breaking news story. As often happens in situations like these, some information reported early may turn out to be inaccurate. We\\'ll move quickly to correct the record and we\\'ll only point to the best information we have at the time. Refresh this page for the latest.\\n\\nUpdate at 6:50 p.m. ET: Explosives In Kosher Grocery\\n\\nParis prosecutor Francois Molins has confirmed more details about the case. Molins spoke late Friday; here\\'s a quick recap of what he said:\\n\\nUpdate at 5:50 p.m. ET: Al-Qaeda in the Arabian Peninsula Reportedly Claims Responsibility\\n\\nA senior official of Al-Qaeda in the Arabian Peninsula praised this week\\'s attack in Paris and threatened France with more violence, according to the SITE organization, which monitors extremist groups.\\n\\nA speech by was posted online Friday, after the chief suspects in the attack were killed. In it, Sheikh Harith al-Nadhari says (according to SITE\\'s translation):\\n\\n\"Some of the sons of France were disrespectful to the prophets of Allah, so a group from among the believing soldiers of Allah marched unto them, then they taught them respect and the limit of the freedom of expression.\"\\n\\nThe AQAP separately claimed responsibility for guiding the attack, the AP says.\\n\\nUpdate at 5 p.m. ET: Suspects Said To Have Spoken To French Media Before Deadly Showdown\\n\\nA French media outlet says it spoke to both Chérif Kouachi and Amedy Coulibaly as the men were engaged in two separate standoffs with police, and that both of them avowed ties to terrorist groups.\\n\\nThe phone interviews with Kouachi and Coulibaly reportedly took place well before France\\'s BFM TV or its sister radio station RMC broadcast them.\\n\\nBFM TV says the conversation with Kouachi took place after a journalist called the print shop where the Kouachi brothers were holed up.\\n\\nKouachi said he and his brother had not killed any civilians and that they had acted to avenge Prophet Muhammad. He also said that Western forces had killed women and children in Iraq, Afghanistan, and Syria.\\n\\nAccording to a synopsis by Sarah-Lou Cohen, the head of BFMTV\\'s police and justice unit, Kouachi said he had been supported by Al-Qaeda in Yemen — a group now more commonly known as Al-Qaeda in the Arabian Peninsula.\\n\\nWhen asked about the possibility that he might be killed, Kouachi answered, \"That\\'s not a problem.\"\\n\\nBFM TV says it spoke to Coulibaly after he called the network asking for a number for the police. At the time of the conversation, the man said that four people had already died in the kosher grocery where he had barricaded himself from the authorities.\\n\\nCoulibaly claimed allegiance to the extremist group that calls itself the Islamic State (or ISIS); he also said that his actions were tied to those of the Kouachi brothers.\\n\\nWhen asked if the attacks had been synchronized, he answered, \"No. Just when they started the attack at Hebdo, I was to attack police.\"\\n\\nUpdate at 2:16 p.m. ET. \\'We Stand For Freedom\\':\\n\\nSpeaking in front of students at Pellisippi State Community College in Tennessee, President Obama offered the French his support.\\n\\n\"The United States stands with you today, stands with you tomorrow,\" Obama said.\\n\\nThe president added that the U.S. stood by the values that the U.S. and France share.\\n\\n\"In the streets of Paris, the world\\'s seen once again what terrorists stand for: they have nothing to offer but hatred and human suffering,\" Obama said. \"And we stand for freedom and hope and the dignity of all human beings. And that\\'s what the city of Paris represents to the world.\"\\n\\nClosing his speech to a round of applause, Obama said, \"And that spirit will endure forever – long after the scourge of terrorism is banished from this world.\\n\\nUpdate at 1:21 p.m. ET. \\'How Great The Threat Is\\':\\n\\nIn statements to the press, France\\'s Interior Minister Bernard Cazeneuve thanked the police officers and the special teams that worked to end the crisis today.\\n\\nHe said the events of the past few days \"show how great the threat\" is to France.\\n\\n\"It is incumbent on us to be on constantly alert,\" Cazeneuve said.\\n\\nThe minister refused to give any details of the operation, because he said he did not want to put out any misinformation.\\n\\nUpdate at 12:11 p.m. ET. Hollande To Address Nation:\\n\\nPresident François Hollande will address his country at 2 p.m. ET, according to Palais de l\\'Élysée.\\n\\nUpdate at 12:01 p.m. ET. Siege Is Over:\\n\\nAccording to multiple media outlets, both hostage standoffs in France are over.\\n\\nAccording to reports, Said and Chérif Kouachi were killed in the siege in Dammartin-en-Goele, and Amedy Coulibaly was killed in the siege in eastern Paris.\\n\\nThere is still no word on any other casualties.\\n\\nUpdate 11:19 a.m. ET. Explosions, Gunfire At Both Locations:\\n\\nMinutes apart, reporters at both standoff locations reported gunshots and explosions.\\n\\nNPR\\'s Lauren Frayer reported that French television showed what appeared to be civilians streaming out of the kosher grocery store in eastern Paris.\\n\\nTelevision images showed a large explosion at a print shop in Dammartin-en-Goele. That was followed by smoke billowing from the building.\\n\\nUpdate at 11:14 a.m. ET. Explosions, Sirens:\\n\\nNPR\\'s Eleanor Beardsley says she has just heard loud explosions and gunfire in Paris.\\n\\nShe says people started running when they heard it.\\n\\nThe booms, she told Morning Edition, were followed by sirens.\\n\\nIt\\'s still unclear what is going on.\\n\\nUpdate 11:06 a.m. ET. The Scene In Paris:\\n\\nNPR\\'s Eleanor Beardsley reports that police have cordoned off a big area of eastern Paris. She reports that \"everyone is in a state of shock.\"\\n\\n\"People are angry and nervous,\" she told our Newscast unit. \"It\\'s a crazy scene.\"\\n\\nYou can hear sirens and police dressed in tactical gear with big guns walking the city.\\n\\nUpdate at 11 a.m. ET. Smoke, Explosions:\\n\\nTelevision images are showing light smoke coming from the printing company where the Kouachi brothers are thought to be holed up.\\n\\nPolice forces in tactical gear were also on the roof of the building.\\n\\nReuters reports one of its reporters heard gunshots and \"several explosions.\"\\n\\nUpdate at 10:08 a.m. ET. The Links:\\n\\nThere\\'s a lot going on in this story. Here, we\\'ll try to lay out all of the known connections plainly:\\n\\n— There are four events to keep in mind. 1. The shooting at Charlie Hebdo on Wednesday morning. 2. The shooting death of a female police officer on Thursday in Montrouge. 3. An ongoing standoff in Dammartin-en-Goele, where police believe the two main suspects in the Charlie Hebdo shooting, Said and Chérif Kouachi, are holed up in the building of a printing company. 4. An ongoing standoff at a kosher shop in eastern Paris, where, according to multiple media reports, police believe Amedy Coulibaly has taken a handful of hostages.\\n\\n— Earlier today, police named Coulibaly as a suspect in the shooting death of the female police officer on Thursday.\\n\\n— NPR\\'s Dina Temple-Raston reported on Morning Edition that U.S. officials have been telling her privately that Thursday\\'s shooting incident was terrorism related.\\n\\n— Dina says that authorities now believe that Coulibaly is a friend of the Kouachi brothers.\\n\\n— Le Parisen reports that in 2010, Coulibaly was implicated in trying to help in the escape of one of the masterminds of terrorist attacks that happened in 1995. The news outlet also reports that Coulibaly was convicted on terrorism charges.\\n\\n— As we reported, Chérif Kouachi was implicated in that same incident in 2010.\\n\\nUpdate at 8:22 a.m. ET. A Link Between Shootings:\\n\\nNumerous news organizations have reported that police sources tell them that a shooting that left one police officer dead on Thursday is linked to the shootings at the offices of Charlie Hebdo.\\n\\nFrance 24 reports that the people suspected of committing that crime belong to the same organizations as the Kouachi brothers.\\n\\nPolice have officially released a photograph of two suspects in that shooting in Montrouge. In that flier, police say the two — Hayat Boumeddiene, 26, and Amedy Coulibaly, 32 — are wanted in a murder committed in connection with a \"terrorist organization.\"\\n\\nUpdate at 8:09 a.m. ET. Interior Minister At Scene Of Kosher Shop:\\n\\nFrance\\'s Interior Minister Bernard Cazeneuve is at the scene of an apparent hostage situation in eastern Paris.\\n\\nTelevision images have shown dozens of police officers in tactical gear in front of the kosher shop.\\n\\nIt\\'s worth noting that it\\'s not clear whether all of these events are related.\\n\\nUpdate at 7:52 a.m. ET. Background:\\n\\nIn case you have not been paying attention, here\\'s a quick summary of what\\'s been happening in France:\\n\\nWednesday morning, at least two gunmen entered the Paris offices of Charlie Hebdo, a satirical magazine that has in the past been threatened by Islamic extremists, and opened fire, killing 12 people, including four of the magazine\\'s founding cartoonists.\\n\\nPolice launched a massive manhunt for two suspects: Said and Chérif Kouachi, French citizens whom authorities had been watching for some time. Chérif was convicted on terrorism charges in 2008. He served 18 months for helping to funnel fighters from France to Iraq.\\n\\nToday, that manhunt seems to have come to a climax, because police believe the two men are cornered at a printing company\\'s building in a city northeast of Paris.\\n\\nUpdate at 7:49 a.m. ET. Another Incident In Paris:\\n\\nMultiple news outlets, including AFP, France 24 and Le Monde, are reporting that an armed man has entered a kosher shop in eastern Paris and may have taken a hostage.\\n\\nThere is no word on whether this incident, which police have not confirmed, might be related to the attack on Charlie Hebdo.\\n\\nUpdate at 7:16 a.m. ET. Not Certain If There Are Hostages:\\n\\nOn Twitter, an Interior Ministry spokesman said the men now in a standoff with police are \"certain to be the Kouachi brothers.\" The spokesman said it was still not clear whether the two suspects had taken any hostages.\\n\\n\"The priority is to establish a dialogue with the suspects,\" the spokesman added.\\n\\nHe added that there had been no deaths or injuries at the time and that police had not launched an assault on the building.\\n\\nUpdate at 6:51 a.m. ET. Police Make Contact:\\n\\nCiting an unnamed French official, the AP says police have \"made contact with terror suspects.\"': 1,\n",
       "         'Chart Of The Day: Since 2009 Recovery For The 5%': 1,\n",
       "         'Before he got to repealing ObamaCare, before he got to dumping Common Core, before he got to abolishing the IRS, Ted Cruz talked about Jesus.\\n\\nIn kicking off his presidential campaign Monday at Liberty University, Cruz began with his father, a Cuban immigrant who washed dishes in Texas for 50 cents an hour, who drank too much along with his wife, who left home when Ted was 3 but came back because “God transformed his heart … Were it not for the transformative love of Jesus Christ, I would have been raised by a single mom.”\\n\\nThat introduction, part of a passionate speech delivered without notes in Lynchburg, Va., helps explain why many in the mainstream media don’t quite know what to make of the Texas senator — or view him as a fringe figure.\\n\\nOn the “Today” show, Kelly O’Donnell said “he’s 44, only been on the national scene a couple of years.” MSNBC’s Jonathan Alter, while not counting him out, also said “he’s only been in the Senate for two years.”\\n\\nPerhaps they had forgotten that Barack Obama was 45 and had spent just two years in the Senate when he kicked off his presidential candidacy?\\n\\nCruz is a hero to the Tea Party right, and his speech hit many of its themes: against same-sex marriage, protecting the right to bear arms, reclaiming the Constitution. But the very things that make him popular could, in the media’s telling, be campaign obstacles.\\n\\n“Cruz\\'s down-the-line appeal to the GOP base may prove to be his calling card in the primary battle to come, but it\\'s also led him to pick fights with the party brass that could ultimately undermine his candidacy. His ability to raise money, secure endorsements, and build the kind of infrastructure necessary to win a national primary may be hampered by his lack of support among the establishment. And his ideological rigidity has sown doubts among some Republicans about how competitive Cruz would be in a general election.”\\n\\nIn the two-minute NBC report, there were sound bites of Cruz reading “Green Eggs and Ham” (from his 21-hour filibuster that preceded the government shutdown) and warning “the world is on fire” (prompting a question from a 3-year-old girl).\\n\\nI wrote last week that the many in the MSM went way overboard in using that incident to portray Cruz as a frightening figure, despite the fact that the girl’s mother said she wasn’t scared at all.\\n\\nLook at how the Huffington Post frames its setup piece for the Cruz kickoff:\\n\\n“Much of the rest of the country (including Republican leaders in Congress) viewed Cruz as a vaguely scary renegade, and the GOP establishment’s official grumpy grandpa, Sen. John McCain (Ariz.), dismissed him as a ‘wacko bird.’\\n\\n\"But the Young Americans for Liberty loved his loathing of the party elders, and his determination to shove a stick between the spokes of the System …\\n\\n“Uncorked anger doesn’t usually win presidential nominations, let alone presidencies. People want hope and uplift in the White House and not just expressions of outrage. The president is the person who is supposed to make things work. To some, the 44-year-old Cruz gives off a vaguely scary aura of cheerful menace.”\\n\\nUncorked anger. Cheerful menace. You might get the impression that HuffPost just doesn’t like the guy.\\n\\nAnd this happens to reflect the line of the Democratic Party, which in an email calls Cruz, in bold letters, “really, really scary.”\\n\\nPolitico also emphasizes the theme that Cruz ticks people off:\\n\\n“His own colleagues in Washington have frequently been disdainful of Cruz since he helped instigate the 2013 government shutdown. And his hardline views and uncompromising style have disqualified him even in the eyes of more conservative elements of the political class who are concerned about electability.\\n\\n“But Cruz is embracing that outsider status, just as he did in Texas, where in 2012 he beat out the presumed Republican Senate nominee, former Lt. Gov. David Dewhurst, and became a hero to that conservative state’s tea party.”\\n\\nThe Washington Post says this is one of five things you need to know about the senator:\\n\\n“Cruz\\'s often tells the story of his father, Rafael -- also the senator\\'s given name -- leaving Cuba as a young man with $100 sewn into his underwear. Rafael Cruz, an evangelical pastor, has a history of making headline-grabbing statements. They include telling an audience that President Obama should be\\xa0sent\\xa0‘back to Kenya,’\\xa0asserting\\xa0that the Bible ‘tells you exactly who to vote for.’”\\n\\nSo his dad’s an issue too.\\n\\nSlate says that Cruz spouts “bizarre nonsense” on climate change:\\n\\n“In case you haven’t heard, Sen. Ted Cruz (R-Texas) is not a fan of reality.\\n\\n“The reality of science, that is.\\xa0He has a history of saying global warming–denying talking points\\xa0and used some of his political power just this past week\\xa0to pressure NASA into downplaying its role in measuring the effects of global warming on the planet.”\\n\\nJust for good measure, \"Morning Joe\" panelist Donny Deutsch likened Cruz to Sarah Palin.\\n\\nMy take is that the mainstream media always gravitate toward establishment candidates, in part because these politicians excel at fundraising and endorsements, which journalists highly value. That’s why the media consistently underestimate such insurgent candidates as Mike Huckabee and Rick Santorum before they catch fire.\\n\\nBut recent history suggests that the establishment Republican prevails in the end: Mitt Romney, John McCain, George W. Bush, Bob Dole. The question for 2016, up against Hillary, is whether this time could be different.\\n\\nHow about a conservative view? Here’s Allahpundit on Hot Air:\\n\\n“The problem with finding a path for Cruz next year, though, is that as the field narrows and losers drop out, the primaries inevitability become a referendum on electability and acceptability. I can see Walker stumbling; I can see Jeb flaming out from voters’ Bush fatigue; I can see Paul stuck at 20 percent, unable to add to his libertarian base; and I can see Rubio never quite contending because he can’t scrape the votes he needs from the center and right. What I can’t see is all of those things happening, and realistically, they’d all have to happen to make Cruz the nominee.”\\n\\nIt’s a crowded field, to be sure. The thing that brought Cruz national fame was the filibuster and his leading role in the 2013 shutdown. To his supporters, Cruz was fighting for conservative principles against ObamaCare. To his critics, Cruz was pursuing a kamikaze strategy that could never have succeeded because the Democrats controlled the White House and the Senate.\\n\\nThe coming campaign will be a test of whether Cruz can break out beyond his evangelical base. But it will also be a test of the media establishment that views him mainly as a bomb-thrower.\\n\\nHoward Kurtz is a Fox News analyst and the host of \"MediaBuzz\" (Sundays 11 a.m. and 5 p.m. ET). He is the author of five books and is based in Washington. Follow him at @HowardKurtz. Click here for more information on Howard Kurtz.': 1,\n",
       "         'The State Department identified two Americans who died in Nepal’s devastating earthquake, and reported two more dead Monday, as the death toll rose past 4,000 and survivors dug through the rubble of their villages seeking shelter and food.\\n\\nSaturday\\'s 7.8 magnitude earthquake triggered an avalanche that buried part of the Mount Everest base camp, killing 18 people, including foreign climbers preparing to make their summit attempts at the world’s tallest peak.\\n\\nAt least four Americans died in the quake, all at the Mount Everest base camp the State Department said Monday. State Department spokesman Jeff Rathke identified two of the American victims as Ely Taplin and Vinh B. Truong.\\n\\nTwo others haven\\'t been named yet, either because consular officials haven\\'t confirmed their identities or next of kin haven\\'t been notified.\\n\\n“We express our deepest sympathies to the families and loved ones of those who died,” Rathke told reporters. He said the State Department was fielding hundreds of calls from Americans asking for assistance and concerned about the safety of loved ones in Nepal.\\n\\n“We are supplementing our embassy staff to better respond to U.S. citizens and liaison with the Nepal government,” Rathke said.\\n\\nIn addition to the more than 4,000 dead in Nepal, another 61 people were killed in neighboring India, and China reported that 20 people had died in Tibet.\\n\\nMeanwhile, tens of thousands of families slept outdoors for a second night, fearful of aftershocks that have not ceased. Camped in parks, open squares and a golf course, they cuddled children or pets against chilly Himalayan nighttime temperatures.\\n\\n\"It\\'s overwhelming. It\\'s too much to think about,\" said 55-year-old Bijay Nakarmi, mourning his parents, whose bodies were recovered from the rubble of what once was a three-story building.\\n\\nReports received so far by the government and aid groups suggest that many communities perched on mountainsides are devastated or struggling to cope as they search for lost loved ones, sort through rubble for their belongings, and try to find food and shelter for their families.\\n\\nLila Mani Poudyal, the government\\'s chief secretary and the rescue coordinator, said the recovery was slow because many workers -- water tanker drivers, electricity company employees and laborers needed to clear debris -- \"are all gone to their families and staying with them, refusing to work.\"\\n\\nWorld Vision aid worker Matt Darvas reached Nepal\\'s Gorkha district -- the epicenter of Saturday\\'s powerful quake -- early Monday afternoon. He said almost no aid had reached there ahead of him.\\n\\n\"It does not seem aid is reaching here very quickly,\" Darvas told the Associated Press by phone from Nepal.\\n\\nUdav Prashad Timalsina, the top official for the Gorkha district, said he was in desperate need of help. \"There are people who are not getting food and shelter. I\\'ve had reports of villages where 70 percent of the houses have been destroyed,\" Timalsina he said.\\n\\nHe said 223 people had been confirmed dead in the district, but he presumed \"the number would go up because there are thousands who are injured.\"\\xa0Landslides and other destruction delayed attempts to reach the district earlier, but Gorkha is feared to have extensive damage.\\n\\n\"Villages like this are routinely affected by landslides, and it\\'s not uncommon for entire villages of 200, 300, up to 1,000 people to be completely buried by rock falls,\" Darvas said. \"It will likely be helicopter access only.\"\\n\\n\"Further north from here the reports are very disturbing,\" Darvas reported. He says up to 75 percent of the buildings in Singla may have collapsed and the village, a two-day walk away, has been out of contact since Saturday night.\\n\\nLocal officials lost contact with military and police who set out for Singla, and Darvas says helicopters have had to turn back because of clouds. He says a few SUVs with foreign tourists bringing basic aid supplies had begun to reach Gorkha by early evening.\\n\\nJagdish Pokhrel, the clearly exhausted army spokesman, said nearly the entire 100,000-soldier army was involved in rescue operations. \"We have 90 percent of the army out there working on search and rescue,\" he said. \"We are focusing our efforts on that, on saving lives.\"\\n\\nKathmandu district chief administrator Ek Narayan Aryal said tents and water were being handed out Monday at 10 locations in Kathmandu, but that aftershocks were leaving everyone jittery.\\n\\n\"There have been nearly 100 earthquakes and aftershocks, which is making rescue work difficult. Even the rescuers are scared and running because of them,\" he said.\\n\\nThe capital city is largely a collection of small, poorly constructed brick apartment buildings. But outside of the oldest neighborhoods, many in Kathmandu were surprised by how few modern structures collapsed in the quake.\\n\\nEmergency aid flights are landing in Nepal, with relief workers from several different countries who will try to locate and rescue victims. But the dire conditions and communication obstacles are adding to the chaos at the small airport in Nepal\\'s capital of Kathmandu, where there were major backups on the tarmac.\\n\\nIndia\\'s defense ministry says four Indian Air Force planes carrying communication gear, aid supplies and rescue personnel were forced to return to New Delhi today because of airport congestion.\\n\\nThe quake will probably put a huge strain on the resources of this impoverished country best known for Everest, the highest mountain in the world. The economy of Nepal, a nation of 27.8 million people, relies heavily on tourism, principally trekking and Himalayan mountain climbing.\\n\\nThe first nations to respond were Nepal\\'s neighbors -- India, China and Pakistan. Other countries sending support Sunday included the United States, Canada, the United Arab Emirates, Britain, Germany, France, Poland, Italy, Israel and Singapore.\\n\\nAn American military plane left Delaware\\'s Dover Air Force Base for Nepal, carrying 70 people, including a disaster-assistance response team and an urban search-and-rescue team, and 45 tons of cargo, the Pentagon said.\\n\\nThe earthquake was the worst to hit the South Asian nation in more than 80 years. It destroyed swaths of the oldest neighborhoods of Kathmandu and was strong enough to be felt across parts of India, Bangladesh, China\\'s region of Tibet and Pakistan.\\n\\nNepal\\'s worst recorded earthquake in 1934 measured 8.0 and all but destroyed the cities of Kathmandu, Bhaktapur and Patan.\\n\\nThe Associated Press contributed to this report.': 1,\n",
       "         'Incredible smoke haze seen outside NDTV office after Arnab quits; bursting of firecrackers suspected Posted on Tweet (Image via shutterstock.com) \\nAn incredible smoke haze was spotted seen outside the NDTV office on Tuesday. Onlookers claimed that the reason was and uninhibited bursting of firecrackers by people in the building. \\nOne onlooker claimed he also heard loud firecrackers-like noise near the NDTV office area followed by fumes curling up to form a V-sign. \\nExperts say it will be difficult to ascertain the source of the emission. A leading pollution expert opined, “These days such peculiar fumes can be due to firecrackers during the Diwali season or because of pure human emotions giving rise to intense celebrations, revelry, etc.” \\nThis incident, according to the onlooker, happened on Tuesday evening, minutes after the news of journalist Arnab Goswami quitting Times Now surfaced. \\nThe UnReal Times could not verify whether the two events were correlated as the onlooker tried to imply. \\nA few onlookers however insisted the fumes could be a smokescreen to hide some kind of celebrations inside the office. The UnReal Times could not even verify whether there was pun intended in this claim. \\nSimilar incidents of smoke over other media houses were reported too. \\nOutside the CNN IBN office, one could see similar fumes rising, triggering alarm bells among onlookers. Again, firecrackers could have been behind the smoke, according to the observers. \\nOutside the India Today office, not only was smoke seen rising in the air but a grey-haired man was seen enthusiastically distributing sweets among strangers. \\nWhen asked, what was he celebrating the man replied, “Should we celebrate Diwali only during Diwali? Why not a day later? Does that mean we have become anti-national?” \\nWhen asked if the celebration had anything to do with the Arnab Goswami resignation, the man replied with a grin, “Shubhratri. Good night!” \\nStrangely, outside the Times Now office, no smoke was detected. Tweet About Amrut Thobbi \\nAmrut Thobbi is an editor by profession, satirist by heart and useless as a person. You can follow him at @amrutti on Twitter or Amrut Thobbi on Facebook. He blogs here': 1})"
      ]
     },
     "execution_count": 12,
     "metadata": {},
     "output_type": "execute_result"
    }
   ],
   "source": [
    "Counter(train['label'])"
   ]
  },
  {
   "cell_type": "code",
   "execution_count": 13,
   "metadata": {
    "scrolled": true
   },
   "outputs": [
    {
     "data": {
      "text/plain": [
       "(33, 6)"
      ]
     },
     "execution_count": 13,
     "metadata": {},
     "output_type": "execute_result"
    }
   ],
   "source": [
    "df1 = train[(train['label'] != 'REAL') & (train['label'] != 'FAKE')]\n",
    "df1.shape"
   ]
  },
  {
   "cell_type": "code",
   "execution_count": 14,
   "metadata": {
    "scrolled": false
   },
   "outputs": [
    {
     "data": {
      "text/html": [
       "<div>\n",
       "<style scoped>\n",
       "    .dataframe tbody tr th:only-of-type {\n",
       "        vertical-align: middle;\n",
       "    }\n",
       "\n",
       "    .dataframe tbody tr th {\n",
       "        vertical-align: top;\n",
       "    }\n",
       "\n",
       "    .dataframe thead th {\n",
       "        text-align: right;\n",
       "    }\n",
       "</style>\n",
       "<table border=\"1\" class=\"dataframe\">\n",
       "  <thead>\n",
       "    <tr style=\"text-align: right;\">\n",
       "      <th></th>\n",
       "      <th>ID</th>\n",
       "      <th>title</th>\n",
       "      <th>text</th>\n",
       "      <th>label</th>\n",
       "      <th>X1</th>\n",
       "      <th>X2</th>\n",
       "    </tr>\n",
       "  </thead>\n",
       "  <tbody>\n",
       "    <tr>\n",
       "      <th>192</th>\n",
       "      <td>599</td>\n",
       "      <td>Election Day: No Legal Pot In Ohio</td>\n",
       "      <td>Democrats Lose In The South</td>\n",
       "      <td>Election Day: No Legal Pot In Ohio; Democrats ...</td>\n",
       "      <td>REAL</td>\n",
       "      <td>NaN</td>\n",
       "    </tr>\n",
       "    <tr>\n",
       "      <th>308</th>\n",
       "      <td>10194</td>\n",
       "      <td>Who rode it best? Jesse Jackson mounts up to f...</td>\n",
       "      <td>Leonardo DiCaprio to the rescue?</td>\n",
       "      <td>Who rode it best? Jesse Jackson mounts up to f...</td>\n",
       "      <td>FAKE</td>\n",
       "      <td>NaN</td>\n",
       "    </tr>\n",
       "    <tr>\n",
       "      <th>382</th>\n",
       "      <td>356</td>\n",
       "      <td>Black Hawk crashes off Florida</td>\n",
       "      <td>human remains found</td>\n",
       "      <td>(CNN) Thick fog forced authorities to suspend ...</td>\n",
       "      <td>REAL</td>\n",
       "      <td>NaN</td>\n",
       "    </tr>\n",
       "    <tr>\n",
       "      <th>660</th>\n",
       "      <td>2786</td>\n",
       "      <td>Afghanistan: 19 die in air attacks on hospital</td>\n",
       "      <td>U.S. investigating</td>\n",
       "      <td>(CNN) Aerial bombardments blew apart a Doctors...</td>\n",
       "      <td>REAL</td>\n",
       "      <td>NaN</td>\n",
       "    </tr>\n",
       "    <tr>\n",
       "      <th>889</th>\n",
       "      <td>3622</td>\n",
       "      <td>Al Qaeda rep says group directed Paris magazin...</td>\n",
       "      <td>US issues travel warning</td>\n",
       "      <td>A member of Al Qaeda's branch in Yemen said Fr...</td>\n",
       "      <td>REAL</td>\n",
       "      <td>NaN</td>\n",
       "    </tr>\n",
       "    <tr>\n",
       "      <th>911</th>\n",
       "      <td>7375</td>\n",
       "      <td>Shallow 5.4 magnitude earthquake rattles centr...</td>\n",
       "      <td>shakes buildings in Rome</td>\n",
       "      <td>00 UTC © USGS Map of the earthquake's epicent...</td>\n",
       "      <td>FAKE</td>\n",
       "      <td>NaN</td>\n",
       "    </tr>\n",
       "    <tr>\n",
       "      <th>1010</th>\n",
       "      <td>9097</td>\n",
       "      <td>ICE Agent Commits Suicide in NYC</td>\n",
       "      <td>Leaves Note Revealing Gov’t Plans to Round-up...</td>\n",
       "      <td>Email Print After writing a lengthy suicide no...</td>\n",
       "      <td>FAKE</td>\n",
       "      <td>NaN</td>\n",
       "    </tr>\n",
       "    <tr>\n",
       "      <th>1043</th>\n",
       "      <td>9203</td>\n",
       "      <td>Political Correctness for Yuengling Brewery</td>\n",
       "      <td>What About Our Opioid Epidemic?</td>\n",
       "      <td>We Are Change \\n\\nIn today’s political climate...</td>\n",
       "      <td>FAKE</td>\n",
       "      <td>NaN</td>\n",
       "    </tr>\n",
       "    <tr>\n",
       "      <th>1218</th>\n",
       "      <td>1602</td>\n",
       "      <td>Poll gives Biden edge over Clinton against GOP...</td>\n",
       "      <td>VP meets with Trumka</td>\n",
       "      <td>A new national poll shows Vice President Biden...</td>\n",
       "      <td>REAL</td>\n",
       "      <td>NaN</td>\n",
       "    </tr>\n",
       "    <tr>\n",
       "      <th>1438</th>\n",
       "      <td>4562</td>\n",
       "      <td>Russia begins airstrikes in Syria</td>\n",
       "      <td>U.S. warns of new concerns in conflict</td>\n",
       "      <td>Russian warplanes began airstrikes in Syria on...</td>\n",
       "      <td>REAL</td>\n",
       "      <td>NaN</td>\n",
       "    </tr>\n",
       "    <tr>\n",
       "      <th>1493</th>\n",
       "      <td>4748</td>\n",
       "      <td>Trump &amp;amp</td>\n",
       "      <td>Clinton Were Very Convincing...on How Lousy t...</td>\n",
       "      <td>Let's pretend for a moment that the biggest he...</td>\n",
       "      <td>REAL</td>\n",
       "      <td>NaN</td>\n",
       "    </tr>\n",
       "    <tr>\n",
       "      <th>1591</th>\n",
       "      <td>3508</td>\n",
       "      <td>Belgian police mount raids</td>\n",
       "      <td>prosecutors acknowledge missed opportunities</td>\n",
       "      <td>Belgian authorities missed a chance to press a...</td>\n",
       "      <td>REAL</td>\n",
       "      <td>NaN</td>\n",
       "    </tr>\n",
       "    <tr>\n",
       "      <th>1630</th>\n",
       "      <td>7559</td>\n",
       "      <td>STATE OF GEORGIA FIRES PASTOR BECAUSE OF HIS F...</td>\n",
       "      <td>GOVERNMENT DIDN’T “APPROVE” BIBLICAL SERMONS</td>\n",
       "      <td>Home › SOCIETY | US NEWS › STATE OF GEORGIA FI...</td>\n",
       "      <td>FAKE</td>\n",
       "      <td>NaN</td>\n",
       "    </tr>\n",
       "    <tr>\n",
       "      <th>1716</th>\n",
       "      <td>3634</td>\n",
       "      <td>The Latest On Paris Attack: Manhunt Continues</td>\n",
       "      <td>Brothers Were On No-Fly List</td>\n",
       "      <td>The Latest On Paris Attack: Manhunt Continues;...</td>\n",
       "      <td>REAL</td>\n",
       "      <td>NaN</td>\n",
       "    </tr>\n",
       "    <tr>\n",
       "      <th>1900</th>\n",
       "      <td>8470</td>\n",
       "      <td>The Amish In America Commit Their Vote To Dona...</td>\n",
       "      <td>Mathematically Guaranteeing Him A Presidentia...</td>\n",
       "      <td>18 SHARE The Amish in America have committed t...</td>\n",
       "      <td>FAKE</td>\n",
       "      <td>NaN</td>\n",
       "    </tr>\n",
       "    <tr>\n",
       "      <th>1968</th>\n",
       "      <td>6404</td>\n",
       "      <td>#BREAKING: SECOND Assassination Attempt On Tru...</td>\n",
       "      <td>Suspect Detained (LIVE BLOG)</td>\n",
       "      <td>We Are Change \\nDonald Trump on Saturday was q...</td>\n",
       "      <td>FAKE</td>\n",
       "      <td>NaN</td>\n",
       "    </tr>\n",
       "    <tr>\n",
       "      <th>2176</th>\n",
       "      <td>10499</td>\n",
       "      <td>30th Infantry Division: “Work Horse of the Wes...</td>\n",
       "      <td>The Big Picture TV-211</td>\n",
       "      <td>Published on Oct 27, 2016 by Jeff Quitney The ...</td>\n",
       "      <td>FAKE</td>\n",
       "      <td>NaN</td>\n",
       "    </tr>\n",
       "    <tr>\n",
       "      <th>2184</th>\n",
       "      <td>9</td>\n",
       "      <td>Planned Parenthood’s lobbying effort</td>\n",
       "      <td>pay raises for federal workers</td>\n",
       "      <td>and the future Fed rates</td>\n",
       "      <td>PLANNED PARENTHOOD’S LOBBYING GETS AGGRESSIVE....</td>\n",
       "      <td>REAL</td>\n",
       "    </tr>\n",
       "    <tr>\n",
       "      <th>2493</th>\n",
       "      <td>10492</td>\n",
       "      <td>TOP BRITISH GENERAL WARNS OF NUCLEAR WAR WITH ...</td>\n",
       "      <td>“THE END OF LIFE AS WE KNOW IT”</td>\n",
       "      <td>Paul Joseph Watson Senior British army officer...</td>\n",
       "      <td>FAKE</td>\n",
       "      <td>NaN</td>\n",
       "    </tr>\n",
       "    <tr>\n",
       "      <th>2549</th>\n",
       "      <td>10138</td>\n",
       "      <td>Inside The Mind Of An FBI Informant</td>\n",
       "      <td>Terri Linnell Admits Role As Gov’t Snitch</td>\n",
       "      <td>Inside The Mind Of An FBI Informant; Terri Lin...</td>\n",
       "      <td>FAKE</td>\n",
       "      <td>NaN</td>\n",
       "    </tr>\n",
       "    <tr>\n",
       "      <th>2880</th>\n",
       "      <td>4953</td>\n",
       "      <td>Gary Johnson Avoids Typical Third-Party Fade</td>\n",
       "      <td>Best Polling Since Perot in ‘92</td>\n",
       "      <td>A couple of weeks ago in this space I pushed b...</td>\n",
       "      <td>REAL</td>\n",
       "      <td>NaN</td>\n",
       "    </tr>\n",
       "    <tr>\n",
       "      <th>2920</th>\n",
       "      <td>496</td>\n",
       "      <td>Nearly 300K New Jobs In February</td>\n",
       "      <td>Unemployment Dips To 5.5 Percent</td>\n",
       "      <td>Nearly 300K New Jobs In February; Unemployment...</td>\n",
       "      <td>REAL</td>\n",
       "      <td>NaN</td>\n",
       "    </tr>\n",
       "    <tr>\n",
       "      <th>3010</th>\n",
       "      <td>5741</td>\n",
       "      <td>Why Trump Won</td>\n",
       "      <td>Why Clinton Lost</td>\n",
       "      <td>WashingtonsBlog \\nBy Robert Parry, the inves...</td>\n",
       "      <td>FAKE</td>\n",
       "      <td>NaN</td>\n",
       "    </tr>\n",
       "    <tr>\n",
       "      <th>3069</th>\n",
       "      <td>4131</td>\n",
       "      <td>Jesse Matthew charged in Hannah Graham's murder</td>\n",
       "      <td>DA will not pursue death penalty</td>\n",
       "      <td>Jesse Matthew Jr., a former hospital worker, w...</td>\n",
       "      <td>REAL</td>\n",
       "      <td>NaN</td>\n",
       "    </tr>\n",
       "    <tr>\n",
       "      <th>3110</th>\n",
       "      <td>8748</td>\n",
       "      <td>WATCH: Mass Shooting Occurs During #TrumpRiot</td>\n",
       "      <td>Media Ignores (Video)</td>\n",
       "      <td>WATCH: Mass Shooting Occurs During #TrumpRio...</td>\n",
       "      <td>FAKE</td>\n",
       "      <td>NaN</td>\n",
       "    </tr>\n",
       "    <tr>\n",
       "      <th>3130</th>\n",
       "      <td>6717</td>\n",
       "      <td>Jim Rogers: It’s Time To Prepare</td>\n",
       "      <td>Economic And Financial Collapse Imminent (VIDEO)</td>\n",
       "      <td>By: The Voice of Reason | Regardless of how mu...</td>\n",
       "      <td>FAKE</td>\n",
       "      <td>NaN</td>\n",
       "    </tr>\n",
       "    <tr>\n",
       "      <th>3210</th>\n",
       "      <td>2943</td>\n",
       "      <td>Islamic State admits defeat in Kobani</td>\n",
       "      <td>blames airstrikes</td>\n",
       "      <td>Islamic State militants have acknowledged for ...</td>\n",
       "      <td>REAL</td>\n",
       "      <td>NaN</td>\n",
       "    </tr>\n",
       "    <tr>\n",
       "      <th>3372</th>\n",
       "      <td>5248</td>\n",
       "      <td>Clinton Cries Racism Tagging Trump with KKK</td>\n",
       "      <td>Trump Says 'She Lies'</td>\n",
       "      <td>With only about 70 days left until the electio...</td>\n",
       "      <td>REAL</td>\n",
       "      <td>NaN</td>\n",
       "    </tr>\n",
       "    <tr>\n",
       "      <th>3478</th>\n",
       "      <td>3624</td>\n",
       "      <td>Suspects In Paris Magazine Attack Killed</td>\n",
       "      <td>Market Gunman And 4 Hostages Also Dead</td>\n",
       "      <td>Suspects In Paris Magazine Attack Killed; Mark...</td>\n",
       "      <td>REAL</td>\n",
       "      <td>NaN</td>\n",
       "    </tr>\n",
       "    <tr>\n",
       "      <th>3537</th>\n",
       "      <td>6268</td>\n",
       "      <td>Chart Of The Day: Since 2009—–Recovery For The 5%</td>\n",
       "      <td>Stagnation for the 95%</td>\n",
       "      <td>Chart Of The Day: Since 2009 Recovery For The 5%</td>\n",
       "      <td>Stagnation for the 95%</td>\n",
       "      <td>FAKE</td>\n",
       "    </tr>\n",
       "    <tr>\n",
       "      <th>3578</th>\n",
       "      <td>2738</td>\n",
       "      <td>Ted Cruz launches bid</td>\n",
       "      <td>Some pundits paint him as scary extremist</td>\n",
       "      <td>Before he got to repealing ObamaCare, before h...</td>\n",
       "      <td>REAL</td>\n",
       "      <td>NaN</td>\n",
       "    </tr>\n",
       "    <tr>\n",
       "      <th>3649</th>\n",
       "      <td>4025</td>\n",
       "      <td>State Dept. IDs 2 Americans killed in Nepal quake</td>\n",
       "      <td>2 others reportedly dead</td>\n",
       "      <td>The State Department identified two Americans ...</td>\n",
       "      <td>REAL</td>\n",
       "      <td>NaN</td>\n",
       "    </tr>\n",
       "    <tr>\n",
       "      <th>3706</th>\n",
       "      <td>9954</td>\n",
       "      <td>Incredible smoke haze seen outside NDTV office...</td>\n",
       "      <td>bursting of firecrackers suspected</td>\n",
       "      <td>Incredible smoke haze seen outside NDTV office...</td>\n",
       "      <td>FAKE</td>\n",
       "      <td>NaN</td>\n",
       "    </tr>\n",
       "  </tbody>\n",
       "</table>\n",
       "</div>"
      ],
      "text/plain": [
       "         ID                                              title  \\\n",
       "192     599                 Election Day: No Legal Pot In Ohio   \n",
       "308   10194  Who rode it best? Jesse Jackson mounts up to f...   \n",
       "382     356                     Black Hawk crashes off Florida   \n",
       "660    2786     Afghanistan: 19 die in air attacks on hospital   \n",
       "889    3622  Al Qaeda rep says group directed Paris magazin...   \n",
       "911    7375  Shallow 5.4 magnitude earthquake rattles centr...   \n",
       "1010   9097                   ICE Agent Commits Suicide in NYC   \n",
       "1043   9203        Political Correctness for Yuengling Brewery   \n",
       "1218   1602  Poll gives Biden edge over Clinton against GOP...   \n",
       "1438   4562                  Russia begins airstrikes in Syria   \n",
       "1493   4748                                         Trump &amp   \n",
       "1591   3508                         Belgian police mount raids   \n",
       "1630   7559  STATE OF GEORGIA FIRES PASTOR BECAUSE OF HIS F...   \n",
       "1716   3634      The Latest On Paris Attack: Manhunt Continues   \n",
       "1900   8470  The Amish In America Commit Their Vote To Dona...   \n",
       "1968   6404  #BREAKING: SECOND Assassination Attempt On Tru...   \n",
       "2176  10499  30th Infantry Division: “Work Horse of the Wes...   \n",
       "2184      9               Planned Parenthood’s lobbying effort   \n",
       "2493  10492  TOP BRITISH GENERAL WARNS OF NUCLEAR WAR WITH ...   \n",
       "2549  10138                Inside The Mind Of An FBI Informant   \n",
       "2880   4953       Gary Johnson Avoids Typical Third-Party Fade   \n",
       "2920    496                   Nearly 300K New Jobs In February   \n",
       "3010   5741                                      Why Trump Won   \n",
       "3069   4131    Jesse Matthew charged in Hannah Graham's murder   \n",
       "3110   8748      WATCH: Mass Shooting Occurs During #TrumpRiot   \n",
       "3130   6717                   Jim Rogers: It’s Time To Prepare   \n",
       "3210   2943              Islamic State admits defeat in Kobani   \n",
       "3372   5248        Clinton Cries Racism Tagging Trump with KKK   \n",
       "3478   3624           Suspects In Paris Magazine Attack Killed   \n",
       "3537   6268  Chart Of The Day: Since 2009—–Recovery For The 5%   \n",
       "3578   2738                              Ted Cruz launches bid   \n",
       "3649   4025  State Dept. IDs 2 Americans killed in Nepal quake   \n",
       "3706   9954  Incredible smoke haze seen outside NDTV office...   \n",
       "\n",
       "                                                   text  \\\n",
       "192                         Democrats Lose In The South   \n",
       "308                    Leonardo DiCaprio to the rescue?   \n",
       "382                                 human remains found   \n",
       "660                                  U.S. investigating   \n",
       "889                            US issues travel warning   \n",
       "911                            shakes buildings in Rome   \n",
       "1010   Leaves Note Revealing Gov’t Plans to Round-up...   \n",
       "1043                    What About Our Opioid Epidemic?   \n",
       "1218                               VP meets with Trumka   \n",
       "1438             U.S. warns of new concerns in conflict   \n",
       "1493   Clinton Were Very Convincing...on How Lousy t...   \n",
       "1591       prosecutors acknowledge missed opportunities   \n",
       "1630       GOVERNMENT DIDN’T “APPROVE” BIBLICAL SERMONS   \n",
       "1716                       Brothers Were On No-Fly List   \n",
       "1900   Mathematically Guaranteeing Him A Presidentia...   \n",
       "1968                       Suspect Detained (LIVE BLOG)   \n",
       "2176                             The Big Picture TV-211   \n",
       "2184                     pay raises for federal workers   \n",
       "2493                    “THE END OF LIFE AS WE KNOW IT”   \n",
       "2549          Terri Linnell Admits Role As Gov’t Snitch   \n",
       "2880                    Best Polling Since Perot in ‘92   \n",
       "2920                   Unemployment Dips To 5.5 Percent   \n",
       "3010                                   Why Clinton Lost   \n",
       "3069                   DA will not pursue death penalty   \n",
       "3110                              Media Ignores (Video)   \n",
       "3130   Economic And Financial Collapse Imminent (VIDEO)   \n",
       "3210                                  blames airstrikes   \n",
       "3372                              Trump Says 'She Lies'   \n",
       "3478             Market Gunman And 4 Hostages Also Dead   \n",
       "3537                             Stagnation for the 95%   \n",
       "3578          Some pundits paint him as scary extremist   \n",
       "3649                           2 others reportedly dead   \n",
       "3706                 bursting of firecrackers suspected   \n",
       "\n",
       "                                                  label  \\\n",
       "192   Election Day: No Legal Pot In Ohio; Democrats ...   \n",
       "308   Who rode it best? Jesse Jackson mounts up to f...   \n",
       "382   (CNN) Thick fog forced authorities to suspend ...   \n",
       "660   (CNN) Aerial bombardments blew apart a Doctors...   \n",
       "889   A member of Al Qaeda's branch in Yemen said Fr...   \n",
       "911    00 UTC © USGS Map of the earthquake's epicent...   \n",
       "1010  Email Print After writing a lengthy suicide no...   \n",
       "1043  We Are Change \\n\\nIn today’s political climate...   \n",
       "1218  A new national poll shows Vice President Biden...   \n",
       "1438  Russian warplanes began airstrikes in Syria on...   \n",
       "1493  Let's pretend for a moment that the biggest he...   \n",
       "1591  Belgian authorities missed a chance to press a...   \n",
       "1630  Home › SOCIETY | US NEWS › STATE OF GEORGIA FI...   \n",
       "1716  The Latest On Paris Attack: Manhunt Continues;...   \n",
       "1900  18 SHARE The Amish in America have committed t...   \n",
       "1968  We Are Change \\nDonald Trump on Saturday was q...   \n",
       "2176  Published on Oct 27, 2016 by Jeff Quitney The ...   \n",
       "2184                           and the future Fed rates   \n",
       "2493  Paul Joseph Watson Senior British army officer...   \n",
       "2549  Inside The Mind Of An FBI Informant; Terri Lin...   \n",
       "2880  A couple of weeks ago in this space I pushed b...   \n",
       "2920  Nearly 300K New Jobs In February; Unemployment...   \n",
       "3010    WashingtonsBlog \\nBy Robert Parry, the inves...   \n",
       "3069  Jesse Matthew Jr., a former hospital worker, w...   \n",
       "3110    WATCH: Mass Shooting Occurs During #TrumpRio...   \n",
       "3130  By: The Voice of Reason | Regardless of how mu...   \n",
       "3210  Islamic State militants have acknowledged for ...   \n",
       "3372  With only about 70 days left until the electio...   \n",
       "3478  Suspects In Paris Magazine Attack Killed; Mark...   \n",
       "3537   Chart Of The Day: Since 2009 Recovery For The 5%   \n",
       "3578  Before he got to repealing ObamaCare, before h...   \n",
       "3649  The State Department identified two Americans ...   \n",
       "3706  Incredible smoke haze seen outside NDTV office...   \n",
       "\n",
       "                                                     X1    X2  \n",
       "192                                                REAL   NaN  \n",
       "308                                                FAKE   NaN  \n",
       "382                                                REAL   NaN  \n",
       "660                                                REAL   NaN  \n",
       "889                                                REAL   NaN  \n",
       "911                                                FAKE   NaN  \n",
       "1010                                               FAKE   NaN  \n",
       "1043                                               FAKE   NaN  \n",
       "1218                                               REAL   NaN  \n",
       "1438                                               REAL   NaN  \n",
       "1493                                               REAL   NaN  \n",
       "1591                                               REAL   NaN  \n",
       "1630                                               FAKE   NaN  \n",
       "1716                                               REAL   NaN  \n",
       "1900                                               FAKE   NaN  \n",
       "1968                                               FAKE   NaN  \n",
       "2176                                               FAKE   NaN  \n",
       "2184  PLANNED PARENTHOOD’S LOBBYING GETS AGGRESSIVE....  REAL  \n",
       "2493                                               FAKE   NaN  \n",
       "2549                                               FAKE   NaN  \n",
       "2880                                               REAL   NaN  \n",
       "2920                                               REAL   NaN  \n",
       "3010                                               FAKE   NaN  \n",
       "3069                                               REAL   NaN  \n",
       "3110                                               FAKE   NaN  \n",
       "3130                                               FAKE   NaN  \n",
       "3210                                               REAL   NaN  \n",
       "3372                                               REAL   NaN  \n",
       "3478                                               REAL   NaN  \n",
       "3537                           Stagnation for the 95%    FAKE  \n",
       "3578                                               REAL   NaN  \n",
       "3649                                               REAL   NaN  \n",
       "3706                                               FAKE   NaN  "
      ]
     },
     "execution_count": 14,
     "metadata": {},
     "output_type": "execute_result"
    }
   ],
   "source": [
    "df1"
   ]
  },
  {
   "cell_type": "markdown",
   "metadata": {},
   "source": [
    "It appears that in X1 are the labels missing on the label variable except for 2 typos, the answer of wich might be in the X2 variable."
   ]
  },
  {
   "cell_type": "code",
   "execution_count": 15,
   "metadata": {},
   "outputs": [
    {
     "data": {
      "text/plain": [
       "ID                                                    9954\n",
       "title    Incredible smoke haze seen outside NDTV office...\n",
       "text                    bursting of firecrackers suspected\n",
       "label    Incredible smoke haze seen outside NDTV office...\n",
       "X1                                                    FAKE\n",
       "X2                                                     NaN\n",
       "Name: 3706, dtype: object"
      ]
     },
     "execution_count": 15,
     "metadata": {},
     "output_type": "execute_result"
    }
   ],
   "source": [
    "train.loc[3706]"
   ]
  },
  {
   "cell_type": "code",
   "execution_count": 16,
   "metadata": {},
   "outputs": [
    {
     "data": {
      "text/plain": [
       "'Incredible smoke haze seen outside NDTV office after Arnab quits'"
      ]
     },
     "execution_count": 16,
     "metadata": {},
     "output_type": "execute_result"
    }
   ],
   "source": [
    "train.loc[3706]['title']"
   ]
  },
  {
   "cell_type": "code",
   "execution_count": 17,
   "metadata": {},
   "outputs": [
    {
     "data": {
      "text/plain": [
       "' bursting of firecrackers suspected'"
      ]
     },
     "execution_count": 17,
     "metadata": {},
     "output_type": "execute_result"
    }
   ],
   "source": [
    "train.loc[3706]['text']"
   ]
  },
  {
   "cell_type": "code",
   "execution_count": 18,
   "metadata": {
    "scrolled": true
   },
   "outputs": [
    {
     "data": {
      "text/plain": [
       "'Incredible smoke haze seen outside NDTV office after Arnab quits; bursting of firecrackers suspected Posted on Tweet (Image via shutterstock.com) \\nAn incredible smoke haze was spotted seen outside the NDTV office on Tuesday. Onlookers claimed that the reason was and uninhibited bursting of firecrackers by people in the building. \\nOne onlooker claimed he also heard loud firecrackers-like noise near the NDTV office area followed by fumes curling up to form a V-sign. \\nExperts say it will be difficult to ascertain the source of the emission. A leading pollution expert opined, “These days such peculiar fumes can be due to firecrackers during the Diwali season or because of pure human emotions giving rise to intense celebrations, revelry, etc.” \\nThis incident, according to the onlooker, happened on Tuesday evening, minutes after the news of journalist Arnab Goswami quitting Times Now surfaced. \\nThe UnReal Times could not verify whether the two events were correlated as the onlooker tried to imply. \\nA few onlookers however insisted the fumes could be a smokescreen to hide some kind of celebrations inside the office. The UnReal Times could not even verify whether there was pun intended in this claim. \\nSimilar incidents of smoke over other media houses were reported too. \\nOutside the CNN IBN office, one could see similar fumes rising, triggering alarm bells among onlookers. Again, firecrackers could have been behind the smoke, according to the observers. \\nOutside the India Today office, not only was smoke seen rising in the air but a grey-haired man was seen enthusiastically distributing sweets among strangers. \\nWhen asked, what was he celebrating the man replied, “Should we celebrate Diwali only during Diwali? Why not a day later? Does that mean we have become anti-national?” \\nWhen asked if the celebration had anything to do with the Arnab Goswami resignation, the man replied with a grin, “Shubhratri. Good night!” \\nStrangely, outside the Times Now office, no smoke was detected. Tweet About Amrut Thobbi \\nAmrut Thobbi is an editor by profession, satirist by heart and useless as a person. You can follow him at @amrutti on Twitter or Amrut Thobbi on Facebook. He blogs here'"
      ]
     },
     "execution_count": 18,
     "metadata": {},
     "output_type": "execute_result"
    }
   ],
   "source": [
    "train.loc[3706]['label']"
   ]
  },
  {
   "cell_type": "markdown",
   "metadata": {},
   "source": [
    "In addition, the variable 'label' seems to contain the information that should be in the 'text' feature. Also, the variable 'text' appears to contain the end of the 'title'. When creating the dataset, it probably considered that ':' meant the 'title' ended. Let's try to confirm this hipothesis with another instance:"
   ]
  },
  {
   "cell_type": "code",
   "execution_count": 19,
   "metadata": {},
   "outputs": [
    {
     "data": {
      "text/plain": [
       "ID                                                     496\n",
       "title                     Nearly 300K New Jobs In February\n",
       "text                      Unemployment Dips To 5.5 Percent\n",
       "label    Nearly 300K New Jobs In February; Unemployment...\n",
       "X1                                                    REAL\n",
       "X2                                                     NaN\n",
       "Name: 2920, dtype: object"
      ]
     },
     "execution_count": 19,
     "metadata": {},
     "output_type": "execute_result"
    }
   ],
   "source": [
    "train.loc[2920]"
   ]
  },
  {
   "cell_type": "code",
   "execution_count": 20,
   "metadata": {},
   "outputs": [
    {
     "data": {
      "text/plain": [
       "'Nearly 300K New Jobs In February'"
      ]
     },
     "execution_count": 20,
     "metadata": {},
     "output_type": "execute_result"
    }
   ],
   "source": [
    "train.loc[2920]['title']"
   ]
  },
  {
   "cell_type": "code",
   "execution_count": 21,
   "metadata": {},
   "outputs": [
    {
     "data": {
      "text/plain": [
       "' Unemployment Dips To 5.5 Percent'"
      ]
     },
     "execution_count": 21,
     "metadata": {},
     "output_type": "execute_result"
    }
   ],
   "source": [
    "train.loc[2920]['text']"
   ]
  },
  {
   "cell_type": "code",
   "execution_count": 22,
   "metadata": {
    "scrolled": true
   },
   "outputs": [
    {
     "data": {
      "text/plain": [
       "'Nearly 300K New Jobs In February; Unemployment Dips To 5.5 Percent\\n\\nThe U.S. economy added 295,000 jobs last month, according to the Labor Department\\'s monthly survey, and the unemployment rate dropped to 5.5 percent. The latest strong data beat expectations and follow a robust jump the previous month — a sign that the nation\\'s economy is finally picking up steam.\\n\\nEconomists had predicted the economy would add 240,000 jobs in February and that the unemployment rate would notch back down to 5.6 percent, where it stood for December. The slight increase in the rate last month was attributed to strong growth in the labor force.\\n\\nThe average workweek for nonfarm payrolls was 34.6 hours, a figure that has held steady for five months. The average hourly wage rose 3 cents, to $24.78.\\n\\nAs NPR\\'s John Ydstie reported this morning ahead of this morning\\'s release by the department\\'s Bureau of Labor Statistics, the report for January \"was stellar on almost every count. It revealed a monthly average for job growth of 336,000 over the previous three months, and it showed strong wage gains after years of disappointing growth.\"\\n\\nFor February, the Labor Department says more jobs were added in food services and drinking places, professional and business services, construction, health care and in transportation and warehousing.\\n\\nThe latest report comes as the Federal Reserve has signaled that it is likely to raise interest rates, possibly as soon as June, based on the generally more robust U.S. economy and concerns about inflation pressures.\\n\\nToday\\'s reports shows 51,000 new jobs last month in professional and business services and 29,000 new jobs in construction. Transportation and warehousing added 19,000 jobs, and the retail sector gained 32,000. Over the past year, construction and retail have collectively gained about 320,000 jobs.\\n\\nReuters reports from London: \"The dollar hit an 11-year high against major currencies on Friday as investors bet the monthly U.S. jobs report would increase the chances of rate hikes, even as the European Central Bank embarks on a 1 trillion euro bond-buying campaign.\"'"
      ]
     },
     "execution_count": 22,
     "metadata": {},
     "output_type": "execute_result"
    }
   ],
   "source": [
    "train.loc[2920]['label']"
   ]
  },
  {
   "cell_type": "markdown",
   "metadata": {},
   "source": [
    "Also, it appears that in the instances saved in 'df1', the title is repeated at the begining of the 'text'.\n",
    "\n",
    "First, I will try to append the variables 'title' and 'text' in order to complete the title in the proper feature:"
   ]
  },
  {
   "cell_type": "code",
   "execution_count": 23,
   "metadata": {},
   "outputs": [],
   "source": [
    "train['title'][(train['label'] != 'REAL') & (train['label'] != 'FAKE')] = df1['title'].str.cat(df1['text'], sep=':')"
   ]
  },
  {
   "cell_type": "code",
   "execution_count": 24,
   "metadata": {},
   "outputs": [
    {
     "data": {
      "text/plain": [
       "'Al Qaeda rep says group directed Paris magazine attack: US issues travel warning'"
      ]
     },
     "execution_count": 24,
     "metadata": {},
     "output_type": "execute_result"
    }
   ],
   "source": [
    "train.loc[889]['title']"
   ]
  },
  {
   "cell_type": "markdown",
   "metadata": {},
   "source": [
    "**On the dataset df1, the titles of the articles are both inside the variable title and at the begining of the article, I think this is a good idea for 2 reasons:**\n",
    "\n",
    "**The models will work better, since only one variable will be considered.**\n",
    "\n",
    "**All the rows will have the same weight.**"
   ]
  },
  {
   "cell_type": "code",
   "execution_count": 25,
   "metadata": {},
   "outputs": [
    {
     "data": {
      "text/plain": [
       "(3966, 6)"
      ]
     },
     "execution_count": 25,
     "metadata": {},
     "output_type": "execute_result"
    }
   ],
   "source": [
    "df_big = train[(train['label'] == 'REAL') | (train['label'] == 'FAKE')]\n",
    "df_big.shape"
   ]
  },
  {
   "cell_type": "code",
   "execution_count": 26,
   "metadata": {},
   "outputs": [],
   "source": [
    "train['text'][(train['label'] == 'REAL') | (train['label'] == 'FAKE')] = df_big['title'].str.cat(df_big['text'], sep='. ')"
   ]
  },
  {
   "cell_type": "code",
   "execution_count": 27,
   "metadata": {},
   "outputs": [
    {
     "data": {
      "text/plain": [
       "\"Donald Trump's lost month in Iowa\""
      ]
     },
     "execution_count": 27,
     "metadata": {},
     "output_type": "execute_result"
    }
   ],
   "source": [
    "train.loc[3333]['title']"
   ]
  },
  {
   "cell_type": "code",
   "execution_count": 28,
   "metadata": {},
   "outputs": [
    {
     "data": {
      "text/plain": [
       "'Donald Trump\\'s lost month in Iowa. West Des Moines, Iowa (CNN) Donald Trump had every reason to feel optimistic Monday. His poll numbers were up; he had secured two prominent endorsements in the space of a week; and even the weather seemed to be cooperating, with a snowstorm coming in from the west expected to hold off until after midnight.\\n\\nAnd then, he lost, coming in second to Ted Cruz\\n\\nTrump spent January in full-on attack mode against Cruz. Trump questioned whether Cruz qualifies as a \"natural-born citizen\" eligible to serve as president. He went after the evangelical vote, winning the endorsement of Liberty University President Jerry Falwell, Jr., but didn\\'t back up the appeals with a ground game. And then he sat out the final debate, opting for a rally across town at the same time.\\n\\nHe acknowledged Tuesday that may have backfired. \"I think some people were disappointed that I didn\\'t go into the debate,\" Trump said in New Hampshire.\\n\\nTrump and his advisers don\\'t have too much time to figure out what went wrong. With Cruz\\'s win and Marco Rubio\\'s much stronger-than-expected finish Monday night, Trump now urgently confronts the danger of the Florida senator chipping away at his establishment backing in upcoming contests.\\n\\nThe second-place finish should serve as a serious reality check for his campaign, which is in large part based on bucking the traditional rules of campaigning and political engagement. Then again, nothing about Trump is conventional.\\n\\n\"People didn\\'t talk about my second place,\" Trump said Tuesday night. \"They didn\\'t talk about it as positively as they should have.\"\\n\\nIn the air but not on the ground\\n\\nThere was nothing traditional about Trump\\'s campaign style in Iowa.\\n\\nThe Trump campaign remained tight-lipped about its efforts to get voters out, sharing little to nothing about its grassroots and volunteer efforts on the ground. The campaign swatted away reports of a lackluster ground game, insisting that its supporters in Iowa would turn out in the end because they were so eager to elect a non-traditional candidate like Trump.\\n\\nIt was only in the final stretch that Trump showed minimal interest in retail politics.\\n\\nHe began holding more than one event a day. In January, he made his first stop at a Pizza Ranch -- the famous restaurant chain that is a favorite among presidential candidates. Trump even slept at a Holiday Inn in one of his final weekends in the state.\\n\\nThe Texas senator crisscrossed the state, ultimately completing the \"full Grassley\" by visiting all 99 counties in the state. His campaign developed a massive grassroots operation, that according to the campaign 12,000 volunteers fanned out cross the state knocking on doors and making phone calls. It also recruited dozens of pastors and county chairs.\\n\\nRubio, in the meantime, came on and surprised everyone at the end. After Thursday\\'s debate, there were rumblings of a Rubio rise, which were tamped down by the Des Moines Register poll released two days before the caucuses that showed the Florida senator in the mid-teens, far ahead of of the others in the establishment lane like Chris Christie and Jeb Bush, but still significantly behind Trump and Cruz.\\n\\nHundreds of Rubio volunteers made phone calls to undecided voters in the days leading up to the caucuses, according to campaign aides. During those calls, they found that a good number of Trump supporters -- some frustrated with the businessman\\'s decision to skip last week\\'s Fox debate -- were switching over to Rubio.\\n\\nTrump had an improbable run as the national front-runner for most of the summer and fall. Then, in December, he started to trail Cruz in Iowa for the first time. Up until that point, the two men had refused to attack one another, seeming to believe that voters would find a messy mud-wrestling match distasteful.\\n\\nBut at the first sign of losing ground to Cruz here, Trump swiftly reversed course.\\n\\nTrump also jabbed at Cruz\\'s anti-establishment credentials, wondering out loud why the senator had failed to disclose large loans from Goldman Sachs and Citibank for his Senate campaign.\\n\\n\"The truth is, he\\'s a nasty guy,\" Trump said in an interview on ABC\\'s \"This Week.\" \"Nobody likes him. Nobody in Congress likes him. Nobody likes him anywhere once they get to know him.\"\\n\\nCruz, who has tried to stay close to Trump without antagonizing the billionaire, finally hit back, calling his rival a man of \"New York values\" and blasting his support for eminent domain. Even then, Cruz and his allies seemed much more conflicted about the strategy and wary that it could backfire.\\n\\nPrior to running for president, Trump had a reputation for being many things: a ruthless, litigious businessman; a colorful reality television star; the ultimate Manhattan socialite.\\n\\nIt wasn\\'t exactly the image of a Bible reading, church-going family man.\\n\\nBut on the stump, the GOP frontrunner sought to sand down those rough edges.\\n\\nTwo consecutive Sundays before the Iowa caucuses, Trump attended morning church services in the state, even breaking from his usual practice of returning to New York City every night to sleep in his own bed.\\n\\nAll of this has been a part of Trump\\'s months-long and intensifying campaign to win over evangelicals in Iowa -- a sizable and influential constituency with real power to sway the outcome of the caucuses. That outreach became all the more critical when Cruz -- the favorite among Hawkeye State evangelical Christians -- bypassed Trump in the polls for the first time in December.\\n\\nCleveland Pastor Darrell Scott, a Trump backer who spearheaded an effort to coalesce African-American pastors around the candidate, said it was difficult to overstate the importance of these endorsements.\\n\\nPalin \"brings a lot of evangelical support with her. Then Jerry Falwell Jr. was the icing on the cake,\" he said.\\n\\nA religious leader like Falwell in particular, Scott said, was key to convincing undecided voters and on-the-fence churchgoers.\\n\\n\"In Christianity, the sheep tends to follow their shepherd. They will trust the wisdom and trust the decision of their pastor,\" Scott said. \"So when my pastor thinks highly of him to endorse him, there must be something there.\"\\n\\nAhead of last week\\'s GOP debate, Trump\\'s long-running feud with Fox News was back in full force.\\n\\nThe billionaire publicly grumbled about debate moderator Megyn Kelly, saying if she couldn\\'t treat him fairly, he may skip the event altogether -- not the first time he had threatened to boycott a debate.\\n\\n\"We learned from a secret back channel that the Ayatollah and Putin both intend to treat Donald Trump unfairly when they meet with him if he becomes president,\" the network\\'s statement read. \"A nefarious source tells us that Trump has his own secret plan to replace the Cabinet with his Twitter followers to see if he should even go to those meetings.\"\\n\\nInstead, less than three miles down the road from the debate, Trump held a rivaling event to benefit wounded veterans. The venue was filled to capacity; political reporters were suddenly split between covering the Trump event and the debate; and the candidate boasted that he had raised nearly $6 million for veterans in a matter of hours.\\n\\nBut while Trump pulled off a political feat in only the way that Trump can, it was clear that the decision rubbed some Iowans the wrong way.\\n\\nAfter all, voters in the Hawkeye State take their responsibly of being first seriously, and the debate that Trump skipped was the final -- and critically important -- debate ahead of the caucuses.\\n\\nSteve Ziller was one of the 29% that disapproved.\\n\\nA farmer from Belmond, Ziller was undecided between Trump and Cruz when he attended a Trump rally in Clear Lake on January 9th. Soon after that event, Ziller said he made the decision to support Trump. But that decision quickly got undone when Trump skipped the debate.\\n\\n\"I just think if he\\'s elected president, he\\'s going to have a lot more tougher issues than dealing with a female reporter from Fox,\" Ziller told CNN the day before the caucuses. \"If he would have showed up to the debate and had a good debate, I would have been a 100% for Trump.\"\\n\\nOn caucus night, Ziller ultimately chose to back Trump. But it wasn\\'t an easy call.\\n\\nAsked whether the decision was difficult, Ziller responded: \"Very.\"'"
      ]
     },
     "execution_count": 28,
     "metadata": {},
     "output_type": "execute_result"
    }
   ],
   "source": [
    "train.loc[3333]['text']"
   ]
  },
  {
   "cell_type": "markdown",
   "metadata": {},
   "source": [
    "Second, I will input the text of the news on the proper variable."
   ]
  },
  {
   "cell_type": "code",
   "execution_count": 29,
   "metadata": {},
   "outputs": [],
   "source": [
    "train['text'][(train['label'] != 'REAL') & (train['label'] != 'FAKE')] = df1['label']"
   ]
  },
  {
   "cell_type": "code",
   "execution_count": 30,
   "metadata": {},
   "outputs": [
    {
     "data": {
      "text/plain": [
       "'Election Day: No Legal Pot In Ohio: Democrats Lose In The South'"
      ]
     },
     "execution_count": 30,
     "metadata": {},
     "output_type": "execute_result"
    }
   ],
   "source": [
    "train.loc[192]['title']"
   ]
  },
  {
   "cell_type": "code",
   "execution_count": 31,
   "metadata": {
    "scrolled": true
   },
   "outputs": [
    {
     "data": {
      "text/plain": [
       "'Election Day: No Legal Pot In Ohio; Democrats Lose In The South\\n\\nTuesday is \"off year\" Election Day in parts of the country. Legalizing marijuana is on the ballot in Ohio, Houston voters will decide on an equal rights ordinance and San Francisco weighs short-term rentals in what\\'s being called the \"Airbnb Initiative.\"\\n\\nElsewhere, eyes are on governor races in Kentucky and Louisiana, and whether Democrats can make any progress in the South.\\n\\nHere\\'s a look at some of the races:\\n\\nHouston voters will decide whether to keep an equal rights ordinance that was approved by the City Council last year. The Houston Equal Rights Ordinance (HERO) would ban discrimination based on sexual orientation and gender identity — criteria not covered by national anti-discrimination laws. The ordinance is hotly debated, particularly after some opposition ads were released. The ads claim that the ordinance would allow men who identify as women to assault women and young girls in bathrooms.\\n\\nHillary Clinton tweeted her support for the ordinance on Oct. 29, writing: \"No one should face discrimination for who they are or who they love — I support efforts for Equality in Houston & beyond. #HERO #YesOnProp1 -H\".\\n\\nA White House spokesman said that President Obama and Vice President Biden were \"confident that the citizens of Houston will vote in favor of fairness and equality.\"\\n\\nUpdate from Houston Public Media: Houston\\'s voters strongly rejected the anti-discrimination measure, with about three-fifths of voters opposed.\\n\\nRepublican Matt Bevin and Democrat Jack Conway are running to replace retiring Gov. Steve Beshear, a Democrat. Although Republicans have aggressively been spending money in the hope of retaining the governor\\'s mansion, Conway has outspent Bevin 4 to 1. This race has been characterized by both candidates accusing each other of lying about their records.\\n\\nUpdate from WFPL in Louisville: Conway conceded the race — the returns late Tuesday night showed Bevin winning with about 53 percent of the vote — and Republicans generally performed well in the state.\\n\\nLouisiana has a gubernatorial election this year but it doesn\\'t work the way you might expect. Louisiana\\'s election system relies on what\\'s called a \"jungle primary.\" In a jungle primary, all candidates regardless of party appear on one ballot. If no one wins 50 percent of the vote, the top two candidates face each other in a runoff election.\\n\\nJohn Bel Edwards, a Democrat and state legislative leader, earned roughly 40 percent of the vote. He now will face Sen. David Vitter, a Republican, in the runoff election on Nov. 21. Vitter has had a tough race so far. His critics have continuously cited his involvement in a 2007 prostitution scandal, in which Vitter\\'s telephone number was found in the records of the so-called D.C. Madam, Deborah Palfrey. Palfrey was accused of running a prostitution ring that made more than $2 million over 13 years.\\n\\nThe \"Clean Elections Initiative\" would increase public funding for candidates to up to $3 million in order to make them more competitive against privately-funded candidates, according to Reuters. The existing law makes up to $2 million available to candidates for state office. The ballot measure would also increase disclosure requirements and increase the penalties for campaign finance violations.\\n\\nUpdate from the Portland Press Herald: The measure passed, with 55 percent of the vote as of late Tuesday:\\n\\nRepublican Gov. Phil Bryant is up for reelection and faces opposition from an unlikely candidate — truck driver and political unknown Robert Gray. According to The Associated Press, Gray didn\\'t even tell his closest relatives that he had signed up to campaign for governor. Bryant has spent roughly $2.7 million this year and reportedly has $1.4 million in the bank. Gray has spent about $3,000 on his campaign in the past three months.\\n\\nUpdate from Mississippi Public Broadcasting: Gray will presumably be back on the road after losing, 67 percent to 32 percent.\\n\\nOhio voters vote on two ballot measures with constitutional amendments that could dramatically change marijuana laws in their state. Issue 3, as one of these two measures is called, would enable landowners or operators of 10 predetermined sites the right to grow commercial marijuana. That\\'s in contradiction to the second measure, Issue 2, which would prohibit monopolies from being enshrined in the state constitution. If both measures pass, there\\'s sure to be lots of confusion.\\n\\nUpdate from WCPN in Cleveland: Voters rejected legal and medical marijuana, with two-thirds voting against Issue 3; Issue 2, the measure rejecting the proposed marijuana oligopoly, was passing 54 percent to 46 percent.\\n\\nSan Franciscans heading to the polls Tuesday will get to vote on Proposition F, colloquially known as the \"Airbnb Initiative.\" The initiative is a ballot measure that would strengthen regulation on the short-term rental of houses and apartments. While Airbnb is likely the biggest company in that niche market, the Los Angeles Times points out that there are other vacation rental companies that would be affected. Right now, residents can rent out their apartment or home for 90 days in a year. Proposition F would limit that rental period to 75 days. The measure is viewed as an attempt to discourage people from taking units off the housing market and using them as short-term apartment rentals. San Francisco has an acute housing shortage.\\n\\nUpdate from KQED in San Francisco: Voters rejected the measure, Proposition F, 55 percent to 45 percent.\\n\\nSeattle voters will decide on a campaign finance measure that\\'s being touted as a national model for campaign finance reform. Ballot initiative I-122, if passed, would create a public financing model in the city. Every resident would receive a $100 voucher to give to the candidate of their choosing. The measure would also limit election campaign contributions from entities receiving city contracts of $250,000 or more, or from people spending more than $5,000 on lobbying.\\n\\nUpdate from KUOW in Seattle: Voters overwhelmingly passed the measure, 60 percent to 40 percent.\\n\\nAll 140 seats of Virginia\\'s General Assembly are up for election today. Republicans currently control the state Senate, 21 seats to 19. Expecting low turnout, both parties have been trying to drive their message home to voters. Republicans are expected to retain their majority in the GA. Democrats hope to take control of the state Senate.\\n\\nUpdate from the Richmond Times-Dispatch: Republicans have kept their majority in the Senate, and their strong control of the General Assembly.'"
      ]
     },
     "execution_count": 31,
     "metadata": {},
     "output_type": "execute_result"
    }
   ],
   "source": [
    "train.loc[192]['text']"
   ]
  },
  {
   "cell_type": "markdown",
   "metadata": {},
   "source": [
    "Third, The content of 'X1' goes into the variable 'label'."
   ]
  },
  {
   "cell_type": "code",
   "execution_count": 32,
   "metadata": {},
   "outputs": [],
   "source": [
    "train['label'][(train['label'] != 'REAL') & (train['label'] != 'FAKE')] = df1['X1']"
   ]
  },
  {
   "cell_type": "code",
   "execution_count": 33,
   "metadata": {},
   "outputs": [
    {
     "data": {
      "text/plain": [
       "ID                                                     599\n",
       "title    Election Day: No Legal Pot In Ohio: Democrats ...\n",
       "text     Election Day: No Legal Pot In Ohio; Democrats ...\n",
       "label                                                 REAL\n",
       "X1                                                    REAL\n",
       "X2                                                     NaN\n",
       "Name: 192, dtype: object"
      ]
     },
     "execution_count": 33,
     "metadata": {},
     "output_type": "execute_result"
    }
   ],
   "source": [
    "train.loc[192]"
   ]
  },
  {
   "cell_type": "markdown",
   "metadata": {},
   "source": [
    "There are still 2 rows without the information in the proper variable:"
   ]
  },
  {
   "cell_type": "code",
   "execution_count": 34,
   "metadata": {
    "scrolled": false
   },
   "outputs": [
    {
     "data": {
      "text/html": [
       "<div>\n",
       "<style scoped>\n",
       "    .dataframe tbody tr th:only-of-type {\n",
       "        vertical-align: middle;\n",
       "    }\n",
       "\n",
       "    .dataframe tbody tr th {\n",
       "        vertical-align: top;\n",
       "    }\n",
       "\n",
       "    .dataframe thead th {\n",
       "        text-align: right;\n",
       "    }\n",
       "</style>\n",
       "<table border=\"1\" class=\"dataframe\">\n",
       "  <thead>\n",
       "    <tr style=\"text-align: right;\">\n",
       "      <th></th>\n",
       "      <th>ID</th>\n",
       "      <th>title</th>\n",
       "      <th>text</th>\n",
       "      <th>label</th>\n",
       "      <th>X1</th>\n",
       "      <th>X2</th>\n",
       "    </tr>\n",
       "  </thead>\n",
       "  <tbody>\n",
       "    <tr>\n",
       "      <th>2184</th>\n",
       "      <td>9</td>\n",
       "      <td>Planned Parenthood’s lobbying effort</td>\n",
       "      <td>pay raises for federal workers</td>\n",
       "      <td>and the future Fed rates</td>\n",
       "      <td>PLANNED PARENTHOOD’S LOBBYING GETS AGGRESSIVE....</td>\n",
       "      <td>REAL</td>\n",
       "    </tr>\n",
       "    <tr>\n",
       "      <th>3537</th>\n",
       "      <td>6268</td>\n",
       "      <td>Chart Of The Day: Since 2009—–Recovery For The 5%</td>\n",
       "      <td>Stagnation for the 95%</td>\n",
       "      <td>Chart Of The Day: Since 2009 Recovery For The 5%</td>\n",
       "      <td>Stagnation for the 95%</td>\n",
       "      <td>FAKE</td>\n",
       "    </tr>\n",
       "  </tbody>\n",
       "</table>\n",
       "</div>"
      ],
      "text/plain": [
       "        ID                                              title  \\\n",
       "2184     9               Planned Parenthood’s lobbying effort   \n",
       "3537  6268  Chart Of The Day: Since 2009—–Recovery For The 5%   \n",
       "\n",
       "                                 text  \\\n",
       "2184   pay raises for federal workers   \n",
       "3537           Stagnation for the 95%   \n",
       "\n",
       "                                                 label  \\\n",
       "2184                          and the future Fed rates   \n",
       "3537  Chart Of The Day: Since 2009 Recovery For The 5%   \n",
       "\n",
       "                                                     X1    X2  \n",
       "2184  PLANNED PARENTHOOD’S LOBBYING GETS AGGRESSIVE....  REAL  \n",
       "3537                           Stagnation for the 95%    FAKE  "
      ]
     },
     "execution_count": 34,
     "metadata": {},
     "output_type": "execute_result"
    }
   ],
   "source": [
    "df2 = df1[(df1['X1'] != 'REAL') & (df1['X1'] != 'FAKE')]\n",
    "df2"
   ]
  },
  {
   "cell_type": "code",
   "execution_count": 35,
   "metadata": {},
   "outputs": [
    {
     "data": {
      "text/plain": [
       "ID                                                    6268\n",
       "title    Chart Of The Day: Since 2009—–Recovery For The...\n",
       "text      Chart Of The Day: Since 2009 Recovery For The 5%\n",
       "label                             Stagnation for the 95%  \n",
       "X1                                Stagnation for the 95%  \n",
       "X2                                                    FAKE\n",
       "Name: 3537, dtype: object"
      ]
     },
     "execution_count": 35,
     "metadata": {},
     "output_type": "execute_result"
    }
   ],
   "source": [
    "train.loc[3537]"
   ]
  },
  {
   "cell_type": "code",
   "execution_count": 36,
   "metadata": {},
   "outputs": [
    {
     "data": {
      "text/plain": [
       "'Chart Of The Day: Since 2009—–Recovery For The 5%: Stagnation for the 95%'"
      ]
     },
     "execution_count": 36,
     "metadata": {},
     "output_type": "execute_result"
    }
   ],
   "source": [
    "train.loc[3537]['title']"
   ]
  },
  {
   "cell_type": "code",
   "execution_count": 37,
   "metadata": {},
   "outputs": [
    {
     "data": {
      "text/plain": [
       "'Chart Of The Day: Since 2009 Recovery For The 5%'"
      ]
     },
     "execution_count": 37,
     "metadata": {},
     "output_type": "execute_result"
    }
   ],
   "source": [
    "train.loc[3537]['text']"
   ]
  },
  {
   "cell_type": "code",
   "execution_count": 38,
   "metadata": {},
   "outputs": [
    {
     "data": {
      "text/plain": [
       "' Stagnation for the 95%  '"
      ]
     },
     "execution_count": 38,
     "metadata": {},
     "output_type": "execute_result"
    }
   ],
   "source": [
    "train.loc[3537]['label']"
   ]
  },
  {
   "cell_type": "code",
   "execution_count": 39,
   "metadata": {},
   "outputs": [
    {
     "data": {
      "text/plain": [
       "' Stagnation for the 95%  '"
      ]
     },
     "execution_count": 39,
     "metadata": {},
     "output_type": "execute_result"
    }
   ],
   "source": [
    "train.loc[3537]['X1']"
   ]
  },
  {
   "cell_type": "markdown",
   "metadata": {},
   "source": [
    "In this instance, the variables 'label' and 'X1' are repeated and the variable 'X2' contains the information that should be contained in 'label'. \n",
    "\n",
    "Let's fix it:"
   ]
  },
  {
   "cell_type": "code",
   "execution_count": 40,
   "metadata": {},
   "outputs": [
    {
     "data": {
      "text/plain": [
       "ID                                                    6268\n",
       "title    Chart Of The Day: Since 2009—–Recovery For The...\n",
       "text      Chart Of The Day: Since 2009 Recovery For The 5%\n",
       "label                                                 FAKE\n",
       "X1                                Stagnation for the 95%  \n",
       "X2                                                    FAKE\n",
       "Name: 3537, dtype: object"
      ]
     },
     "execution_count": 40,
     "metadata": {},
     "output_type": "execute_result"
    }
   ],
   "source": [
    "train['label'][3537] = df1['X2'][3537]\n",
    "train.loc[3537]"
   ]
  },
  {
   "cell_type": "code",
   "execution_count": 41,
   "metadata": {},
   "outputs": [
    {
     "data": {
      "text/plain": [
       "(3998, 6)"
      ]
     },
     "execution_count": 41,
     "metadata": {},
     "output_type": "execute_result"
    }
   ],
   "source": [
    "train = train.drop([3537])\n",
    "train.shape"
   ]
  },
  {
   "cell_type": "code",
   "execution_count": 42,
   "metadata": {},
   "outputs": [
    {
     "data": {
      "text/plain": [
       "ID                                                       9\n",
       "title    Planned Parenthood’s lobbying effort: pay rais...\n",
       "text                              and the future Fed rates\n",
       "label                                                 REAL\n",
       "X1       PLANNED PARENTHOOD’S LOBBYING GETS AGGRESSIVE....\n",
       "X2                                                    REAL\n",
       "Name: 2184, dtype: object"
      ]
     },
     "execution_count": 42,
     "metadata": {},
     "output_type": "execute_result"
    }
   ],
   "source": [
    "train['label'][2184] = train['X2'][2184]\n",
    "train.loc[2184]"
   ]
  },
  {
   "cell_type": "code",
   "execution_count": 43,
   "metadata": {
    "scrolled": true
   },
   "outputs": [
    {
     "data": {
      "text/plain": [
       "'PLANNED PARENTHOOD’S LOBBYING GETS AGGRESSIVE.\\xa0Congress may have spent August away from Washington but Planned Parenthood’s campaign to convince lawmakers to protect the group’s funding followed them back to their home states. Power Post has more.\\n\\n“Lawmakers will raise the stakes when Congress returns next week by threatening to defund the group through the federal appropriations process. Planned Parenthood’s counter-offensive is widespread and varied and is unfolding inside and outside the Beltway. The group has been\\xa0organizing rallies, flooding lawmakers’ town hall meetings, commissioning polls, shelling\\xa0out six figures for television\\xa0ads and\\xa0hiring forensics experts to try to discredit undercover video footage that sparked the controversy. The success of these lobbying efforts will be tested when Congress returns and must move a short-term spending bill to keep the government open. Some conservatives in both chambers are pushing to defund Planned Parenthood, even if a standoff with Democrats leads to a government shutdown.”\\n\\nFEDERAL WORKERS EXPECTED TO GET A PAY HIKE IN JANUARY.\\xa0The stalled appropriations process in Congress means uncertainty for federal agencies and their workers but the White House isn’t waiting around for lawmakers to decide the fate of federal worker pay. Federal Eye’s Eric Yoder reports that President Obama sent a letter on Friday detailing plans for a 1.3 percent pay raise for federal workers.\\n\\n“It prevents what would be a much higher raise from being paid under the complex laws governing federal pay raises should no raise number be enacted into law by the end of the year. Congress could yet set a different figure, but the appropriations bills for 2016 so far have been silent on a raise. That continues a pattern that resulted in 1 percent raises being paid by default in January 2014 and 2015.”\\n\\nRATE HIKE AT THE FED STILL LIKELY.\\xa0Speculation has been rampant in recent months over when the Federal Reserve will increase U.S. interest rates and the Wall Street Journal reports that all signs still point to a rate increase this year.\\n\\n“Inside the Fed, advocates for holding off a rate boost beyond this year aren’t getting much traction. In Jackson Hole, Minneapolis Fed President Narayana Kocherlakota was an isolated voice among officials for sustaining near-zero interest rates. He has lost his share of battles over policy, including the decision last October to end the Fed’s bond-buying program.”'"
      ]
     },
     "execution_count": 43,
     "metadata": {},
     "output_type": "execute_result"
    }
   ],
   "source": [
    "train.loc[2184]['X1']"
   ]
  },
  {
   "cell_type": "markdown",
   "metadata": {},
   "source": [
    "The text of this particular instance appears to be in the X1 variable."
   ]
  },
  {
   "cell_type": "code",
   "execution_count": 44,
   "metadata": {},
   "outputs": [
    {
     "data": {
      "text/plain": [
       "ID                                                       9\n",
       "title    Planned Parenthood’s lobbying effort: pay rais...\n",
       "text     PLANNED PARENTHOOD’S LOBBYING GETS AGGRESSIVE....\n",
       "label                                                 REAL\n",
       "X1       PLANNED PARENTHOOD’S LOBBYING GETS AGGRESSIVE....\n",
       "X2                                                    REAL\n",
       "Name: 2184, dtype: object"
      ]
     },
     "execution_count": 44,
     "metadata": {},
     "output_type": "execute_result"
    }
   ],
   "source": [
    "train['text'][2184] = df1['X1'][2184]\n",
    "train.loc[2184]"
   ]
  },
  {
   "cell_type": "markdown",
   "metadata": {},
   "source": [
    "All the 'df1' dataset should be clean now."
   ]
  },
  {
   "cell_type": "code",
   "execution_count": 45,
   "metadata": {},
   "outputs": [
    {
     "data": {
      "text/html": [
       "<div>\n",
       "<style scoped>\n",
       "    .dataframe tbody tr th:only-of-type {\n",
       "        vertical-align: middle;\n",
       "    }\n",
       "\n",
       "    .dataframe tbody tr th {\n",
       "        vertical-align: top;\n",
       "    }\n",
       "\n",
       "    .dataframe thead th {\n",
       "        text-align: right;\n",
       "    }\n",
       "</style>\n",
       "<table border=\"1\" class=\"dataframe\">\n",
       "  <thead>\n",
       "    <tr style=\"text-align: right;\">\n",
       "      <th></th>\n",
       "      <th>ID</th>\n",
       "      <th>title</th>\n",
       "      <th>text</th>\n",
       "      <th>label</th>\n",
       "      <th>X1</th>\n",
       "      <th>X2</th>\n",
       "    </tr>\n",
       "  </thead>\n",
       "  <tbody>\n",
       "    <tr>\n",
       "      <th>count</th>\n",
       "      <td>3998.000000</td>\n",
       "      <td>3998</td>\n",
       "      <td>3998</td>\n",
       "      <td>3998</td>\n",
       "      <td>32</td>\n",
       "      <td>1</td>\n",
       "    </tr>\n",
       "    <tr>\n",
       "      <th>unique</th>\n",
       "      <td>NaN</td>\n",
       "      <td>3967</td>\n",
       "      <td>3989</td>\n",
       "      <td>2</td>\n",
       "      <td>3</td>\n",
       "      <td>1</td>\n",
       "    </tr>\n",
       "    <tr>\n",
       "      <th>top</th>\n",
       "      <td>NaN</td>\n",
       "      <td>OnPolitics | 's politics blog</td>\n",
       "      <td>OnPolitics | 's politics blog. Who has Trump a...</td>\n",
       "      <td>REAL</td>\n",
       "      <td>REAL</td>\n",
       "      <td>REAL</td>\n",
       "    </tr>\n",
       "    <tr>\n",
       "      <th>freq</th>\n",
       "      <td>NaN</td>\n",
       "      <td>4</td>\n",
       "      <td>2</td>\n",
       "      <td>2008</td>\n",
       "      <td>17</td>\n",
       "      <td>1</td>\n",
       "    </tr>\n",
       "    <tr>\n",
       "      <th>mean</th>\n",
       "      <td>5288.005003</td>\n",
       "      <td>NaN</td>\n",
       "      <td>NaN</td>\n",
       "      <td>NaN</td>\n",
       "      <td>NaN</td>\n",
       "      <td>NaN</td>\n",
       "    </tr>\n",
       "    <tr>\n",
       "      <th>std</th>\n",
       "      <td>3045.352604</td>\n",
       "      <td>NaN</td>\n",
       "      <td>NaN</td>\n",
       "      <td>NaN</td>\n",
       "      <td>NaN</td>\n",
       "      <td>NaN</td>\n",
       "    </tr>\n",
       "    <tr>\n",
       "      <th>min</th>\n",
       "      <td>3.000000</td>\n",
       "      <td>NaN</td>\n",
       "      <td>NaN</td>\n",
       "      <td>NaN</td>\n",
       "      <td>NaN</td>\n",
       "      <td>NaN</td>\n",
       "    </tr>\n",
       "    <tr>\n",
       "      <th>25%</th>\n",
       "      <td>2695.500000</td>\n",
       "      <td>NaN</td>\n",
       "      <td>NaN</td>\n",
       "      <td>NaN</td>\n",
       "      <td>NaN</td>\n",
       "      <td>NaN</td>\n",
       "    </tr>\n",
       "    <tr>\n",
       "      <th>50%</th>\n",
       "      <td>5249.500000</td>\n",
       "      <td>NaN</td>\n",
       "      <td>NaN</td>\n",
       "      <td>NaN</td>\n",
       "      <td>NaN</td>\n",
       "      <td>NaN</td>\n",
       "    </tr>\n",
       "    <tr>\n",
       "      <th>75%</th>\n",
       "      <td>7907.750000</td>\n",
       "      <td>NaN</td>\n",
       "      <td>NaN</td>\n",
       "      <td>NaN</td>\n",
       "      <td>NaN</td>\n",
       "      <td>NaN</td>\n",
       "    </tr>\n",
       "    <tr>\n",
       "      <th>max</th>\n",
       "      <td>10557.000000</td>\n",
       "      <td>NaN</td>\n",
       "      <td>NaN</td>\n",
       "      <td>NaN</td>\n",
       "      <td>NaN</td>\n",
       "      <td>NaN</td>\n",
       "    </tr>\n",
       "  </tbody>\n",
       "</table>\n",
       "</div>"
      ],
      "text/plain": [
       "                  ID                          title  \\\n",
       "count    3998.000000                           3998   \n",
       "unique           NaN                           3967   \n",
       "top              NaN  OnPolitics | 's politics blog   \n",
       "freq             NaN                              4   \n",
       "mean     5288.005003                            NaN   \n",
       "std      3045.352604                            NaN   \n",
       "min         3.000000                            NaN   \n",
       "25%      2695.500000                            NaN   \n",
       "50%      5249.500000                            NaN   \n",
       "75%      7907.750000                            NaN   \n",
       "max     10557.000000                            NaN   \n",
       "\n",
       "                                                     text label    X1    X2  \n",
       "count                                                3998  3998    32     1  \n",
       "unique                                               3989     2     3     1  \n",
       "top     OnPolitics | 's politics blog. Who has Trump a...  REAL  REAL  REAL  \n",
       "freq                                                    2  2008    17     1  \n",
       "mean                                                  NaN   NaN   NaN   NaN  \n",
       "std                                                   NaN   NaN   NaN   NaN  \n",
       "min                                                   NaN   NaN   NaN   NaN  \n",
       "25%                                                   NaN   NaN   NaN   NaN  \n",
       "50%                                                   NaN   NaN   NaN   NaN  \n",
       "75%                                                   NaN   NaN   NaN   NaN  \n",
       "max                                                   NaN   NaN   NaN   NaN  "
      ]
     },
     "execution_count": 45,
     "metadata": {},
     "output_type": "execute_result"
    }
   ],
   "source": [
    "train.describe(include='all')"
   ]
  },
  {
   "cell_type": "markdown",
   "metadata": {},
   "source": [
    "Now that I have the dataset cleaned, I can safely delete **X1** and **X2**."
   ]
  },
  {
   "cell_type": "code",
   "execution_count": 46,
   "metadata": {},
   "outputs": [],
   "source": [
    "del train['X1']\n",
    "del train['X2']"
   ]
  },
  {
   "cell_type": "markdown",
   "metadata": {},
   "source": [
    "## Import test data"
   ]
  },
  {
   "cell_type": "code",
   "execution_count": 47,
   "metadata": {},
   "outputs": [
    {
     "data": {
      "text/html": [
       "<div>\n",
       "<style scoped>\n",
       "    .dataframe tbody tr th:only-of-type {\n",
       "        vertical-align: middle;\n",
       "    }\n",
       "\n",
       "    .dataframe tbody tr th {\n",
       "        vertical-align: top;\n",
       "    }\n",
       "\n",
       "    .dataframe thead th {\n",
       "        text-align: right;\n",
       "    }\n",
       "</style>\n",
       "<table border=\"1\" class=\"dataframe\">\n",
       "  <thead>\n",
       "    <tr style=\"text-align: right;\">\n",
       "      <th></th>\n",
       "      <th>ID</th>\n",
       "      <th>title</th>\n",
       "      <th>text</th>\n",
       "    </tr>\n",
       "  </thead>\n",
       "  <tbody>\n",
       "    <tr>\n",
       "      <th>0</th>\n",
       "      <td>10498</td>\n",
       "      <td>September New Homes Sales Rise——-Back To 1992 ...</td>\n",
       "      <td>September New Homes Sales Rise Back To 1992 Le...</td>\n",
       "    </tr>\n",
       "    <tr>\n",
       "      <th>1</th>\n",
       "      <td>2439</td>\n",
       "      <td>Why The Obamacare Doomsday Cult Can't Admit It...</td>\n",
       "      <td>But when Congress debated and passed the Patie...</td>\n",
       "    </tr>\n",
       "    <tr>\n",
       "      <th>2</th>\n",
       "      <td>864</td>\n",
       "      <td>Sanders, Cruz resist pressure after NY losses,...</td>\n",
       "      <td>The Bernie Sanders and Ted Cruz campaigns vowe...</td>\n",
       "    </tr>\n",
       "  </tbody>\n",
       "</table>\n",
       "</div>"
      ],
      "text/plain": [
       "      ID                                              title  \\\n",
       "0  10498  September New Homes Sales Rise——-Back To 1992 ...   \n",
       "1   2439  Why The Obamacare Doomsday Cult Can't Admit It...   \n",
       "2    864  Sanders, Cruz resist pressure after NY losses,...   \n",
       "\n",
       "                                                text  \n",
       "0  September New Homes Sales Rise Back To 1992 Le...  \n",
       "1  But when Congress debated and passed the Patie...  \n",
       "2  The Bernie Sanders and Ted Cruz campaigns vowe...  "
      ]
     },
     "execution_count": 47,
     "metadata": {},
     "output_type": "execute_result"
    }
   ],
   "source": [
    "test = pd.read_csv('fake_or_real_news_test.csv')\n",
    "test.head(3)"
   ]
  },
  {
   "cell_type": "code",
   "execution_count": 48,
   "metadata": {},
   "outputs": [
    {
     "data": {
      "text/plain": [
       "(2321, 3)"
      ]
     },
     "execution_count": 48,
     "metadata": {},
     "output_type": "execute_result"
    }
   ],
   "source": [
    "test.shape"
   ]
  },
  {
   "cell_type": "markdown",
   "metadata": {},
   "source": [
    "Add target variable."
   ]
  },
  {
   "cell_type": "code",
   "execution_count": 49,
   "metadata": {},
   "outputs": [],
   "source": [
    "test['label'] = np.nan"
   ]
  },
  {
   "cell_type": "code",
   "execution_count": 50,
   "metadata": {},
   "outputs": [
    {
     "data": {
      "text/html": [
       "<div>\n",
       "<style scoped>\n",
       "    .dataframe tbody tr th:only-of-type {\n",
       "        vertical-align: middle;\n",
       "    }\n",
       "\n",
       "    .dataframe tbody tr th {\n",
       "        vertical-align: top;\n",
       "    }\n",
       "\n",
       "    .dataframe thead th {\n",
       "        text-align: right;\n",
       "    }\n",
       "</style>\n",
       "<table border=\"1\" class=\"dataframe\">\n",
       "  <thead>\n",
       "    <tr style=\"text-align: right;\">\n",
       "      <th></th>\n",
       "      <th>ID</th>\n",
       "      <th>title</th>\n",
       "      <th>text</th>\n",
       "      <th>label</th>\n",
       "    </tr>\n",
       "  </thead>\n",
       "  <tbody>\n",
       "    <tr>\n",
       "      <th>count</th>\n",
       "      <td>2321.000000</td>\n",
       "      <td>2321</td>\n",
       "      <td>2321</td>\n",
       "      <td>0.0</td>\n",
       "    </tr>\n",
       "    <tr>\n",
       "      <th>unique</th>\n",
       "      <td>NaN</td>\n",
       "      <td>2310</td>\n",
       "      <td>2246</td>\n",
       "      <td>NaN</td>\n",
       "    </tr>\n",
       "    <tr>\n",
       "      <th>top</th>\n",
       "      <td>NaN</td>\n",
       "      <td>All Governments Lie, The Movie</td>\n",
       "      <td>Killing Obama administration rules, dismantlin...</td>\n",
       "      <td>NaN</td>\n",
       "    </tr>\n",
       "    <tr>\n",
       "      <th>freq</th>\n",
       "      <td>NaN</td>\n",
       "      <td>2</td>\n",
       "      <td>17</td>\n",
       "      <td>NaN</td>\n",
       "    </tr>\n",
       "    <tr>\n",
       "      <th>mean</th>\n",
       "      <td>5261.056010</td>\n",
       "      <td>NaN</td>\n",
       "      <td>NaN</td>\n",
       "      <td>NaN</td>\n",
       "    </tr>\n",
       "    <tr>\n",
       "      <th>std</th>\n",
       "      <td>3028.488104</td>\n",
       "      <td>NaN</td>\n",
       "      <td>NaN</td>\n",
       "      <td>NaN</td>\n",
       "    </tr>\n",
       "    <tr>\n",
       "      <th>min</th>\n",
       "      <td>2.000000</td>\n",
       "      <td>NaN</td>\n",
       "      <td>NaN</td>\n",
       "      <td>NaN</td>\n",
       "    </tr>\n",
       "    <tr>\n",
       "      <th>25%</th>\n",
       "      <td>2630.000000</td>\n",
       "      <td>NaN</td>\n",
       "      <td>NaN</td>\n",
       "      <td>NaN</td>\n",
       "    </tr>\n",
       "    <tr>\n",
       "      <th>50%</th>\n",
       "      <td>5300.000000</td>\n",
       "      <td>NaN</td>\n",
       "      <td>NaN</td>\n",
       "      <td>NaN</td>\n",
       "    </tr>\n",
       "    <tr>\n",
       "      <th>75%</th>\n",
       "      <td>7888.000000</td>\n",
       "      <td>NaN</td>\n",
       "      <td>NaN</td>\n",
       "      <td>NaN</td>\n",
       "    </tr>\n",
       "    <tr>\n",
       "      <th>max</th>\n",
       "      <td>10553.000000</td>\n",
       "      <td>NaN</td>\n",
       "      <td>NaN</td>\n",
       "      <td>NaN</td>\n",
       "    </tr>\n",
       "  </tbody>\n",
       "</table>\n",
       "</div>"
      ],
      "text/plain": [
       "                  ID                           title  \\\n",
       "count    2321.000000                            2321   \n",
       "unique           NaN                            2310   \n",
       "top              NaN  All Governments Lie, The Movie   \n",
       "freq             NaN                               2   \n",
       "mean     5261.056010                             NaN   \n",
       "std      3028.488104                             NaN   \n",
       "min         2.000000                             NaN   \n",
       "25%      2630.000000                             NaN   \n",
       "50%      5300.000000                             NaN   \n",
       "75%      7888.000000                             NaN   \n",
       "max     10553.000000                             NaN   \n",
       "\n",
       "                                                     text  label  \n",
       "count                                                2321    0.0  \n",
       "unique                                               2246    NaN  \n",
       "top     Killing Obama administration rules, dismantlin...    NaN  \n",
       "freq                                                   17    NaN  \n",
       "mean                                                  NaN    NaN  \n",
       "std                                                   NaN    NaN  \n",
       "min                                                   NaN    NaN  \n",
       "25%                                                   NaN    NaN  \n",
       "50%                                                   NaN    NaN  \n",
       "75%                                                   NaN    NaN  \n",
       "max                                                   NaN    NaN  "
      ]
     },
     "execution_count": 50,
     "metadata": {},
     "output_type": "execute_result"
    }
   ],
   "source": [
    "test.describe(include='all')"
   ]
  },
  {
   "cell_type": "markdown",
   "metadata": {},
   "source": [
    "Like I did on the train data, i will append the  title to the article."
   ]
  },
  {
   "cell_type": "code",
   "execution_count": 51,
   "metadata": {},
   "outputs": [],
   "source": [
    "test['text'] = test['title'].str.cat(test['text'], sep='. ')"
   ]
  },
  {
   "cell_type": "code",
   "execution_count": 52,
   "metadata": {},
   "outputs": [
    {
     "data": {
      "text/plain": [
       "'Bombs Ready: The American Blob Is Already Oozing Into Syria - Ryan Cooper'"
      ]
     },
     "execution_count": 52,
     "metadata": {},
     "output_type": "execute_result"
    }
   ],
   "source": [
    "test.loc[864]['title']"
   ]
  },
  {
   "cell_type": "code",
   "execution_count": 53,
   "metadata": {
    "scrolled": true
   },
   "outputs": [
    {
     "data": {
      "text/plain": [
       "\"Bombs Ready: The American Blob Is Already Oozing Into Syria - Ryan Cooper. Politics Bombs Ready: The American Blob Is Already Oozing Into Syria \\nThe US foreign policy establishment is laying the groundwork for Hillary to send the US military against the Syrian state Originally appeared at The Week \\nSyria is in absolute ruins. The ongoing civil war, a disorganized melee involving the Assad regime, various rebel groups, Russia, Iran, ISIS and other Islamists, Turkey, Kurdish forces, and the U.S., has been stuck in stalemate for month after month. Much of the country is in a state of utter collapse, hundreds of thousands have died, and refugees continue to pour into neighboring states and Europe. \\nWith the election of a militarist-inclined Hillary Clinton looking all but certain, the Blob — White House aide Ben Rhodes' apt name for the permanent D.C. foreign policy establishment — is quickly coalescing around a new consensus that existing U.S. intervention should be dramatically scaled up, as Eric Levitz writes . The central policy for this effort is a no-fly zone to be enforced by American air power . \\nThis is a seriously risky policy that stands little chance of meaningfully ameliorating the humanitarian disaster in Syria. But there's virtually nothing at this point that can be done to stop it. \\nThis long background article in Spiegel Online provides a great overview of the dizzying complexity of this conflict, and good context for the debate over escalation. At the risk of stating the obvious, the central factor in the endlessness of the war is that nobody has been able to win. This in turn is the result of a rough parity of support from outside powers, particularly Russia and the U.S. Along with Iran, the former regards Assad as a crucial regional ally and source of an important Russian naval base; without their support the Assad regime would have collapsed years ago. \\nAmerica's main concern, meanwhile, is fighting ISIS, done directly with U.S. forces and through Kurdish proxies, who have carved out a semi-autonomous Kurdish zone in northern Syria connected to Iraqi Kurdistan. \\nThis infuriates Turkey's ( increasingly unhinged ) President Erdogan, due to the longstanding feud between the Turkish government and Kurdish organizations in the south of that country. The Turkish military recently hit Kurdish forces outside Aleppo with airstrikes , killing dozens — right as the Iraqi military and Kurdish troops were in the middle of a long-planned effort to oust ISIS forces from Mosul . This almost can't be a coincidence, and no doubt infuriated U.S. commanders. \\nAwkwardly, Assad's forces are also fighting ISIS, and responded to the Turkish bombardment with a threat to shoot down any more Turkish planes that violated Syrian airspace. \\nIn sum, this is a tremendously complicated conflict, with multiple shifting factions. The U.S. goals — defeat ISIS and remove Assad without helping radical Islamists — are directly at odds with each other. \\nLet's grant for the sake of argument that the Blob is actually motivated by a desire to stop the bloodshed in Syria. (If they were, it would pressure the Saudi government to stop their disastrous war in Yemen instead of refueling their bombers, but that's a different story.) Here, their argument that hesitation on the part of President Obama has prolonged the conflict does have a grain of truth to it. If one great power or another had jumped in with overwhelming military force and steamrolled the opposition (or simply withdrawn from the conflict), the civil war could have ended years ago. \\nThe problem, of course, is what comes after that. Sufficient force to end the war would have meant either an invasion or occupation, which was a disastrous bloody failure in Iraq, or a heavy air power intervention only, which was a disastrous bloody failure in Libya. If there's anything the last 15 years of foreign policy history has shown, it is that the American military is extremely good at smashing organized military forces, and it is extremely bad at establishing any sort of lasting political order in the aftermath. \\nAnd more fundamentally, if hesitation is really the problem, then a no-fly zone has the exact same problem as Obama's current policy. It's an escalation that is far short of the overwhelming force that would be necessary to impose peace on Syria. Why? Probably because the American public shows no sign of supporting the kind of force (read: a massive ground invasion) that would be necessary to impose peace on Syria. \\nWhat a no-fly zone would do, however, is risk immediate conflict with Russia, which has been assisting Assad with lots of air power. It's disturbingly easy to imagine getting into a shooting war with the world's only other nuclear superpower over this. \\nThe general public apathy towards low-key military interventions gives the American president huge latitude to bomb and deploy special forces basically anywhere in the world — which is often devastating to the targeted communities . But the moment that creates large numbers of U.S. casualties, a political backlash is certain. Hillary Clinton, whose 2008 presidential campaign was lost because she supported the invasion of Iraq, probably realizes this, however grudgingly. \\nUltimately, the Blob does not really care about carnage in Syria. Its overwhelming priority is the use of military force, which it views as good by definition. The civil war there is just a convenient pretext. Non-military means to stop violence will be downplayed or ignored — just like the last several consecutive failures of military intervention were, and the probable upcoming failure of the Syrian intervention will be.   SYRIA: Kurds Repel Erdogan's Rebels, Lavrov Warns Ankara, Washington Shrugs Adam Hill Turks on Aleppo Approaches 6,289\""
      ]
     },
     "execution_count": 53,
     "metadata": {},
     "output_type": "execute_result"
    }
   ],
   "source": [
    "test.loc[864]['text']"
   ]
  },
  {
   "cell_type": "markdown",
   "metadata": {},
   "source": [
    "## Join datasets"
   ]
  },
  {
   "cell_type": "code",
   "execution_count": 54,
   "metadata": {},
   "outputs": [
    {
     "data": {
      "text/plain": [
       "(6319, 4)"
      ]
     },
     "execution_count": 54,
     "metadata": {},
     "output_type": "execute_result"
    }
   ],
   "source": [
    "data = train.append(pd.DataFrame(data = test), ignore_index=True)\n",
    "data.shape"
   ]
  },
  {
   "cell_type": "code",
   "execution_count": 55,
   "metadata": {},
   "outputs": [
    {
     "data": {
      "text/html": [
       "<div>\n",
       "<style scoped>\n",
       "    .dataframe tbody tr th:only-of-type {\n",
       "        vertical-align: middle;\n",
       "    }\n",
       "\n",
       "    .dataframe tbody tr th {\n",
       "        vertical-align: top;\n",
       "    }\n",
       "\n",
       "    .dataframe thead th {\n",
       "        text-align: right;\n",
       "    }\n",
       "</style>\n",
       "<table border=\"1\" class=\"dataframe\">\n",
       "  <thead>\n",
       "    <tr style=\"text-align: right;\">\n",
       "      <th></th>\n",
       "      <th>ID</th>\n",
       "      <th>title</th>\n",
       "      <th>text</th>\n",
       "      <th>label</th>\n",
       "    </tr>\n",
       "  </thead>\n",
       "  <tbody>\n",
       "    <tr>\n",
       "      <th>count</th>\n",
       "      <td>6319.000000</td>\n",
       "      <td>6319</td>\n",
       "      <td>6319</td>\n",
       "      <td>3998</td>\n",
       "    </tr>\n",
       "    <tr>\n",
       "      <th>unique</th>\n",
       "      <td>NaN</td>\n",
       "      <td>6240</td>\n",
       "      <td>6290</td>\n",
       "      <td>2</td>\n",
       "    </tr>\n",
       "    <tr>\n",
       "      <th>top</th>\n",
       "      <td>NaN</td>\n",
       "      <td>OnPolitics | 's politics blog</td>\n",
       "      <td>OnPolitics | 's politics blog. Who has Trump a...</td>\n",
       "      <td>REAL</td>\n",
       "    </tr>\n",
       "    <tr>\n",
       "      <th>freq</th>\n",
       "      <td>NaN</td>\n",
       "      <td>5</td>\n",
       "      <td>3</td>\n",
       "      <td>2008</td>\n",
       "    </tr>\n",
       "    <tr>\n",
       "      <th>mean</th>\n",
       "      <td>5278.106504</td>\n",
       "      <td>NaN</td>\n",
       "      <td>NaN</td>\n",
       "      <td>NaN</td>\n",
       "    </tr>\n",
       "    <tr>\n",
       "      <th>std</th>\n",
       "      <td>3038.957018</td>\n",
       "      <td>NaN</td>\n",
       "      <td>NaN</td>\n",
       "      <td>NaN</td>\n",
       "    </tr>\n",
       "    <tr>\n",
       "      <th>min</th>\n",
       "      <td>2.000000</td>\n",
       "      <td>NaN</td>\n",
       "      <td>NaN</td>\n",
       "      <td>NaN</td>\n",
       "    </tr>\n",
       "    <tr>\n",
       "      <th>25%</th>\n",
       "      <td>2670.500000</td>\n",
       "      <td>NaN</td>\n",
       "      <td>NaN</td>\n",
       "      <td>NaN</td>\n",
       "    </tr>\n",
       "    <tr>\n",
       "      <th>50%</th>\n",
       "      <td>5268.000000</td>\n",
       "      <td>NaN</td>\n",
       "      <td>NaN</td>\n",
       "      <td>NaN</td>\n",
       "    </tr>\n",
       "    <tr>\n",
       "      <th>75%</th>\n",
       "      <td>7898.500000</td>\n",
       "      <td>NaN</td>\n",
       "      <td>NaN</td>\n",
       "      <td>NaN</td>\n",
       "    </tr>\n",
       "    <tr>\n",
       "      <th>max</th>\n",
       "      <td>10557.000000</td>\n",
       "      <td>NaN</td>\n",
       "      <td>NaN</td>\n",
       "      <td>NaN</td>\n",
       "    </tr>\n",
       "  </tbody>\n",
       "</table>\n",
       "</div>"
      ],
      "text/plain": [
       "                  ID                          title  \\\n",
       "count    6319.000000                           6319   \n",
       "unique           NaN                           6240   \n",
       "top              NaN  OnPolitics | 's politics blog   \n",
       "freq             NaN                              5   \n",
       "mean     5278.106504                            NaN   \n",
       "std      3038.957018                            NaN   \n",
       "min         2.000000                            NaN   \n",
       "25%      2670.500000                            NaN   \n",
       "50%      5268.000000                            NaN   \n",
       "75%      7898.500000                            NaN   \n",
       "max     10557.000000                            NaN   \n",
       "\n",
       "                                                     text label  \n",
       "count                                                6319  3998  \n",
       "unique                                               6290     2  \n",
       "top     OnPolitics | 's politics blog. Who has Trump a...  REAL  \n",
       "freq                                                    3  2008  \n",
       "mean                                                  NaN   NaN  \n",
       "std                                                   NaN   NaN  \n",
       "min                                                   NaN   NaN  \n",
       "25%                                                   NaN   NaN  \n",
       "50%                                                   NaN   NaN  \n",
       "75%                                                   NaN   NaN  \n",
       "max                                                   NaN   NaN  "
      ]
     },
     "execution_count": 55,
     "metadata": {},
     "output_type": "execute_result"
    }
   ],
   "source": [
    "data.describe(include='all')"
   ]
  },
  {
   "cell_type": "code",
   "execution_count": 56,
   "metadata": {},
   "outputs": [
    {
     "data": {
      "text/plain": [
       "ID          0\n",
       "title       0\n",
       "text        0\n",
       "label    2321\n",
       "dtype: int64"
      ]
     },
     "execution_count": 56,
     "metadata": {},
     "output_type": "execute_result"
    }
   ],
   "source": [
    "data.isnull().sum()"
   ]
  },
  {
   "cell_type": "markdown",
   "metadata": {},
   "source": [
    "We do not have NA's in the data."
   ]
  },
  {
   "cell_type": "code",
   "execution_count": null,
   "metadata": {},
   "outputs": [],
   "source": []
  },
  {
   "cell_type": "markdown",
   "metadata": {},
   "source": [
    "### Save cleaned dataset"
   ]
  },
  {
   "cell_type": "code",
   "execution_count": 57,
   "metadata": {},
   "outputs": [],
   "source": [
    "data.to_csv(\"cdata.csv\", index = False)"
   ]
  },
  {
   "cell_type": "code",
   "execution_count": null,
   "metadata": {},
   "outputs": [],
   "source": []
  }
 ],
 "metadata": {
  "kernelspec": {
   "display_name": "Python 3",
   "language": "python",
   "name": "python3"
  },
  "language_info": {
   "codemirror_mode": {
    "name": "ipython",
    "version": 3
   },
   "file_extension": ".py",
   "mimetype": "text/x-python",
   "name": "python",
   "nbconvert_exporter": "python",
   "pygments_lexer": "ipython3",
   "version": "3.6.5"
  }
 },
 "nbformat": 4,
 "nbformat_minor": 2
}
